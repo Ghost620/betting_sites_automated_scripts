{
 "cells": [
  {
   "cell_type": "code",
   "execution_count": 3,
   "id": "f11b53d5",
   "metadata": {},
   "outputs": [],
   "source": [
    "# from selenium import webdriver\n",
    "# from webdriver_manager.chrome import ChromeDriverManager\n",
    "# from selenium.webdriver.common.keys import Keys\n",
    "# driver = webdriver.Chrome(ChromeDriverManager().install())\n",
    "# driver.get('https://www.betright.com.au/sports/Golf/106')\n",
    "\n",
    "links = [i.get_attribute('href') for i in driver.find_elements_by_xpath(\"//div[@class='ctr--epsilon  soft']/a\")]\n",
    "\n",
    "for i in links:\n",
    "    driver.get(i)\n",
    "    driver.implicitly_wait(10)"
   ]
  },
  {
   "cell_type": "code",
   "execution_count": 5,
   "id": "a3f9527b",
   "metadata": {},
   "outputs": [
    {
     "name": "stderr",
     "output_type": "stream",
     "text": [
      "C:\\Users\\fagho\\anaconda3\\lib\\site-packages\\selenium\\webdriver\\remote\\webdriver.py:483: UserWarning: find_element_by_* commands are deprecated. Please use find_element() instead\n",
      "  warnings.warn(\"find_element_by_* commands are deprecated. Please use find_element() instead\")\n"
     ]
    },
    {
     "data": {
      "text/plain": [
       "<selenium.webdriver.remote.webelement.WebElement (session=\"cf685d4821e4bc18dd3e06435430cb63\", element=\"0eb4b490-9ce6-428e-a45d-07f3db9e7b07\")>"
      ]
     },
     "execution_count": 5,
     "metadata": {},
     "output_type": "execute_result"
    }
   ],
   "source": [
    "driver.find_element_by_xpath(\"/html/body/div[2]/div/section/div/div/ui-view/ui-view/section/div[3]/div/ul\")"
   ]
  },
  {
   "cell_type": "code",
   "execution_count": 54,
   "id": "226e8252",
   "metadata": {},
   "outputs": [
    {
     "ename": "IndexError",
     "evalue": "list index out of range",
     "output_type": "error",
     "traceback": [
      "\u001b[1;31m---------------------------------------------------------------------------\u001b[0m",
      "\u001b[1;31mIndexError\u001b[0m                                Traceback (most recent call last)",
      "\u001b[1;32m<ipython-input-54-9fc43ff866ba>\u001b[0m in \u001b[0;36m<module>\u001b[1;34m\u001b[0m\n\u001b[0;32m     10\u001b[0m         \u001b[0mdriver\u001b[0m\u001b[1;33m.\u001b[0m\u001b[0mfind_elements_by_class_name\u001b[0m\u001b[1;33m(\u001b[0m\u001b[1;34m'flag__body'\u001b[0m\u001b[1;33m)\u001b[0m\u001b[1;33m[\u001b[0m\u001b[0mj\u001b[0m\u001b[1;33m]\u001b[0m\u001b[1;33m.\u001b[0m\u001b[0mclick\u001b[0m\u001b[1;33m(\u001b[0m\u001b[1;33m)\u001b[0m\u001b[1;33m\u001b[0m\u001b[1;33m\u001b[0m\u001b[0m\n\u001b[0;32m     11\u001b[0m         \u001b[1;32mfor\u001b[0m \u001b[0mk\u001b[0m \u001b[1;32min\u001b[0m \u001b[0mrange\u001b[0m\u001b[1;33m(\u001b[0m\u001b[0mlen\u001b[0m\u001b[1;33m(\u001b[0m\u001b[0mdriver\u001b[0m\u001b[1;33m.\u001b[0m\u001b[0mfind_elements_by_xpath\u001b[0m\u001b[1;33m(\u001b[0m\u001b[1;34m'//div[@class=\"flag__row ng-scope\"]'\u001b[0m\u001b[1;33m)\u001b[0m\u001b[1;33m)\u001b[0m\u001b[1;33m)\u001b[0m\u001b[1;33m:\u001b[0m\u001b[1;33m\u001b[0m\u001b[1;33m\u001b[0m\u001b[0m\n\u001b[1;32m---> 12\u001b[1;33m             \u001b[0mTOP10\u001b[0m\u001b[1;33m.\u001b[0m\u001b[0mappend\u001b[0m\u001b[1;33m(\u001b[0m\u001b[0mdriver\u001b[0m\u001b[1;33m.\u001b[0m\u001b[0mfind_elements_by_xpath\u001b[0m\u001b[1;33m(\u001b[0m\u001b[1;34m'//div[@class=\"flag__row ng-scope\"]'\u001b[0m\u001b[1;33m)\u001b[0m\u001b[1;33m[\u001b[0m\u001b[0mk\u001b[0m\u001b[1;33m]\u001b[0m\u001b[1;33m.\u001b[0m\u001b[0mtext\u001b[0m\u001b[1;33m.\u001b[0m\u001b[0msplit\u001b[0m\u001b[1;33m(\u001b[0m\u001b[1;34m'\\n'\u001b[0m\u001b[1;33m)\u001b[0m\u001b[1;33m[\u001b[0m\u001b[1;36m1\u001b[0m\u001b[1;33m]\u001b[0m\u001b[1;33m)\u001b[0m\u001b[1;33m\u001b[0m\u001b[1;33m\u001b[0m\u001b[0m\n\u001b[0m\u001b[0;32m     13\u001b[0m     \u001b[1;32melif\u001b[0m \u001b[1;34m'Top 20'\u001b[0m \u001b[1;32min\u001b[0m \u001b[0mtxt\u001b[0m\u001b[1;33m:\u001b[0m\u001b[1;33m\u001b[0m\u001b[1;33m\u001b[0m\u001b[0m\n\u001b[0;32m     14\u001b[0m         \u001b[0mdriver\u001b[0m\u001b[1;33m.\u001b[0m\u001b[0mfind_elements_by_class_name\u001b[0m\u001b[1;33m(\u001b[0m\u001b[1;34m'flag__body'\u001b[0m\u001b[1;33m)\u001b[0m\u001b[1;33m[\u001b[0m\u001b[0mj\u001b[0m\u001b[1;33m]\u001b[0m\u001b[1;33m.\u001b[0m\u001b[0mclick\u001b[0m\u001b[1;33m(\u001b[0m\u001b[1;33m)\u001b[0m\u001b[1;33m\u001b[0m\u001b[1;33m\u001b[0m\u001b[0m\n",
      "\u001b[1;31mIndexError\u001b[0m: list index out of range"
     ]
    }
   ],
   "source": [
    "Players, TOP5, TOP10, TOP20 = [], [], [], []\n",
    "for j in range(len(driver.find_elements_by_class_name('flag__body'))):\n",
    "    txt = driver.find_elements_by_class_name('flag__body')[j].text\n",
    "    if 'Top 5' in txt:\n",
    "        driver.find_elements_by_class_name('flag__body')[j].click()\n",
    "        for k in range(len(driver.find_elements_by_xpath('//div[@class=\"flag__row ng-scope\"]'))):\n",
    "            Players.append(driver.find_elements_by_xpath('//div[@class=\"flag__row ng-scope\"]')[k].text.split('\\n')[0])\n",
    "            TOP5.append(driver.find_elements_by_xpath('//div[@class=\"flag__row ng-scope\"]')[k].text.split('\\n')[1])\n",
    "    elif 'Top 10' in txt:\n",
    "        driver.find_elements_by_class_name('flag__body')[j].click()\n",
    "        for k in range(len(driver.find_elements_by_xpath('//div[@class=\"flag__row ng-scope\"]'))):\n",
    "            TOP10.append(driver.find_elements_by_xpath('//div[@class=\"flag__row ng-scope\"]')[k].text.split('\\n')[1])\n",
    "    elif 'Top 20' in txt:\n",
    "        driver.find_elements_by_class_name('flag__body')[j].click()\n",
    "        for k in range(len(driver.find_elements_by_xpath('//div[@class=\"flag__row ng-scope\"]'))):\n",
    "            TOP20.append(driver.find_elements_by_xpath('//div[@class=\"flag__row ng-scope\"]')[k].text.split('\\n')[1])"
   ]
  },
  {
   "cell_type": "code",
   "execution_count": 59,
   "id": "7e0eb81e",
   "metadata": {
    "collapsed": true
   },
   "outputs": [
    {
     "name": "stdout",
     "output_type": "stream",
     "text": [
      "Jon Rahm\n",
      "1.60\n",
      "Justin Thomas\n",
      "1.62\n",
      "Collin Morikawa\n",
      "1.77\n",
      "Viktor Hovland\n",
      "1.80\n",
      "Bryson DeChambeau\n",
      "1.85\n",
      "Xander Schauffele\n",
      "1.87\n",
      "Patrick Cantlay\n",
      "1.95\n",
      "Sam Burns\n",
      "2.15\n",
      "Cameron Smith\n",
      "2.35\n",
      "Hideki Matsuyama\n",
      "2.35\n",
      "Jordan Spieth\n",
      "2.35\n",
      "Daniel Berger\n",
      "2.40\n",
      "Tony Finau\n",
      "2.60\n",
      "Brooks Koepka\n",
      "2.65\n",
      "Abraham Ancer\n",
      "2.70\n",
      "Patrick Reed\n",
      "2.70\n",
      "Harris English\n",
      "2.80\n",
      "Jason Kokrak\n",
      "2.85\n",
      "Marc Leishman\n",
      "3.00\n",
      "Talor Gooch\n",
      "3.25\n",
      "Billy Horschel\n",
      "4.00\n",
      "Kevin Na\n",
      "4.00\n",
      "Seamus Power\n",
      "4.25\n",
      "Si Woo Kim\n",
      "4.25\n",
      "Max Homa\n",
      "4.50\n",
      "Erik van Rooyen\n",
      "5.00\n",
      "Lucas Herbert\n",
      "5.00\n",
      "Branden Grace\n",
      "5.50\n",
      "Joel Dahmen\n",
      "5.50\n",
      "Kyoung Hoon Lee\n",
      "5.50\n",
      "Phil Mickelson\n",
      "5.50\n",
      "Cameron Davis\n",
      "6.00\n",
      "Garrick Higgo\n",
      "6.00\n",
      "Matt Jones\n",
      "6.50\n",
      "Kevin Kisner\n",
      "7.00\n",
      "Lucas Glover\n",
      "7.50\n",
      "Stewart Cink\n",
      "8.00\n"
     ]
    }
   ],
   "source": [
    "for k in range(len(driver.find_elements_by_xpath('//div[@class=\"flag__row ng-scope\"]'))):\n",
    "    print(driver.find_elements_by_xpath('//div[@class=\"flag__row ng-scope\"]')[k].text)"
   ]
  },
  {
   "cell_type": "code",
   "execution_count": 60,
   "id": "3fa5149b",
   "metadata": {},
   "outputs": [
    {
     "data": {
      "text/plain": [
       "37"
      ]
     },
     "execution_count": 60,
     "metadata": {},
     "output_type": "execute_result"
    }
   ],
   "source": [
    "len(driver.find_elements_by_xpath('//div[@class=\"flag__row ng-scope\"]'))"
   ]
  },
  {
   "cell_type": "code",
   "execution_count": null,
   "id": "0406d36c",
   "metadata": {},
   "outputs": [],
   "source": []
  }
 ],
 "metadata": {
  "kernelspec": {
   "display_name": "Python 3",
   "language": "python",
   "name": "python3"
  },
  "language_info": {
   "codemirror_mode": {
    "name": "ipython",
    "version": 3
   },
   "file_extension": ".py",
   "mimetype": "text/x-python",
   "name": "python",
   "nbconvert_exporter": "python",
   "pygments_lexer": "ipython3",
   "version": "3.8.8"
  }
 },
 "nbformat": 4,
 "nbformat_minor": 5
}
