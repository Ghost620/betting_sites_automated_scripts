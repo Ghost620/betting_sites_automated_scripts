{
 "cells": [
  {
   "cell_type": "code",
   "execution_count": 1,
   "id": "e7c68533",
   "metadata": {},
   "outputs": [],
   "source": [
    "from selenium import webdriver\n",
    "from webdriver_manager.chrome import ChromeDriverManager\n",
    "from selenium.webdriver.common.keys import Keys\n",
    "import time\n",
    "driver = webdriver.Chrome()\n",
    "driver.get('https://www.bluebet.com.au/sports/Golf/106')\n",
    "driver.implicitly_wait(100)\n"
   ]
  },
  {
   "cell_type": "code",
   "execution_count": 2,
   "id": "a5b2ba6b",
   "metadata": {},
   "outputs": [
    {
     "name": "stderr",
     "output_type": "stream",
     "text": [
      "C:\\Users\\fagho\\anaconda3\\lib\\site-packages\\selenium\\webdriver\\remote\\webdriver.py:702: UserWarning: find_elements_by_* commands are deprecated. Please use find_elements() instead\n",
      "  warnings.warn(\"find_elements_by_* commands are deprecated. Please use find_elements() instead\")\n"
     ]
    }
   ],
   "source": [
    "for i in range(len(driver.find_elements_by_class_name('MuiCardContent-root '))):\n",
    "    driver.find_elements_by_class_name('MuiCardContent-root ')[i].click()\n",
    "    time.sleep(5)\n",
    "    \n",
    "    \n",
    "    \n",
    "    \n",
    "    \n",
    "    \n",
    "    driver.back()\n",
    "    time.sleep(5)"
   ]
  },
  {
   "cell_type": "code",
   "execution_count": 47,
   "id": "f2f608b4",
   "metadata": {
    "collapsed": true
   },
   "outputs": [
    {
     "ename": "NoSuchElementException",
     "evalue": "Message: no such element: Unable to locate element: {\"method\":\"xpath\",\"selector\":\"//*[@id='__next']/div[1]/main/div[3]/section/nav/div[0]\"}\n  (Session info: chrome=94.0.4606.71)\nStacktrace:\nBacktrace:\n\tOrdinal0 [0x006FBDE3+2473443]\n\tOrdinal0 [0x00696661+2057825]\n\tOrdinal0 [0x005A2438+1057848]\n\tOrdinal0 [0x005CC7DB+1230811]\n\tOrdinal0 [0x005F6712+1402642]\n\tOrdinal0 [0x005E571A+1333018]\n\tOrdinal0 [0x005F4ABF+1395391]\n\tOrdinal0 [0x005E55AB+1332651]\n\tOrdinal0 [0x005C2104+1188100]\n\tOrdinal0 [0x005C2F59+1191769]\n\tGetHandleVerifier [0x00882266+1549718]\n\tGetHandleVerifier [0x0092D4A7+2250711]\n\tGetHandleVerifier [0x0078718B+521403]\n\tGetHandleVerifier [0x00786229+517465]\n\tOrdinal0 [0x0069B79D+2078621]\n\tOrdinal0 [0x0069FB58+2095960]\n\tOrdinal0 [0x0069FC92+2096274]\n\tOrdinal0 [0x006A9541+2135361]\n\tBaseThreadInitThunk [0x7570FA29+25]\n\tRtlGetAppContainerNamedObjectPath [0x774B7A9E+286]\n\tRtlGetAppContainerNamedObjectPath [0x774B7A6E+238]\n",
     "output_type": "error",
     "traceback": [
      "\u001b[1;31m---------------------------------------------------------------------------\u001b[0m",
      "\u001b[1;31mNoSuchElementException\u001b[0m                    Traceback (most recent call last)",
      "\u001b[1;32m<ipython-input-47-2c123101e04d>\u001b[0m in \u001b[0;36m<module>\u001b[1;34m\u001b[0m\n\u001b[0;32m      1\u001b[0m \u001b[1;32mfor\u001b[0m \u001b[0mj\u001b[0m \u001b[1;32min\u001b[0m \u001b[0mrange\u001b[0m\u001b[1;33m(\u001b[0m\u001b[0mlen\u001b[0m\u001b[1;33m(\u001b[0m\u001b[0mdriver\u001b[0m\u001b[1;33m.\u001b[0m\u001b[0mfind_elements_by_xpath\u001b[0m\u001b[1;33m(\u001b[0m\u001b[1;34m\"//*[@id='__next']/div[1]/main/div[3]/section/nav/div\"\u001b[0m\u001b[1;33m)\u001b[0m\u001b[1;33m)\u001b[0m\u001b[1;33m)\u001b[0m\u001b[1;33m:\u001b[0m\u001b[1;33m\u001b[0m\u001b[1;33m\u001b[0m\u001b[0m\n\u001b[1;32m----> 2\u001b[1;33m     \u001b[0mdriver\u001b[0m\u001b[1;33m.\u001b[0m\u001b[0mfind_element_by_xpath\u001b[0m\u001b[1;33m(\u001b[0m\u001b[1;34mf\"//*[@id='__next']/div[1]/main/div[3]/section/nav/div[{j}]\"\u001b[0m\u001b[1;33m)\u001b[0m\u001b[1;33m.\u001b[0m\u001b[0mclick\u001b[0m\u001b[1;33m(\u001b[0m\u001b[1;33m)\u001b[0m\u001b[1;33m\u001b[0m\u001b[1;33m\u001b[0m\u001b[0m\n\u001b[0m",
      "\u001b[1;32m~\\anaconda3\\lib\\site-packages\\selenium\\webdriver\\remote\\webdriver.py\u001b[0m in \u001b[0;36mfind_element_by_xpath\u001b[1;34m(self, xpath)\u001b[0m\n\u001b[0;32m    482\u001b[0m         \"\"\"\n\u001b[0;32m    483\u001b[0m         \u001b[0mwarnings\u001b[0m\u001b[1;33m.\u001b[0m\u001b[0mwarn\u001b[0m\u001b[1;33m(\u001b[0m\u001b[1;34m\"find_element_by_* commands are deprecated. Please use find_element() instead\"\u001b[0m\u001b[1;33m)\u001b[0m\u001b[1;33m\u001b[0m\u001b[1;33m\u001b[0m\u001b[0m\n\u001b[1;32m--> 484\u001b[1;33m         \u001b[1;32mreturn\u001b[0m \u001b[0mself\u001b[0m\u001b[1;33m.\u001b[0m\u001b[0mfind_element\u001b[0m\u001b[1;33m(\u001b[0m\u001b[0mby\u001b[0m\u001b[1;33m=\u001b[0m\u001b[0mBy\u001b[0m\u001b[1;33m.\u001b[0m\u001b[0mXPATH\u001b[0m\u001b[1;33m,\u001b[0m \u001b[0mvalue\u001b[0m\u001b[1;33m=\u001b[0m\u001b[0mxpath\u001b[0m\u001b[1;33m)\u001b[0m\u001b[1;33m\u001b[0m\u001b[1;33m\u001b[0m\u001b[0m\n\u001b[0m\u001b[0;32m    485\u001b[0m \u001b[1;33m\u001b[0m\u001b[0m\n\u001b[0;32m    486\u001b[0m     \u001b[1;32mdef\u001b[0m \u001b[0mfind_elements_by_xpath\u001b[0m\u001b[1;33m(\u001b[0m\u001b[0mself\u001b[0m\u001b[1;33m,\u001b[0m \u001b[0mxpath\u001b[0m\u001b[1;33m)\u001b[0m \u001b[1;33m->\u001b[0m \u001b[0mWebElement\u001b[0m\u001b[1;33m:\u001b[0m\u001b[1;33m\u001b[0m\u001b[1;33m\u001b[0m\u001b[0m\n",
      "\u001b[1;32m~\\anaconda3\\lib\\site-packages\\selenium\\webdriver\\remote\\webdriver.py\u001b[0m in \u001b[0;36mfind_element\u001b[1;34m(self, by, value)\u001b[0m\n\u001b[0;32m   1151\u001b[0m             \u001b[0mvalue\u001b[0m \u001b[1;33m=\u001b[0m \u001b[1;34m'[name=\"%s\"]'\u001b[0m \u001b[1;33m%\u001b[0m \u001b[0mvalue\u001b[0m\u001b[1;33m\u001b[0m\u001b[1;33m\u001b[0m\u001b[0m\n\u001b[0;32m   1152\u001b[0m \u001b[1;33m\u001b[0m\u001b[0m\n\u001b[1;32m-> 1153\u001b[1;33m         return self.execute(Command.FIND_ELEMENT, {\n\u001b[0m\u001b[0;32m   1154\u001b[0m             \u001b[1;34m'using'\u001b[0m\u001b[1;33m:\u001b[0m \u001b[0mby\u001b[0m\u001b[1;33m,\u001b[0m\u001b[1;33m\u001b[0m\u001b[1;33m\u001b[0m\u001b[0m\n\u001b[0;32m   1155\u001b[0m             'value': value})['value']\n",
      "\u001b[1;32m~\\anaconda3\\lib\\site-packages\\selenium\\webdriver\\remote\\webdriver.py\u001b[0m in \u001b[0;36mexecute\u001b[1;34m(self, driver_command, params)\u001b[0m\n\u001b[0;32m    398\u001b[0m         \u001b[0mresponse\u001b[0m \u001b[1;33m=\u001b[0m \u001b[0mself\u001b[0m\u001b[1;33m.\u001b[0m\u001b[0mcommand_executor\u001b[0m\u001b[1;33m.\u001b[0m\u001b[0mexecute\u001b[0m\u001b[1;33m(\u001b[0m\u001b[0mdriver_command\u001b[0m\u001b[1;33m,\u001b[0m \u001b[0mparams\u001b[0m\u001b[1;33m)\u001b[0m\u001b[1;33m\u001b[0m\u001b[1;33m\u001b[0m\u001b[0m\n\u001b[0;32m    399\u001b[0m         \u001b[1;32mif\u001b[0m \u001b[0mresponse\u001b[0m\u001b[1;33m:\u001b[0m\u001b[1;33m\u001b[0m\u001b[1;33m\u001b[0m\u001b[0m\n\u001b[1;32m--> 400\u001b[1;33m             \u001b[0mself\u001b[0m\u001b[1;33m.\u001b[0m\u001b[0merror_handler\u001b[0m\u001b[1;33m.\u001b[0m\u001b[0mcheck_response\u001b[0m\u001b[1;33m(\u001b[0m\u001b[0mresponse\u001b[0m\u001b[1;33m)\u001b[0m\u001b[1;33m\u001b[0m\u001b[1;33m\u001b[0m\u001b[0m\n\u001b[0m\u001b[0;32m    401\u001b[0m             response['value'] = self._unwrap_value(\n\u001b[0;32m    402\u001b[0m                 response.get('value', None))\n",
      "\u001b[1;32m~\\anaconda3\\lib\\site-packages\\selenium\\webdriver\\remote\\errorhandler.py\u001b[0m in \u001b[0;36mcheck_response\u001b[1;34m(self, response)\u001b[0m\n\u001b[0;32m    234\u001b[0m                 \u001b[0malert_text\u001b[0m \u001b[1;33m=\u001b[0m \u001b[0mvalue\u001b[0m\u001b[1;33m[\u001b[0m\u001b[1;34m'alert'\u001b[0m\u001b[1;33m]\u001b[0m\u001b[1;33m.\u001b[0m\u001b[0mget\u001b[0m\u001b[1;33m(\u001b[0m\u001b[1;34m'text'\u001b[0m\u001b[1;33m)\u001b[0m\u001b[1;33m\u001b[0m\u001b[1;33m\u001b[0m\u001b[0m\n\u001b[0;32m    235\u001b[0m             \u001b[1;32mraise\u001b[0m \u001b[0mexception_class\u001b[0m\u001b[1;33m(\u001b[0m\u001b[0mmessage\u001b[0m\u001b[1;33m,\u001b[0m \u001b[0mscreen\u001b[0m\u001b[1;33m,\u001b[0m \u001b[0mstacktrace\u001b[0m\u001b[1;33m,\u001b[0m \u001b[0malert_text\u001b[0m\u001b[1;33m)\u001b[0m\u001b[1;33m\u001b[0m\u001b[1;33m\u001b[0m\u001b[0m\n\u001b[1;32m--> 236\u001b[1;33m         \u001b[1;32mraise\u001b[0m \u001b[0mexception_class\u001b[0m\u001b[1;33m(\u001b[0m\u001b[0mmessage\u001b[0m\u001b[1;33m,\u001b[0m \u001b[0mscreen\u001b[0m\u001b[1;33m,\u001b[0m \u001b[0mstacktrace\u001b[0m\u001b[1;33m)\u001b[0m\u001b[1;33m\u001b[0m\u001b[1;33m\u001b[0m\u001b[0m\n\u001b[0m\u001b[0;32m    237\u001b[0m \u001b[1;33m\u001b[0m\u001b[0m\n\u001b[0;32m    238\u001b[0m     \u001b[1;32mdef\u001b[0m \u001b[0m_value_or_default\u001b[0m\u001b[1;33m(\u001b[0m\u001b[0mself\u001b[0m\u001b[1;33m,\u001b[0m \u001b[0mobj\u001b[0m\u001b[1;33m,\u001b[0m \u001b[0mkey\u001b[0m\u001b[1;33m,\u001b[0m \u001b[0mdefault\u001b[0m\u001b[1;33m)\u001b[0m\u001b[1;33m:\u001b[0m\u001b[1;33m\u001b[0m\u001b[1;33m\u001b[0m\u001b[0m\n",
      "\u001b[1;31mNoSuchElementException\u001b[0m: Message: no such element: Unable to locate element: {\"method\":\"xpath\",\"selector\":\"//*[@id='__next']/div[1]/main/div[3]/section/nav/div[0]\"}\n  (Session info: chrome=94.0.4606.71)\nStacktrace:\nBacktrace:\n\tOrdinal0 [0x006FBDE3+2473443]\n\tOrdinal0 [0x00696661+2057825]\n\tOrdinal0 [0x005A2438+1057848]\n\tOrdinal0 [0x005CC7DB+1230811]\n\tOrdinal0 [0x005F6712+1402642]\n\tOrdinal0 [0x005E571A+1333018]\n\tOrdinal0 [0x005F4ABF+1395391]\n\tOrdinal0 [0x005E55AB+1332651]\n\tOrdinal0 [0x005C2104+1188100]\n\tOrdinal0 [0x005C2F59+1191769]\n\tGetHandleVerifier [0x00882266+1549718]\n\tGetHandleVerifier [0x0092D4A7+2250711]\n\tGetHandleVerifier [0x0078718B+521403]\n\tGetHandleVerifier [0x00786229+517465]\n\tOrdinal0 [0x0069B79D+2078621]\n\tOrdinal0 [0x0069FB58+2095960]\n\tOrdinal0 [0x0069FC92+2096274]\n\tOrdinal0 [0x006A9541+2135361]\n\tBaseThreadInitThunk [0x7570FA29+25]\n\tRtlGetAppContainerNamedObjectPath [0x774B7A9E+286]\n\tRtlGetAppContainerNamedObjectPath [0x774B7A6E+238]\n"
     ]
    }
   ],
   "source": [
    "for j in range(len(driver.find_elements_by_xpath(\"//*[@id='__next']/div[1]/main/div[3]/section/nav/div\"))):\n",
    "    driver.find_element_by_xpath(f\"//*[@id='__next']/div[1]/main/div[3]/section/nav/div[{j}]\").click()\n"
   ]
  },
  {
   "cell_type": "code",
   "execution_count": 32,
   "id": "77f0b426",
   "metadata": {},
   "outputs": [],
   "source": [
    "driver.find_element_by_xpath(\"//*[@id='__next']/div[1]/main/div[3]/section/nav/div[6]/div/div/nav/div[2]/div/div/ul/button\").click()"
   ]
  },
  {
   "cell_type": "code",
   "execution_count": 35,
   "id": "afbbee72",
   "metadata": {},
   "outputs": [
    {
     "name": "stderr",
     "output_type": "stream",
     "text": [
      "C:\\Users\\fagho\\anaconda3\\lib\\site-packages\\selenium\\webdriver\\remote\\webdriver.py:683: UserWarning: find_element_by_* commands are deprecated. Please use find_element() instead\n",
      "  warnings.warn(\"find_element_by_* commands are deprecated. Please use find_element() instead\")\n"
     ]
    },
    {
     "data": {
      "text/plain": [
       "'Golf Betting'"
      ]
     },
     "execution_count": 35,
     "metadata": {},
     "output_type": "execute_result"
    }
   ],
   "source": [
    "driver.find_element_by_class_name('MuiButton-label').text"
   ]
  },
  {
   "cell_type": "code",
   "execution_count": null,
   "id": "dfd6355d",
   "metadata": {},
   "outputs": [],
   "source": [
    "//*[@id=\"__next\"]/div[1]/main/div[3]/section/nav/div[2]/div/div/nav/div[2]/div/div/ul/button"
   ]
  },
  {
   "cell_type": "code",
   "execution_count": 41,
   "id": "b8dfc22b",
   "metadata": {},
   "outputs": [
    {
     "data": {
      "text/plain": [
       "[<selenium.webdriver.remote.webelement.WebElement (session=\"746bb0e8770ee13d5de1432e7ef5408e\", element=\"5b82837f-181d-4ae6-af37-a06d1feb9990\")>,\n",
       " <selenium.webdriver.remote.webelement.WebElement (session=\"746bb0e8770ee13d5de1432e7ef5408e\", element=\"0fabc61a-d653-4b65-a052-5c34c2f644b4\")>,\n",
       " <selenium.webdriver.remote.webelement.WebElement (session=\"746bb0e8770ee13d5de1432e7ef5408e\", element=\"f7dd5c70-aa66-4cbc-a9a4-3cf1b07b3bd6\")>,\n",
       " <selenium.webdriver.remote.webelement.WebElement (session=\"746bb0e8770ee13d5de1432e7ef5408e\", element=\"18def17b-9b5d-4590-b2e8-77da86663fd9\")>,\n",
       " <selenium.webdriver.remote.webelement.WebElement (session=\"746bb0e8770ee13d5de1432e7ef5408e\", element=\"f70b9063-0e78-4897-96d9-78ae96d56f51\")>]"
      ]
     },
     "execution_count": 41,
     "metadata": {},
     "output_type": "execute_result"
    }
   ],
   "source": [
    "driver.find_elements_by_xpath(\"//section[@class='jss175']/nav/div\")"
   ]
  },
  {
   "cell_type": "code",
   "execution_count": 7,
   "id": "15bc5042",
   "metadata": {},
   "outputs": [
    {
     "data": {
      "text/plain": [
       "'R10\\nSan Isidro\\n35m'"
      ]
     },
     "execution_count": 7,
     "metadata": {},
     "output_type": "execute_result"
    }
   ],
   "source": [
    "driver.find_elements_by_xpath('//*[@id=\"__next\"]/div[1]/main/div[3]/section/nav[1]/div/div/div/a')\n"
   ]
  },
  {
   "cell_type": "code",
   "execution_count": 11,
   "id": "bdfecdf9",
   "metadata": {},
   "outputs": [
    {
     "name": "stdout",
     "output_type": "stream",
     "text": [
      "R4\n",
      "Turf Paradise\n",
      "25m\n",
      "R10\n",
      "San Isidro\n",
      "30m\n",
      "R3\n",
      "Remington Park\n",
      "41m\n",
      "R5\n",
      "Turf Paradise\n",
      "58m\n",
      "R11\n",
      "San Isidro\n",
      "01h\n",
      "\n"
     ]
    }
   ],
   "source": [
    "for k in driver.find_elements_by_class_name('MuiCollapse-wrapperInner'):\n",
    "    print(k.text)"
   ]
  },
  {
   "cell_type": "code",
   "execution_count": null,
   "id": "ac7749df",
   "metadata": {},
   "outputs": [],
   "source": []
  }
 ],
 "metadata": {
  "kernelspec": {
   "display_name": "Python 3",
   "language": "python",
   "name": "python3"
  },
  "language_info": {
   "codemirror_mode": {
    "name": "ipython",
    "version": 3
   },
   "file_extension": ".py",
   "mimetype": "text/x-python",
   "name": "python",
   "nbconvert_exporter": "python",
   "pygments_lexer": "ipython3",
   "version": "3.8.8"
  }
 },
 "nbformat": 4,
 "nbformat_minor": 5
}
