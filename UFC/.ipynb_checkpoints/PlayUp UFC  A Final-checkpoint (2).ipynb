{
 "cells": [
  {
   "cell_type": "code",
   "execution_count": 2,
   "id": "1bf468e4",
   "metadata": {},
   "outputs": [
    {
     "name": "stderr",
     "output_type": "stream",
     "text": [
      "[WDM] - \n",
      "\n",
      "[WDM] - ====== WebDriver manager ======\n",
      "[WDM] - Current google-chrome version is 96.0.4664\n",
      "[WDM] - Get LATEST driver version for 96.0.4664\n",
      "[WDM] - Driver [C:\\Users\\fagho\\.wdm\\drivers\\chromedriver\\win32\\96.0.4664.45\\chromedriver.exe] found in cache\n",
      "<ipython-input-2-5ad049a9ade5>:5: DeprecationWarning: executable_path has been deprecated, please pass in a Service object\n",
      "  driver = webdriver.Chrome(ChromeDriverManager().install())\n"
     ]
    }
   ],
   "source": [
    "from selenium import webdriver\n",
    "from webdriver_manager.chrome import ChromeDriverManager\n",
    "from selenium.webdriver.common.keys import Keys\n",
    "import time\n",
    "driver = webdriver.Chrome(ChromeDriverManager().install())\n",
    "driver.get(\"https://www.playup.com.au/Sport/Mixed_Martial_Arts/\")\n",
    "driver.implicitly_wait(100)\n",
    "\n",
    "for j in range(len(driver.find_elements_by_xpath(\"//table[@class='market-table']/tbody/tr\"))):\n",
    "    if 'UFC' in driver.find_elements_by_xpath(\"//table[@class='market-table']/tbody/tr\")[j].text:\n",
    "        driver.find_elements_by_xpath(\"//table[@class='market-table']/tbody/tr\")[j].click()\n",
    "        \n",
    "        for i in range(len(driver.find_elements_by_class_name('match'))):\n",
    "            lst = driver.find_elements_by_class_name('match')[i].text.split('\\n')\n",
    "            if 'MORE MARKETS' in lst:\n",
    "                Player1, Win1, Player2, Win2 = lst[4], lst[5], lst[7], lst[8]\n",
    "#                 driver.find_element_by_xpath(f\"//div[@class='match'][{i+1}]/div/header/a\").click()\n",
    "            if 'MORE MARKETS' not in lst:\n",
    "                if 'Over' in lst[5]:\n",
    "                    Player1, Win1, Player2, Win2 = lst[3], lst[4], lst[6], lst[7]\n",
    "                else:\n",
    "                    Player1, Win1, Player2, Win2 = lst[-4], lst[-3], lst[-2], lst[-1]\n",
    "            print(f\"BET{i+1} ---> {Player1} vs {Player2}  |  {Win1}/ {Win2}\")\n",
    "        \n",
    "        driver.back()"
   ]
  },
  {
   "cell_type": "code",
   "execution_count": 3,
   "id": "08c56a5e",
   "metadata": {},
   "outputs": [
    {
     "name": "stderr",
     "output_type": "stream",
     "text": [
      "C:\\Users\\fagho\\anaconda3\\lib\\site-packages\\selenium\\webdriver\\remote\\webdriver.py:483: UserWarning: find_element_by_* commands are deprecated. Please use find_element() instead\n",
      "  warnings.warn(\"find_element_by_* commands are deprecated. Please use find_element() instead\")\n"
     ]
    }
   ],
   "source": [
    "driver.find_element_by_xpath(f\"//div[@class='match'][{1+1}]/div/header/a\").click()\n",
    "lst = ['Double Chance', 'Method of Victory', 'Round Betting', 'Will fight go the distance']\n",
    "for j in lst:\n",
    "    for k in range(len(driver.find_elements_by_xpath('//*[@id=\"addit_6897891_0\"]/dl/dt'))):\n",
    "        if j in driver.find_elements_by_xpath('//*[@id=\"addit_6897891_0\"]/dl/dt')[k].text:\n",
    "            driver.find_elements_by_xpath('//*[@id=\"addit_6897891_0\"]/dl/dt')[k].click()"
   ]
  },
  {
   "cell_type": "code",
   "execution_count": null,
   "id": "1986f7c1",
   "metadata": {},
   "outputs": [],
   "source": []
  }
 ],
 "metadata": {
  "kernelspec": {
   "display_name": "Python 3",
   "language": "python",
   "name": "python3"
  },
  "language_info": {
   "codemirror_mode": {
    "name": "ipython",
    "version": 3
   },
   "file_extension": ".py",
   "mimetype": "text/x-python",
   "name": "python",
   "nbconvert_exporter": "python",
   "pygments_lexer": "ipython3",
   "version": "3.8.8"
  }
 },
 "nbformat": 4,
 "nbformat_minor": 5
}
