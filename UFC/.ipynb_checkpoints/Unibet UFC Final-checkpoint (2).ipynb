{
 "cells": [
  {
   "cell_type": "code",
   "execution_count": 3,
   "id": "fa5537ee",
   "metadata": {},
   "outputs": [
    {
     "name": "stderr",
     "output_type": "stream",
     "text": [
      "[WDM] - \n",
      "\n",
      "[WDM] - ====== WebDriver manager ======\n",
      "[WDM] - Current google-chrome version is 97.0.4692\n",
      "[WDM] - Get LATEST driver version for 97.0.4692\n",
      "[WDM] - Driver [C:\\Users\\fagho\\.wdm\\drivers\\chromedriver\\win32\\97.0.4692.71\\chromedriver.exe] found in cache\n",
      "<ipython-input-3-181c55ddd668>:4: DeprecationWarning: executable_path has been deprecated, please pass in a Service object\n",
      "  driver = webdriver.Chrome(ChromeDriverManager().install())\n"
     ]
    }
   ],
   "source": [
    "from selenium import webdriver\n",
    "from webdriver_manager.chrome import ChromeDriverManager\n",
    "from selenium.webdriver.common.keys import Keys\n",
    "driver = webdriver.Chrome(ChromeDriverManager().install())\n",
    "driver.get('https://www.unibet.com.au/betting/sports/filter/ufc_mma/ufc/all/matches')\n",
    "driver.implicitly_wait(30)\n",
    "\n",
    "driver.find_element_by_id('CybotCookiebotDialogBodyLevelButtonLevelOptinAllowAll').click()\n",
    "\n",
    "for i in range(len(driver.find_elements_by_class_name('a9753'))):\n",
    "    try:\n",
    "        if driver.find_elements_by_class_name('_9873c')[i].text  == '':\n",
    "            match = driver.find_elements_by_class_name('fa117')[i].text.split('\\n')\n",
    "            Player1, Win1, Player2, Win2 = match[1], match[3], match[2], match[4]\n",
    "            print(f\"BET{i+1} ---> {Player1} vs {Player2} | Win: {Win1}/ Win: {Win2}\")\n",
    "            continue\n",
    "            \n",
    "        driver.find_elements_by_class_name('a9753')[i].click()\n",
    "\n",
    "        WLD = driver.find_element_by_xpath(\"//li[@class='KambiBC-bet-offer-subcategory KambiBC-bet-offer-subcategory--onecrosstwo']\").text.split('\\n')\n",
    "        Player1, Win1, Player2, Win2 = WLD[1], WLD[2], WLD[3], WLD[4]\n",
    "\n",
    "        try:\n",
    "            YN = driver.find_element_by_xpath(\"//li[@class='KambiBC-bet-offer-subcategory KambiBC-bet-offer-subcategory--yesno']\").text.split('\\n')\n",
    "            TR = driver.find_element_by_xpath(\"//li[@class='KambiBC-bet-offer-subcategory KambiBC-bet-offer-subcategory--overunder']\").text.split('\\n')\n",
    "\n",
    "            driver.find_elements_by_class_name('KambiBC-bet-offer-category')[1].click()\n",
    "            lst = driver.find_elements_by_class_name('KambiBC-bet-offer-category')[1].text.split('\\n')[22:]\n",
    "            Method = lst[:len(lst)//2]\n",
    "            Chance = lst[len(lst)//2:]\n",
    "\n",
    "            def countList(lst1, lst2):\n",
    "                return [sub[item] for item in range(len(lst2))\n",
    "                                  for sub in [lst1, lst2]]\n",
    "\n",
    "            methods = countList(Method, Chance)\n",
    "\n",
    "        except:\n",
    "            YN, TR, Method, Chance = [], [], [], []\n",
    "\n",
    "        driver.back()\n",
    "        time.sleep(1)\n",
    "        \n",
    "        others = YN + TR + methods\n",
    "        print(f\"BET{i+1} ---> {Player1} vs {Player2} | Win: {Win1}/ Win: {Win2}, {others}\")\n",
    "\n",
    "        print('----------------------------------------------------------------------------------------------------------------')\n",
    "        print()\n",
    "    except:\n",
    "        continue"
   ]
  },
  {
   "cell_type": "code",
   "execution_count": null,
   "id": "9e9ad84d",
   "metadata": {},
   "outputs": [],
   "source": []
  }
 ],
 "metadata": {
  "kernelspec": {
   "display_name": "Python 3",
   "language": "python",
   "name": "python3"
  },
  "language_info": {
   "codemirror_mode": {
    "name": "ipython",
    "version": 3
   },
   "file_extension": ".py",
   "mimetype": "text/x-python",
   "name": "python",
   "nbconvert_exporter": "python",
   "pygments_lexer": "ipython3",
   "version": "3.8.8"
  }
 },
 "nbformat": 4,
 "nbformat_minor": 5
}
