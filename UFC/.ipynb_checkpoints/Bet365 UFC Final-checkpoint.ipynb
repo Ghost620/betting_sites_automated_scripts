{
 "cells": [
  {
   "cell_type": "code",
   "execution_count": null,
   "id": "170d6892",
   "metadata": {
    "scrolled": true
   },
   "outputs": [
    {
     "name": "stderr",
     "output_type": "stream",
     "text": [
      "[WDM] - \n",
      "\n",
      "[WDM] - ====== WebDriver manager ======\n",
      "[WDM] - Current google-chrome version is 97.0.4692\n",
      "[WDM] - Get LATEST driver version for 97.0.4692\n",
      "[WDM] - Driver [C:\\Users\\fagho\\.wdm\\drivers\\chromedriver\\win32\\97.0.4692.71\\chromedriver.exe] found in cache\n",
      "<ipython-input-35-e3caff878580>:9: DeprecationWarning: executable_path has been deprecated, please pass in a Service object\n",
      "  driver = webdriver.Chrome(ChromeDriverManager().install())\n"
     ]
    },
    {
     "name": "stdout",
     "output_type": "stream",
     "text": [
      "Brian Kelleher 1.33 Kevin Croom 3.40 -\n",
      "T.J. Brown 1.36 Charles Rosa 3.25 -\n",
      "Dakota Bush 2.62 Viacheslav Borshchev 1.53 Fight to Go the Distance | YES: 2.50, NO: 1.50 AND Total Rounds: 1.57/ 2.25 / 2.10/ 1.66 \n",
      "Ramiz Brahimaj 1.90 Court McGee 1.90 Fight to Go the Distance | YES: 1.66, NO: 2.10 AND Total Rounds: 1.30/ 3.40 / 1.53/ 2.37 \n",
      "Jamie Pickett 2.25 Joseph Holmes 1.66 Fight to Go the Distance | YES: 2.20, NO: 1.61 AND Total Rounds: 1.50/ 2.50 / 1.90/ 1.80 \n",
      "Joanderson Brito 1.72 Bill Algeo 2.10 Fight to Go the Distance | YES: 1.66, NO: 2.10 AND Total Rounds: 1.33/ 3.25 / 1.57/ 2.25 \n",
      "Chase Sherman 2.10 Jake Collier 1.72 Fight to Go the Distance | YES: 1.66, NO: 2.10 AND Total Rounds: 1.30/ 3.40 / 1.53/ 2.37 \n",
      "Brandon Royval 1.58 Rogerio Bontorin 2.40 Fight to Go the Distance | YES: 2.62, NO: 1.44 AND Total Rounds: 1.61/ 2.20 / 2.20/ 1.61 \n",
      "Katlyn Chookagian 1.57 Jennifer Maia 2.50 Fight to Go the Distance | YES: 1.28, NO: 3.50 AND Total Rounds: 1.14/ 5.50 / 1.22/ 4.00 \n",
      "Calvin Kattar 3.25 Giga Chikadze 1.36 Fight to Go the Distance | YES: 2.37, NO: 1.53 AND Total Rounds: 4.5/ 1.57 / Over/ 1.83 \n",
      "Cody Stamann 2.70 Said Nurmagomedov 1.50 -\n",
      "Jasmine Jasudavicius 3.00 Kay Hansen 1.40 -\n",
      "Matt Frevola 1.50 Genaro Valdez 2.70 -\n",
      "Michael Morales 1.66 Trevin Giles 2.25 -\n",
      "Poliana Botelho 2.10 Ji Yeon Kim 1.72 -\n",
      "Rodolfo Vieira 1.36 Wellington Turman 3.25 -\n",
      "Tony Gravely 1.40 Saimon Oliveira 3.00 -\n",
      "Greg Hardy 1.61 Aleksei Oleinik 2.37 -\n",
      "Brandon Moreno 1.58 Deiveson Figueiredo 2.40 Fight to Go the Distance | YES: 2.20, NO: 1.61 AND Total Rounds: 4.5/ 1.66 / Over/ 1.90 \n",
      "Francis Ngannou 2.00 Ciryl Gane 1.80 Fight to Go the Distance | YES: 3.40, NO: 1.30 AND Total Rounds: 4.5/ 2.00 / Over/ 2.62 \n",
      "Bryan Battle 2.00 Tresean Gore 1.80 -\n",
      "Danilo Marques 3.40 Jailton Almeida 1.33 -\n"
     ]
    }
   ],
   "source": [
    "from selenium import webdriver\n",
    "from webdriver_manager.chrome import ChromeDriverManager\n",
    "from selenium.webdriver.common.keys import Keys\n",
    "from selenium.webdriver.common.by import By\n",
    "from selenium.webdriver.support.ui import WebDriverWait\n",
    "from selenium.webdriver.support import expected_conditions as EC\n",
    "driver = webdriver.Chrome(ChromeDriverManager().install())\n",
    "\n",
    "driver.get('https://www.bet365.com.au/#/AC/B9/C20511432/D1/E148/F2/')\n",
    "driver.implicitly_wait(10)\n",
    "\n",
    "odds = []\n",
    "for a in driver.find_elements_by_class_name('sgl-ParticipantOddsOnly80_Odds'):\n",
    "    odds.append(a.text)\n",
    "odds1 = odds[:len(odds)//2]\n",
    "odds2 = odds[len(odds)//2:]\n",
    "\n",
    "for i in range(len(driver.find_elements_by_class_name('rcl-ParticipantFixtureDetails_TeamAndScoresContainer'))):\n",
    "    element = driver.find_elements_by_class_name('rcl-ParticipantFixtureDetails_TeamAndScoresContainer')[i]\n",
    "    element.click()\n",
    "    try:\n",
    "        WebDriverWait(driver, 2).until(EC.staleness_of(element))\n",
    "        \n",
    "        for j in range(len(driver.find_elements_by_class_name('gl-MarketGroup '))):\n",
    "            if 'Fight to Go the Distance' in driver.find_elements_by_class_name('gl-MarketGroup ')[j].text.split('\\n')[0]:\n",
    "                FYES, FNO = driver.find_elements_by_class_name('gl-MarketGroup ')[j].text.split('\\n')[2], driver.find_elements_by_class_name('gl-MarketGroup ')[j].text.split('\\n')[4]\n",
    "\n",
    "            if 'To Win Fight' in driver.find_elements_by_class_name('gl-MarketGroup ')[j].text.split('\\n')[0]:\n",
    "                lst1 = driver.find_elements_by_class_name('gl-MarketGroup ')[j].text.split('\\n')\n",
    "                Player1, Win1, Player2, Win2 = lst1[1], lst1[2], lst1[3], lst1[4]\n",
    "\n",
    "            if 'Total Rounds' in driver.find_elements_by_class_name('gl-MarketGroup ')[j].text.split('\\n')[0]:\n",
    "                lst2 = driver.find_elements_by_class_name('gl-MarketGroup ')[j].text.split('\\n')\n",
    "                OU1_5 = f'{lst2[4]}/ {lst2[7]}'\n",
    "                OU2_5 = f'{lst2[5]}/ {lst2[8]}'\n",
    "                \n",
    "        other = f\"Fight to Go the Distance | YES: {FYES}, NO: {FNO} AND Total Rounds: {OU1_5} / {OU2_5} \"\n",
    "        driver.back()\n",
    "        \n",
    "    except:\n",
    "        Player1, Win1, Player2, Win2 = element.text.split('\\n')[0], odds1[i], element.text.split('\\n')[1], odds2[i]\n",
    "        other = '-'\n",
    "        \n",
    "    print(Player1, Win1, Player2, Win2, other)"
   ]
  },
  {
   "cell_type": "code",
   "execution_count": 20,
   "id": "d16a7d10",
   "metadata": {},
   "outputs": [],
   "source": [
    "from selenium.webdriver.common.by import By\n",
    "from selenium.webdriver.support.ui import WebDriverWait\n",
    "from selenium.webdriver.support import expected_conditions as EC\n",
    "element = driver.find_elements_by_class_name('rcl-ParticipantFixtureDetails_TeamAndScoresContainer')[1]\n",
    "element.click()\n",
    "try:\n",
    "    WebDriverWait(driver, 1).until(EC.staleness_of(element))\n",
    "except:\n",
    "    Player1, Win1, Player2, Win2 = element.text.split('\\n')[0], odds1[1], element.text.split('\\n')[1], odds2[1]"
   ]
  },
  {
   "cell_type": "code",
   "execution_count": 29,
   "id": "b02bf16f",
   "metadata": {},
   "outputs": [
    {
     "data": {
      "text/plain": [
       "'2.62'"
      ]
     },
     "execution_count": 29,
     "metadata": {},
     "output_type": "execute_result"
    }
   ],
   "source": [
    "driver.find_elements_by_class_name('sgl-ParticipantOddsOnly80_Odds')[2].text"
   ]
  },
  {
   "cell_type": "code",
   "execution_count": null,
   "id": "a3e46bd3",
   "metadata": {},
   "outputs": [],
   "source": [
    "driver.find_element_by_class_name('sgl-ParticipantOddsOnly80_Odds')"
   ]
  }
 ],
 "metadata": {
  "kernelspec": {
   "display_name": "Python 3",
   "language": "python",
   "name": "python3"
  },
  "language_info": {
   "codemirror_mode": {
    "name": "ipython",
    "version": 3
   },
   "file_extension": ".py",
   "mimetype": "text/x-python",
   "name": "python",
   "nbconvert_exporter": "python",
   "pygments_lexer": "ipython3",
   "version": "3.8.8"
  }
 },
 "nbformat": 4,
 "nbformat_minor": 5
}
