{
 "cells": [
  {
   "cell_type": "code",
   "execution_count": 9,
   "id": "b7ab169e",
   "metadata": {},
   "outputs": [
    {
     "name": "stdout",
     "output_type": "stream",
     "text": [
      "-------------------------\n",
      "BET1 ---> Player1: Bryan Barberena by Submission or Points, Win: 2.85, Player2: Bryan Barberena by KO/TKO or Points, Win: 1.90, ['Double Chance', '2.85', '1.90', '3.00', 'Draw', '51.00', '3.05', '2.50', '3.25', 'Double Chance II', '2.30', '2.20', '2.70', '2.20', '2.10', '2.60', '3.90', '3.60', '5.50', 'Method of Victory 7-Way', 'Bryan Barberena by Submission', '13.00', 'Bryan Barberena by Points', '3.50', 'Bryan Barberena by KO/TKO', '3.75', 'Draw', '51.00', 'Darian Weeks by Points', '4.50', 'Darian Weeks by KO/TKO', '5.00', 'Darian Weeks by Submission', '8.00', 'Method of Victory 5-Way', '3.00', 'Bryan Barberena by Points', '3.50', 'Draw', '51.00', 'Darian Weeks by Points', '4.50', '3.25', 'Will Fight Go The Distance', '1.73', 'Yes - Fight Will Go Distance', '2.05', 'Total Rounds', 'Over 2.5', '2.02', 'Under 2.5', '1.73']\n",
      "BET2 ---> Player1: Bryan Barberena by Submission or Points, Win: 2.85, Player2: Bryan Barberena by KO/TKO or Points, Win: 1.90, ['Double Chance', '2.85', '1.90', '3.00', 'Draw', '51.00', '3.05', '2.50', '3.25', 'Double Chance II', '2.30', '2.20', '2.70', '2.20', '2.10', '2.60', '3.90', '3.60', '5.50', 'Method of Victory 7-Way', 'Bryan Barberena by Submission', '13.00', 'Bryan Barberena by Points', '3.50', 'Bryan Barberena by KO/TKO', '3.75', 'Draw', '51.00', 'Darian Weeks by Points', '4.50', 'Darian Weeks by KO/TKO', '5.00', 'Darian Weeks by Submission', '8.00', 'Method of Victory 5-Way', '3.00', 'Bryan Barberena by Points', '3.50', 'Draw', '51.00', 'Darian Weeks by Points', '4.50', '3.25', 'Will Fight Go The Distance', '1.73', 'Yes - Fight Will Go Distance', '2.05', 'Total Rounds', 'Over 2.5', '2.02', 'Under 2.5', '1.73']\n",
      "BET3 ---> Player1: Bryan Barberena by Submission or Points, Win: 2.85, Player2: Bryan Barberena by KO/TKO or Points, Win: 1.90, ['Double Chance', '2.85', '1.90', '3.00', 'Draw', '51.00', '3.05', '2.50', '3.25', 'Double Chance II', '2.30', '2.20', '2.70', '2.20', '2.10', '2.60', '3.90', '3.60', '5.50', 'Method of Victory 7-Way', 'Bryan Barberena by Submission', '13.00', 'Bryan Barberena by Points', '3.50', 'Bryan Barberena by KO/TKO', '3.75', 'Draw', '51.00', 'Darian Weeks by Points', '4.50', 'Darian Weeks by KO/TKO', '5.00', 'Darian Weeks by Submission', '8.00', 'Method of Victory 5-Way', '3.00', 'Bryan Barberena by Points', '3.50', 'Draw', '51.00', 'Darian Weeks by Points', '4.50', '3.25', 'Will Fight Go The Distance', '1.73', 'Yes - Fight Will Go Distance', '2.05', 'Total Rounds', 'Over 2.5', '2.02', 'Under 2.5', '1.73']\n",
      "BET4 ---> Player1: Bryan Barberena by Submission or Points, Win: 2.85, Player2: Bryan Barberena by KO/TKO or Points, Win: 1.90, ['Double Chance', '2.85', '1.90', '3.00', 'Draw', '51.00', '3.05', '2.50', '3.25', 'Double Chance II', '2.30', '2.20', '2.70', '2.20', '2.10', '2.60', '3.90', '3.60', '5.50', 'Method of Victory 7-Way', 'Bryan Barberena by Submission', '13.00', 'Bryan Barberena by Points', '3.50', 'Bryan Barberena by KO/TKO', '3.75', 'Draw', '51.00', 'Darian Weeks by Points', '4.50', 'Darian Weeks by KO/TKO', '5.00', 'Darian Weeks by Submission', '8.00', 'Method of Victory 5-Way', '3.00', 'Bryan Barberena by Points', '3.50', 'Draw', '51.00', 'Darian Weeks by Points', '4.50', '3.25', 'Will Fight Go The Distance', '1.73', 'Yes - Fight Will Go Distance', '2.05', 'Total Rounds', 'Over 2.5', '2.02', 'Under 2.5', '1.73']\n",
      "BET5 ---> Player1: Bryan Barberena by Submission or Points, Win: 2.85, Player2: Bryan Barberena by KO/TKO or Points, Win: 1.90, ['Double Chance', '2.85', '1.90', '3.00', 'Draw', '51.00', '3.05', '2.50', '3.25', 'Double Chance II', '2.30', '2.20', '2.70', '2.20', '2.10', '2.60', '3.90', '3.60', '5.50', 'Method of Victory 7-Way', 'Bryan Barberena by Submission', '13.00', 'Bryan Barberena by Points', '3.50', 'Bryan Barberena by KO/TKO', '3.75', 'Draw', '51.00', 'Darian Weeks by Points', '4.50', 'Darian Weeks by KO/TKO', '5.00', 'Darian Weeks by Submission', '8.00', 'Method of Victory 5-Way', '3.00', 'Bryan Barberena by Points', '3.50', 'Draw', '51.00', 'Darian Weeks by Points', '4.50', '3.25', 'Will Fight Go The Distance', '1.73', 'Yes - Fight Will Go Distance', '2.05', 'Total Rounds', 'Over 2.5', '2.02', 'Under 2.5', '1.73']\n",
      "BET6 ---> Player1: Bryan Barberena by Submission or Points, Win: 2.85, Player2: Bryan Barberena by KO/TKO or Points, Win: 1.90, ['Double Chance', '2.85', '1.90', '3.00', 'Draw', '51.00', '3.05', '2.50', '3.25', 'Double Chance II', '2.30', '2.20', '2.70', '2.20', '2.10', '2.60', '3.90', '3.60', '5.50', 'Method of Victory 7-Way', 'Bryan Barberena by Submission', '13.00', 'Bryan Barberena by Points', '3.50', 'Bryan Barberena by KO/TKO', '3.75', 'Draw', '51.00', 'Darian Weeks by Points', '4.50', 'Darian Weeks by KO/TKO', '5.00', 'Darian Weeks by Submission', '8.00', 'Method of Victory 5-Way', '3.00', 'Bryan Barberena by Points', '3.50', 'Draw', '51.00', 'Darian Weeks by Points', '4.50', '3.25', 'Will Fight Go The Distance', '1.73', 'Yes - Fight Will Go Distance', '2.05', 'Total Rounds', 'Over 2.5', '2.02', 'Under 2.5', '1.73']\n",
      "BET7 ---> Player1: Bryan Barberena by Submission or Points, Win: 2.85, Player2: Bryan Barberena by KO/TKO or Points, Win: 1.90, ['Double Chance', '2.85', '1.90', '3.00', 'Draw', '51.00', '3.05', '2.50', '3.25', 'Double Chance II', '2.30', '2.20', '2.70', '2.20', '2.10', '2.60', '3.90', '3.60', '5.50', 'Method of Victory 7-Way', 'Bryan Barberena by Submission', '13.00', 'Bryan Barberena by Points', '3.50', 'Bryan Barberena by KO/TKO', '3.75', 'Draw', '51.00', 'Darian Weeks by Points', '4.50', 'Darian Weeks by KO/TKO', '5.00', 'Darian Weeks by Submission', '8.00', 'Method of Victory 5-Way', '3.00', 'Bryan Barberena by Points', '3.50', 'Draw', '51.00', 'Darian Weeks by Points', '4.50', '3.25', 'Will Fight Go The Distance', '1.73', 'Yes - Fight Will Go Distance', '2.05', 'Total Rounds', 'Over 2.5', '2.02', 'Under 2.5', '1.73']\n",
      "BET8 ---> Player1: Bryan Barberena by Submission or Points, Win: 2.85, Player2: Bryan Barberena by KO/TKO or Points, Win: 1.90, ['Double Chance', '2.85', '1.90', '3.00', 'Draw', '51.00', '3.05', '2.50', '3.25', 'Double Chance II', '2.30', '2.20', '2.70', '2.20', '2.10', '2.60', '3.90', '3.60', '5.50', 'Method of Victory 7-Way', 'Bryan Barberena by Submission', '13.00', 'Bryan Barberena by Points', '3.50', 'Bryan Barberena by KO/TKO', '3.75', 'Draw', '51.00', 'Darian Weeks by Points', '4.50', 'Darian Weeks by KO/TKO', '5.00', 'Darian Weeks by Submission', '8.00', 'Method of Victory 5-Way', '3.00', 'Bryan Barberena by Points', '3.50', 'Draw', '51.00', 'Darian Weeks by Points', '4.50', '3.25', 'Will Fight Go The Distance', '1.73', 'Yes - Fight Will Go Distance', '2.05', 'Total Rounds', 'Over 2.5', '2.02', 'Under 2.5', '1.73']\n",
      "BET9 ---> Player1: Bryan Barberena by Submission or Points, Win: 2.85, Player2: Bryan Barberena by KO/TKO or Points, Win: 1.90, ['Double Chance', '2.85', '1.90', '3.00', 'Draw', '51.00', '3.05', '2.50', '3.25', 'Double Chance II', '2.30', '2.20', '2.70', '2.20', '2.10', '2.60', '3.90', '3.60', '5.50', 'Method of Victory 7-Way', 'Bryan Barberena by Submission', '13.00', 'Bryan Barberena by Points', '3.50', 'Bryan Barberena by KO/TKO', '3.75', 'Draw', '51.00', 'Darian Weeks by Points', '4.50', 'Darian Weeks by KO/TKO', '5.00', 'Darian Weeks by Submission', '8.00', 'Method of Victory 5-Way', '3.00', 'Bryan Barberena by Points', '3.50', 'Draw', '51.00', 'Darian Weeks by Points', '4.50', '3.25', 'Will Fight Go The Distance', '1.73', 'Yes - Fight Will Go Distance', '2.05', 'Total Rounds', 'Over 2.5', '2.02', 'Under 2.5', '1.73']\n",
      "BET10 ---> Player1: Bryan Barberena by Submission or Points, Win: 2.85, Player2: Bryan Barberena by KO/TKO or Points, Win: 1.90, ['Double Chance', '2.85', '1.90', '3.00', 'Draw', '51.00', '3.05', '2.50', '3.25', 'Double Chance II', '2.30', '2.20', '2.70', '2.20', '2.10', '2.60', '3.90', '3.60', '5.50', 'Method of Victory 7-Way', 'Bryan Barberena by Submission', '13.00', 'Bryan Barberena by Points', '3.50', 'Bryan Barberena by KO/TKO', '3.75', 'Draw', '51.00', 'Darian Weeks by Points', '4.50', 'Darian Weeks by KO/TKO', '5.00', 'Darian Weeks by Submission', '8.00', 'Method of Victory 5-Way', '3.00', 'Bryan Barberena by Points', '3.50', 'Draw', '51.00', 'Darian Weeks by Points', '4.50', '3.25', 'Will Fight Go The Distance', '1.73', 'Yes - Fight Will Go Distance', '2.05', 'Total Rounds', 'Over 2.5', '2.02', 'Under 2.5', '1.73']\n"
     ]
    },
    {
     "name": "stdout",
     "output_type": "stream",
     "text": [
      "BET11 ---> Player1: Bryan Barberena by Submission or Points, Win: 2.85, Player2: Bryan Barberena by KO/TKO or Points, Win: 1.90, ['Double Chance', '2.85', '1.90', '3.00', 'Draw', '51.00', '3.05', '2.50', '3.25', 'Double Chance II', '2.30', '2.20', '2.70', '2.20', '2.10', '2.60', '3.90', '3.60', '5.50', 'Method of Victory 7-Way', 'Bryan Barberena by Submission', '13.00', 'Bryan Barberena by Points', '3.50', 'Bryan Barberena by KO/TKO', '3.75', 'Draw', '51.00', 'Darian Weeks by Points', '4.50', 'Darian Weeks by KO/TKO', '5.00', 'Darian Weeks by Submission', '8.00', 'Method of Victory 5-Way', '3.00', 'Bryan Barberena by Points', '3.50', 'Draw', '51.00', 'Darian Weeks by Points', '4.50', '3.25', 'Will Fight Go The Distance', '1.73', 'Yes - Fight Will Go Distance', '2.05', 'Total Rounds', 'Over 2.5', '2.02', 'Under 2.5', '1.73']\n",
      "BET12 ---> Player1: Bryan Barberena by Submission or Points, Win: 2.85, Player2: Bryan Barberena by KO/TKO or Points, Win: 1.90, ['Double Chance', '2.85', '1.90', '3.00', 'Draw', '51.00', '3.05', '2.50', '3.25', 'Double Chance II', '2.30', '2.20', '2.70', '2.20', '2.10', '2.60', '3.90', '3.60', '5.50', 'Method of Victory 7-Way', 'Bryan Barberena by Submission', '13.00', 'Bryan Barberena by Points', '3.50', 'Bryan Barberena by KO/TKO', '3.75', 'Draw', '51.00', 'Darian Weeks by Points', '4.50', 'Darian Weeks by KO/TKO', '5.00', 'Darian Weeks by Submission', '8.00', 'Method of Victory 5-Way', '3.00', 'Bryan Barberena by Points', '3.50', 'Draw', '51.00', 'Darian Weeks by Points', '4.50', '3.25', 'Will Fight Go The Distance', '1.73', 'Yes - Fight Will Go Distance', '2.05', 'Total Rounds', 'Over 2.5', '2.02', 'Under 2.5', '1.73']\n",
      "BET13 ---> Player1: Bryan Barberena by Submission or Points, Win: 2.85, Player2: Bryan Barberena by KO/TKO or Points, Win: 1.90, ['Double Chance', '2.85', '1.90', '3.00', 'Draw', '51.00', '3.05', '2.50', '3.25', 'Double Chance II', '2.30', '2.20', '2.70', '2.20', '2.10', '2.60', '3.90', '3.60', '5.50', 'Method of Victory 7-Way', 'Bryan Barberena by Submission', '13.00', 'Bryan Barberena by Points', '3.50', 'Bryan Barberena by KO/TKO', '3.75', 'Draw', '51.00', 'Darian Weeks by Points', '4.50', 'Darian Weeks by KO/TKO', '5.00', 'Darian Weeks by Submission', '8.00', 'Method of Victory 5-Way', '3.00', 'Bryan Barberena by Points', '3.50', 'Draw', '51.00', 'Darian Weeks by Points', '4.50', '3.25', 'Will Fight Go The Distance', '1.73', 'Yes - Fight Will Go Distance', '2.05', 'Total Rounds', 'Over 2.5', '2.02', 'Under 2.5', '1.73']\n",
      "BET14 ---> Player1: Bryan Barberena by Submission or Points, Win: 2.85, Player2: Bryan Barberena by KO/TKO or Points, Win: 1.90, ['Double Chance', '2.85', '1.90', '3.00', 'Draw', '51.00', '3.05', '2.50', '3.25', 'Double Chance II', '2.30', '2.20', '2.70', '2.20', '2.10', '2.60', '3.90', '3.60', '5.50', 'Method of Victory 7-Way', 'Bryan Barberena by Submission', '13.00', 'Bryan Barberena by Points', '3.50', 'Bryan Barberena by KO/TKO', '3.75', 'Draw', '51.00', 'Darian Weeks by Points', '4.50', 'Darian Weeks by KO/TKO', '5.00', 'Darian Weeks by Submission', '8.00', 'Method of Victory 5-Way', '3.00', 'Bryan Barberena by Points', '3.50', 'Draw', '51.00', 'Darian Weeks by Points', '4.50', '3.25', 'Will Fight Go The Distance', '1.73', 'Yes - Fight Will Go Distance', '2.05', 'Total Rounds', 'Over 2.5', '2.02', 'Under 2.5', '1.73']\n",
      "BET15 ---> Player1: Bryan Barberena by Submission or Points, Win: 2.85, Player2: Bryan Barberena by KO/TKO or Points, Win: 1.90, ['Double Chance', '2.85', '1.90', '3.00', 'Draw', '51.00', '3.05', '2.50', '3.25', 'Double Chance II', '2.30', '2.20', '2.70', '2.20', '2.10', '2.60', '3.90', '3.60', '5.50', 'Method of Victory 7-Way', 'Bryan Barberena by Submission', '13.00', 'Bryan Barberena by Points', '3.50', 'Bryan Barberena by KO/TKO', '3.75', 'Draw', '51.00', 'Darian Weeks by Points', '4.50', 'Darian Weeks by KO/TKO', '5.00', 'Darian Weeks by Submission', '8.00', 'Method of Victory 5-Way', '3.00', 'Bryan Barberena by Points', '3.50', 'Draw', '51.00', 'Darian Weeks by Points', '4.50', '3.25', 'Will Fight Go The Distance', '1.73', 'Yes - Fight Will Go Distance', '2.05', 'Total Rounds', 'Over 2.5', '2.02', 'Under 2.5', '1.73']\n",
      "BET1 ---> Player1: Andre Muniz, Win: 1.72, Player2: Eryk Anders, Win: 2.15\n",
      "BET2 ---> Player1: Dominick Cruz, Win: 1.90, Player2: Pedro Munhoz, Win: 1.90\n",
      "BET3 ---> Player1: Josh Emmett, Win: 1.48, Player2: Dan Ige, Win: 2.65\n",
      "BET4 ---> Player1: Tai Tuivasa, Win: 1.90, Player2: Augusto Sakai, Win: 1.90\n",
      "BET5 ---> Player1: Ryan Hall, Win: 1.50, Player2: Darrick Minner, Win: 2.60\n",
      "BET6 ---> Player1: Gillian Robertson, Win: 1.30, Player2: Priscila Cachoeira, Win: 3.60\n",
      "BET7 ---> Player1: Randy Costa, Win: 1.52, Player2: Tony Kelley, Win: 2.55\n",
      "BET8 ---> Player1: Erin Blanchfield, Win: 2.10, Player2: Miranda Maverick, Win: 1.73\n",
      "BET9 ---> Player1: Bruno Silva, Win: 1.32, Player2: Jordan Wright, Win: 3.50\n",
      "BET10 ---> Player1: Alex Perez, Win: 1.35, Player2: Matt Schnell, Win: 3.30\n",
      "BET11 ---> Player1: Sean O'Malley, Win: 1.35, Player2: Raulian Paiva, Win: 3.20\n",
      "BET12 ---> Player1: Cody Garbrandt, Win: 1.60, Player2: Kai Kara France, Win: 2.35\n",
      "BET13 ---> Player1: Santiago Ponzinibbio, Win: 1.90, Player2: Geoff Neal, Win: 1.90\n",
      "-------------------------\n",
      "BET14 ---> Player1: For settlement purposes where a half round is stated then 2 minutes 30 seconds into the respective round will define the 'half' to determine under or over. Should the round end exactly on this time then all bets will be void., Win: Over 1.5, Player2: 1.83, Win: Under 1.5, ['Total Rounds', 'Over 1.5', '1.83', 'Under 1.5', '1.90']\n",
      "-------------------------\n",
      "BET15 ---> Player1: Dustin Poirier, Win: 1.60, Player2: Charles Oliveira, Win: 2.30, ['Total Rounds', 'Over 1.5', '1.57', 'Under 1.5', '2.30']\n",
      "BET1 ---> Player1: Amanda Lemos, Win: 1.30, Player2: Angela Hill, Win: 3.50\n",
      "BET2 ---> Player1: Melissa Gatto, Win: 2.75, Player2: Sijara Eubanks, Win: 1.46\n",
      "BET3 ---> Player1: Mateusz Gamrot, Win: 1.57, Player2: Diego Ferreira, Win: 2.40\n",
      "BET4 ---> Player1: Gerald Meerschaert, Win: 2.15, Player2: Abusupiyan Magomedov, Win: 1.72\n",
      "BET5 ---> Player1: Cub Swanson, Win: 1.52, Player2: Darren Elkins, Win: 2.55\n",
      "BET6 ---> Player1: Chris Daukaus, Win: 1.72, Player2: Derrick Lewis, Win: 2.15\n",
      "BET7 ---> Player1: Charles Jourdain, Win: 1.50, Player2: Andre Ewell, Win: 2.60\n",
      "BET8 ---> Player1: Stephen Thompson, Win: 1.44, Player2: Belal Muhammad, Win: 2.85\n",
      "BET9 ---> Player1: Jordan Leavitt, Win: 1.94, Player2: Matt Sayles, Win: 1.87\n",
      "BET10 ---> Player1: Ricky Simon, Win: 1.40, Player2: Raphael Assuncao, Win: 2.95\n",
      "BET11 ---> Player1: Raquel Pennington, Win: 1.73, Player2: Julia Avila, Win: 2.10\n",
      "BET12 ---> Player1: Don Tale Mayes, Win: 1.52, Player2: Josh Parisian, Win: 2.55\n",
      "BET13 ---> Player1: Justin Tafa, Win: 1.32, Player2: Harry Hunsucker, Win: 3.40\n"
     ]
    }
   ],
   "source": [
    "from selenium import webdriver\n",
    "from webdriver_manager.chrome import ChromeDriverManager\n",
    "from selenium.webdriver.common.keys import Keys\n",
    "driver = webdriver.Chrome()\n",
    "driver.maximize_window()\n",
    "driver.get('https://www.ladbrokes.com.au/sports/mma')\n",
    "driver.implicitly_wait(15)\n",
    "\n",
    "leagues = [i.get_attribute('href') for i in driver.find_elements_by_xpath(\"//div[@class='matches-filter__content']/a\")]\n",
    "\n",
    "for k in leagues:\n",
    "    if 'ufc' not in k:\n",
    "        continue\n",
    "    driver.get(k)\n",
    "    driver.implicitly_wait(10)\n",
    "\n",
    "    for a in range(len(driver.find_elements_by_xpath(\"//div[@class='markets-link-inner']\"))):\n",
    "        if '1 Market' in driver.find_elements_by_xpath(\"//div[@class='markets-link-inner']\")[a].text:\n",
    "            match = driver.find_elements_by_xpath(\"//div[@class='sports-market-primary']\")[a].text.split('\\n')\n",
    "            Player1, Win1, Player2, Win2 = match[0], match[1], match[2], match[3]\n",
    "            print(f\"BET{a+1} ---> Player1: {Player1}, Win: {Win1}, Player2: {Player2}, Win: {Win2}\")\n",
    "        else:   \n",
    "            driver.find_elements_by_xpath(\"//div[@class='markets-link-inner']\")[a].click()\n",
    "            try:\n",
    "                for j in driver.find_elements_by_xpath(\"//div[@class='market-group']\"):\n",
    "                    j.click()\n",
    "                    for i in driver.find_elements_by_xpath(\"//div[@class='market-two-col']\"):\n",
    "                        i.click()\n",
    "                print('-------------------------')\n",
    "\n",
    "                lst = driver.find_elements_by_xpath(\"//div[@class='market-two-col']\")\n",
    "                match = lst[0].text.split('\\n')\n",
    "                Player1, Win1, Player2, Win2 = match[1], match[2], match[3], match[4]\n",
    "                chk = ['Method of Victory', 'Double Chance', 'Will Fight Go The Distance', 'Total Rounds']\n",
    "                extras = []\n",
    "                for k in lst:\n",
    "                    for j in chk:\n",
    "                        if j in k.text.split('\\n')[0]:\n",
    "                            others = k.text.split('\\n')\n",
    "                            for b in others:\n",
    "                                if len(b) > 30:\n",
    "                                    continue\n",
    "                                extras.append(b)\n",
    "            except:\n",
    "                pass\n",
    "\n",
    "            driver.back()\n",
    "            print(f\"BET{a+1} ---> Player1: {Player1}, Win: {Win1}, Player2: {Player2}, Win: {Win2}, {extras}\")"
   ]
  },
  {
   "cell_type": "code",
   "execution_count": null,
   "id": "78af561c",
   "metadata": {},
   "outputs": [],
   "source": []
  }
 ],
 "metadata": {
  "kernelspec": {
   "display_name": "Python 3",
   "language": "python",
   "name": "python3"
  },
  "language_info": {
   "codemirror_mode": {
    "name": "ipython",
    "version": 3
   },
   "file_extension": ".py",
   "mimetype": "text/x-python",
   "name": "python",
   "nbconvert_exporter": "python",
   "pygments_lexer": "ipython3",
   "version": "3.8.8"
  }
 },
 "nbformat": 4,
 "nbformat_minor": 5
}
