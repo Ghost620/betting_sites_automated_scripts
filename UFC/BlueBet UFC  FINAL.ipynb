{
 "cells": [
  {
   "cell_type": "code",
   "execution_count": 1,
   "id": "641b0cf6",
   "metadata": {
    "scrolled": true
   },
   "outputs": [
    {
     "name": "stderr",
     "output_type": "stream",
     "text": [
      "C:\\Users\\fagho\\anaconda3\\lib\\site-packages\\selenium\\webdriver\\remote\\webdriver.py:702: UserWarning: find_elements_by_* commands are deprecated. Please use find_elements() instead\n",
      "  warnings.warn(\"find_elements_by_* commands are deprecated. Please use find_elements() instead\")\n",
      "C:\\Users\\fagho\\anaconda3\\lib\\site-packages\\selenium\\webdriver\\remote\\webdriver.py:502: UserWarning: find_elements_by_* commands are deprecated. Please use find_elements() instead\n",
      "  warnings.warn(\"find_elements_by_* commands are deprecated. Please use find_elements() instead\")\n"
     ]
    },
    {
     "name": "stdout",
     "output_type": "stream",
     "text": [
      "BET1 ---> Player1: Louis Smolka, Win: 1.65, Player2: Vince Morales, Win: 2.20, []\n",
      "\n",
      "BET2 ---> Player1: Mickey Gall, Win: 2.80, Player2: Alex Morono, Win: 1.42, []\n",
      "\n",
      "BET3 ---> Player1: Jared Vanderaa, Win: 2.70, Player2: Azamat Murzakanov, Win: 1.45, []\n",
      "\n",
      "BET4 ---> Player1: Claudio Puelles, Win: 1.88, Player2: Chris Gruetzemacher, Win: 1.88, []\n",
      "\n",
      "BET5 ---> Player1: Alonzo Menifield, Win: 1.65, Player2: William Knight, Win: 2.20, []\n",
      "\n",
      "BET6 ---> Player1: Cheyanne Vlismas, Win: 1.51, Player2: Mallory Martin, Win: 2.50, []\n",
      "\n",
      "BET7 ---> Player1: Jake Matthews, Win: 1.53, Player2: Jeremiah Wells, Win: 2.45, []\n",
      "\n",
      "BET8 ---> Player1: Zhalgas Zhumagulov, Win: 2.95, Player2: Manel Kape, Win: 1.38, []\n",
      "\n",
      "BET9 ---> Player1: Maki Pitolo, Win: 2.30, Player2: Dusko Todorovic, Win: 1.60, []\n",
      "\n",
      "BET10 ---> Player1: Bryan Barberena, Win: 1.76, Player2: Darian Weeks, Win: 2.02, []\n",
      "\n",
      "BET11 ---> Player1: Brendan Allen, Win: 1.26, Player2: Chris Curtis, Win: 3.70, ['Fight Result', ' Brendan Allen', ' 1.26', ' Chris Curtis', ' 3.70', 'Method Of Victory', ' Brendan Allen by KO/TKO', ' 7.25', ' Brendan Allen by Submission', ' 3.30', ' Brendan Allen by Points', ' 2.45', ' Draw', ' 67.00', ' Chris Curtis by KO/TKO', ' 5.25', ' Chris Curtis by Submission', ' 29.00', ' Chris Curtis by Points', ' 10.00', 'Method/Round Combo', ' Brendan Allen KO/TKO & Round 1', ' 14.00', ' Brendan Allen KO/TKO & Round 2', ' 19.00', ' Brendan Allen KO/TKO & Round 3', ' 36.00', ' Brendan Allen Submission & Round 1', ' 6.40', ' Brendan Allen Submission & Round 2', ' 9.00', ' Brendan Allen Submission & Round 3', ' 17.00', 'Round Betting', ' Brendan Allen to Win in Round 1', ' 4.75', ' Brendan Allen to Win in Round 2', ' 7.00', ' Brendan Allen to Win in Round 3', ' 14.00', ' Chris Curtis to Win in Round 1', ' 10.00', ' Chris Curtis to Win in Round 2', ' 12.00', ' Chris Curtis to Win in Round 3', ' 23.00']\n",
      "\n"
     ]
    },
    {
     "name": "stderr",
     "output_type": "stream",
     "text": [
      "C:\\Users\\fagho\\anaconda3\\lib\\site-packages\\selenium\\webdriver\\remote\\webdriver.py:643: UserWarning: find_element_by_* commands are deprecated. Please use find_element() instead\n",
      "  warnings.warn(\"find_element_by_* commands are deprecated. Please use find_element() instead\")\n"
     ]
    },
    {
     "name": "stdout",
     "output_type": "stream",
     "text": [
      "BET14 ---> Player1: Brad Riddell, Win: 2.00, Player2: Rafael Fiziev, Win: 1.78, ['Fight Result', ' Brad Riddell', ' 2.00', ' Rafael Fiziev', ' 1.78', 'Method Of Victory', ' Brad Riddell by KO/TKO', ' 5.25', ' Brad Riddell by Submission', ' 19.00', ' Brad Riddell by Points', ' 3.00', ' Draw', ' 67.00', ' Rafael Fiziev by KO/TKO', ' 4.20', ' Rafael Fiziev by Submission', ' 26.00', ' Rafael Fiziev by Points', ' 3.10', 'Method/Round Combo', ' Brad Riddell KO/TKO & Round 1', ' 11.00', ' Brad Riddell KO/TKO & Round 2', ' 14.00', ' Brad Riddell KO/TKO & Round 3', ' 23.00', ' Brad Riddell Submission & Round 1', ' 36.00', ' Brad Riddell Submission & Round 2', ' 51.00', ' Brad Riddell Submission & Round 3', ' 91.00', 'Round Betting', ' Brad Riddell to Win in Round 1', ' 9.00', ' Brad Riddell to Win in Round 2', ' 11.50', ' Brad Riddell to Win in Round 3', ' 21.00', ' Rafael Fiziev to Win in Round 1', ' 9.00', ' Rafael Fiziev to Win in Round 2', ' 11.50', ' Rafael Fiziev to Win in Round 3', ' 19.00']\n",
      "\n",
      "BET35 ---> Player1: Brandon Moreno, Win: 1.58, Player2: Deiveson Figueiredo, Win: 2.35, []\n",
      "\n"
     ]
    }
   ],
   "source": [
    "from selenium import webdriver\n",
    "from webdriver_manager.chrome import ChromeDriverManager\n",
    "from selenium.webdriver.common.keys import Keys\n",
    "driver = webdriver.Chrome()\n",
    "driver.get('https://www.bluebet.com.au/sports/Martial-Arts/128')\n",
    "driver.implicitly_wait(100)\n",
    "\n",
    "links = [i.get_attribute('href') for i in driver.find_elements_by_xpath('//section/div/a')]\n",
    "for i in links:\n",
    "    driver.get(i)\n",
    "    driver.implicitly_wait(10)\n",
    "    \n",
    "    for k in driver.find_elements_by_class_name('MuiButton-label'):\n",
    "        if 'SHOW MORE' in k.text:\n",
    "            try:\n",
    "                k.click()\n",
    "            except:\n",
    "                continue\n",
    "\n",
    "    others = []\n",
    "    lst = driver.find_elements_by_xpath(\"//*[@id='__next']/div[1]/main/div[3]/section/nav/div\")[1].text.split('\\n')\n",
    "    for i in lst:\n",
    "        if 'SHOW' in i or 'Bets' in i:\n",
    "            continue\n",
    "        others.append(i)\n",
    "\n",
    "    match = others[:5]\n",
    "    Player1, Win1, Player2, Win2 = match[1], match[2], match[3], match[4]\n",
    "    if len(others) == 5:\n",
    "        others = []\n",
    "    print(f\"Player1:{Player1}, Win:{Win1}, Player2:{Player2}, Win:{Win2}, {others}\")\n",
    "    print()"
   ]
  },
  {
   "cell_type": "code",
   "execution_count": 8,
   "id": "7c1f5de0",
   "metadata": {},
   "outputs": [
    {
     "name": "stdout",
     "output_type": "stream",
     "text": [
      "Player1: Louis Smolka, Win: 1.65, Player2: Vince Morales, Win: 2.20, []\n",
      "\n",
      "Player1: Mickey Gall, Win: 2.80, Player2: Alex Morono, Win: 1.42, []\n",
      "\n",
      "Player1: Jared Vanderaa, Win: 2.70, Player2: Azamat Murzakanov, Win: 1.45, []\n",
      "\n",
      "Player1: Claudio Puelles, Win: 1.88, Player2: Chris Gruetzemacher, Win: 1.88, []\n",
      "\n",
      "Player1: Alonzo Menifield, Win: 1.65, Player2: William Knight, Win: 2.20, []\n",
      "\n",
      "Player1: Cheyanne Vlismas, Win: 1.51, Player2: Mallory Martin, Win: 2.50, []\n",
      "\n",
      "Player1: Jake Matthews, Win: 1.53, Player2: Jeremiah Wells, Win: 2.45, []\n",
      "\n",
      "Player1: Zhalgas Zhumagulov, Win: 2.95, Player2: Manel Kape, Win: 1.38, []\n",
      "\n",
      "Player1: Maki Pitolo, Win: 2.30, Player2: Dusko Todorovic, Win: 1.60, []\n",
      "\n",
      "Player1: Bryan Barberena, Win: 1.76, Player2: Darian Weeks, Win: 2.02, []\n",
      "\n",
      "Player1: Brendan Allen, Win: 1.26, Player2: Chris Curtis, Win: 3.70, ['Fight Result', ' Brendan Allen', ' 1.26', ' Chris Curtis', ' 3.70', 'Method Of Victory', ' Brendan Allen by KO/TKO', ' 7.25', ' Brendan Allen by Submission', ' 3.30', ' Brendan Allen by Points', ' 2.45', ' Draw', ' 67.00', ' Chris Curtis by KO/TKO', ' 5.25', ' Chris Curtis by Submission', ' 29.00', ' Chris Curtis by Points', ' 10.00', 'Method/Round Combo', ' Brendan Allen KO/TKO & Round 1', ' 14.00', ' Brendan Allen KO/TKO & Round 2', ' 19.00', ' Brendan Allen KO/TKO & Round 3', ' 36.00', ' Brendan Allen Submission & Round 1', ' 6.40', ' Brendan Allen Submission & Round 2', ' 9.00', ' Brendan Allen Submission & Round 3', ' 17.00', 'Round Betting', ' Brendan Allen to Win in Round 1', ' 4.75', ' Brendan Allen to Win in Round 2', ' 7.00', ' Brendan Allen to Win in Round 3', ' 14.00', ' Chris Curtis to Win in Round 1', ' 10.00', ' Chris Curtis to Win in Round 2', ' 12.00', ' Chris Curtis to Win in Round 3', ' 23.00']\n",
      "\n",
      "Player1: Jim Crute, Win: 1.55, Player2: Jamahal Hill, Win: 2.40, ['Fight Result', ' Jim Crute', ' 1.55', ' Jamahal Hill', ' 2.40', 'Method Of Victory', ' Jamahal Hill by KO/TKO', ' 3.20', ' Jamahal Hill by Submission', ' 23.00', ' Jamahal Hill by Points', ' 7.50', ' Draw', ' 67.00', ' Jimmy Crute by KO/TKO', ' 4.35', ' Jimmy Crute by Submission', ' 3.55', 'Method/Round Combo', ' Jamahal Hill KO/TKO & Round 1', ' 5.75', ' Jamahal Hill KO/TKO & Round 2', ' 9.50', ' Jamahal Hill KO/TKO & Round 3', ' 17.00', ' Jamahal Hill Submission & Round 1', ' 51.00', ' Jamahal Hill Submission & Round 2', ' 81.00', ' Jamahal Hill Submission & Round 3', ' 151.00', 'Round Betting', ' Jamahal Hill to Win in Round 1', ' 5.50', ' Jamahal Hill to Win in Round 2', ' 8.50', ' Jamahal Hill to Win in Round 3', ' 11.00', ' Jimmy Crute to Win in Round 1', ' 3.80', ' Jimmy Crute to Win in Round 2', ' 6.80', ' Jimmy Crute to Win in Round 3', ' 13.00']\n",
      "\n",
      "Player1: Clayton Guida, Win: 2.50, Player2: Leonardo Santos, Win: 1.51, ['Fight Result', ' Clayton Guida', ' 2.50', ' Leonardo Santos', ' 1.51', 'Method Of Victory', ' Clay Guidal by KO/TKO', ' 9.50', ' Clay Guidal by Submission', ' 17.00', ' Clay Guidal by Points', ' 3.70', ' Draw', ' 67.00', ' Leo Santos by KO/TKO', ' 5.75', ' Leo Santos by Submission', ' 4.30', ' Leo Santos by Points', ' 2.95', 'Method/Round Combo', ' Clay Guidal KO/TKO & Round 1', ' 19.00', ' Clay Guidal KO/TKO & Round 2', ' 26.00', ' Clay Guidal KO/TKO & Round 3', ' 41.00', ' Clay Guidal Submission & Round 1', ' 36.00', ' Clay Guidal Submission & Round 2', ' 51.00', ' Clay Guidal Submission & Round 3', ' 81.00', 'Round Betting', ' Clay Guidal to Win in Round 1', ' 13.00', ' Clay Guidal to Win in Round 2', ' 17.00', ' Clay Guidal to Win in Round 3', ' 26.00', ' Leo Santos to Win in Round 1', ' 5.75', ' Leo Santos to Win in Round 2', ' 8.00', ' Leo Santos to Win in Round 3', ' 14.00']\n",
      "\n",
      "Player1: Brad Riddell, Win: 2.00, Player2: Rafael Fiziev, Win: 1.78, ['Fight Result', ' Brad Riddell', ' 2.00', ' Rafael Fiziev', ' 1.78', 'Method Of Victory', ' Brad Riddell by KO/TKO', ' 5.25', ' Brad Riddell by Submission', ' 19.00', ' Brad Riddell by Points', ' 3.00', ' Draw', ' 67.00', ' Rafael Fiziev by KO/TKO', ' 4.20', ' Rafael Fiziev by Submission', ' 26.00', ' Rafael Fiziev by Points', ' 3.10', 'Method/Round Combo', ' Brad Riddell KO/TKO & Round 1', ' 11.00', ' Brad Riddell KO/TKO & Round 2', ' 14.00', ' Brad Riddell KO/TKO & Round 3', ' 23.00', ' Brad Riddell Submission & Round 1', ' 36.00', ' Brad Riddell Submission & Round 2', ' 51.00', ' Brad Riddell Submission & Round 3', ' 91.00', 'Round Betting', ' Brad Riddell to Win in Round 1', ' 9.00', ' Brad Riddell to Win in Round 2', ' 11.50', ' Brad Riddell to Win in Round 3', ' 21.00', ' Rafael Fiziev to Win in Round 1', ' 9.00', ' Rafael Fiziev to Win in Round 2', ' 11.50', ' Rafael Fiziev to Win in Round 3', ' 19.00']\n",
      "\n",
      "Player1: Rob Font, Win: 1.65, Player2: Jose Aldo, Win: 2.20, ['Fight Result', ' Rob Font', ' 1.65', ' Jose Aldo', ' 2.20', 'Method Of Victory', ' Jose Aldo by KO/TKO', ' 5.25', ' Jose Aldo by Submission', ' 16.00', ' Jose Aldo by Points', ' 3.75', ' Draw', ' 67.00', ' Rob Font by KO/TKO', ' 3.65', ' Rob Font by Submission', ' 19.00', ' Rob Font by Points', ' 3.05', 'Method/Round Combo', ' Jose Aldo KO/TKO & Round 1', ' 13.00', ' Jose Aldo KO/TKO & Round 2', ' 16.00', ' Jose Aldo KO/TKO & Round 3', ' 23.00', ' Jose Aldo KO/TKO & Round 4', ' 31.00', ' Jose Aldo KO/TKO & Round 5', ' 41.00', ' Jose Aldo Submission & Round 1', ' 41.00', 'Round Betting', ' Jose Aldo to Win in Round 1', ' 12.00', ' Jose Aldo to Win in Round 2', ' 15.00', ' Jose Aldo to Win in Round 3', ' 19.00', ' Jose Aldo to Win in Round 4', ' 26.00', ' Jose Aldo to Win in Round 5', ' 36.00', ' Rob Font to Win in Round 1', ' 8.50']\n",
      "\n",
      "Player1: Gillian Robertson, Win: 1.26, Player2: Priscila Cachoeira, Win: 3.70, []\n",
      "\n",
      "Player1: Randy Costa, Win: 1.48, Player2: Tony Kelley, Win: 2.60, []\n",
      "\n",
      "Player1: Ryan Hall, Win: 1.45, Player2: Darrick Minner, Win: 2.70, []\n",
      "\n",
      "Player1: Alex Perez, Win: 1.30, Player2: Matt Schnell, Win: 3.40, []\n",
      "\n",
      "Player1: Miranda Maverick, Win: 1.72, Player2: Erin Blanchfield, Win: 2.08, []\n",
      "\n",
      "Player1: Andre Muniz, Win: 1.68, Player2: Eryk Anders, Win: 2.15, []\n",
      "\n",
      "Player1: Jordan Wright, Win: 3.70, Player2: Bruno Silva, Win: 1.26, []\n",
      "\n",
      "Player1: Augusto Sakai, Win: 1.88, Player2: Tai Tuivasa, Win: 1.88, []\n",
      "\n",
      "Player1: Pedro Munhoz, Win: 1.88, Player2: Dominick Cruz, Win: 1.88, []\n",
      "\n",
      "Player1: Josh Emmett, Win: 1.43, Player2: Dan Ige, Win: 2.75, []\n",
      "\n",
      "Player1: Raulian Frazao Paiva, Win: 3.50, Player2: Sean O'Malley, Win: 1.29, []\n",
      "\n",
      "Player1: Kai Kara-France, Win: 2.45, Player2: Cody Garbrandt, Win: 1.53, []\n",
      "\n",
      "Player1: Geoff Neal, Win: 1.88, Player2: Santiago Ponzinibbio, Win: 1.88, []\n",
      "\n",
      "Player1: Amanda Nunes, Win: 1.11, Player2: Julianna Pena, Win: 6.25, []\n",
      "\n",
      "Player1: Charles Oliveira, Win: 2.30, Player2: Dustin Poirier, Win: 1.60, []\n",
      "\n",
      "Player1: Cub Swanson, Win: 1.46, Player2: Darren Elkins, Win: 2.65, []\n",
      "\n",
      "Player1: Derrick Lewis, Win: 2.08, Player2: Christopher Daukaus, Win: 1.72, []\n",
      "\n",
      "Player1: Charles Jourdain, Win: 1.46, Player2: Andre Ewell, Win: 2.65, []\n",
      "\n",
      "Player1: Justin Tafa, Win: 1.29, Player2: Harry Hunsucker, Win: 3.50, []\n",
      "\n",
      "Player1: Brandon Moreno, Win: 1.58, Player2: Deiveson Figueiredo, Win: 2.35, []\n",
      "\n",
      "Player1: Francis Ngannou, Win: 1.86, Player2: Ciryl Gane, Win: 1.90, []\n",
      "\n"
     ]
    }
   ],
   "source": []
  },
  {
   "cell_type": "code",
   "execution_count": null,
   "id": "a2d8bdb2",
   "metadata": {},
   "outputs": [],
   "source": []
  }
 ],
 "metadata": {
  "kernelspec": {
   "display_name": "Python 3",
   "language": "python",
   "name": "python3"
  },
  "language_info": {
   "codemirror_mode": {
    "name": "ipython",
    "version": 3
   },
   "file_extension": ".py",
   "mimetype": "text/x-python",
   "name": "python",
   "nbconvert_exporter": "python",
   "pygments_lexer": "ipython3",
   "version": "3.8.8"
  }
 },
 "nbformat": 4,
 "nbformat_minor": 5
}
