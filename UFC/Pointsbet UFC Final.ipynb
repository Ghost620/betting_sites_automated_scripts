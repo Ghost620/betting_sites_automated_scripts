{
 "cells": [
  {
   "cell_type": "code",
   "execution_count": 22,
   "id": "706e90c2",
   "metadata": {
    "scrolled": true
   },
   "outputs": [
    {
     "name": "stdout",
     "output_type": "stream",
     "text": [
      "Player1: Louis Smolka, Win: 1.67, Player2: Vince Morales, Win: 2.20, ['METHOD OF VICTORY', 'Louis Smolka by KO/TKO', '6.25', 'Louis Smolka by Submission', '4.80', 'Louis Smolka by Points', '3.35', 'Draw', '67.00', 'Vince Morales by KO/TKO', '5.75', 'Vince Morales by Submission', '15.00', 'Vince Morales by Points', '3.65', 'WILL THE FIGHT GO THE DISTANCE', 'Yes', '1.73', 'No', '2.04', 'FIGHTER/TOTAL ROUNDS DOUBLE', 'Louis Smolka/Under 2.5 Rounds', '3.50', 'Louis Smolka/Over 2.5 Rounds', '2.75', 'Vince Morales/Under 2.5 Rounds', '5.50', 'Vince Morales/Over 2.5 Rounds', '3.20']\n",
      "\n",
      "Player1: Mickey Gall, Win: 2.85, Player2: Alex Morono, Win: 1.42, ['METHOD OF VICTORY', 'Alex Morono by KO/TKO', '4.60', 'Alex Morono by Submission', '10.50', 'Alex Morono by Points', '2.24', 'Draw', '67.00', 'Mickey Gall by KO/TKO', '10.50', 'Mickey Gall by Submission', '6.80', 'Mickey Gall by Points', '5.50', 'WILL THE FIGHT GO THE DISTANCE', 'Yes', '1.60', 'No', '2.24', 'FIGHTER/TOTAL ROUNDS DOUBLE', 'Alex Morono/Under 2.5 Rounds', '3.95', 'Alex Morono/Over 2.5 Rounds', '2.02', 'Mickey Gall/Under 2.5 Rounds', '5.50', 'Mickey Gall/Over 2.5 Rounds', '4.50']\n",
      "\n",
      "Player1: Jared Vanderaa, Win: 2.74, Player2: Azamat Murzakanov, Win: 1.45, ['METHOD OF VICTORY', 'Azamat Murzakanov by KO/TKO', '2.24', 'Azamat Murzakanov by Submission', '17.00', 'Azamat Murzakanov by Points', '4.50', 'Draw', '67.00', 'Jared Vanderaa by KO/TKO', '6.25', 'Jared Vanderaa by Submission', '11.00', 'Jared Vanderaa by Points', '5.00', 'WILL THE FIGHT GO THE DISTANCE', 'Yes', '2.75', 'No', '1.40', 'FIGHTER/TOTAL ROUNDS DOUBLE', 'Azamat Murzakanov/Under 2.5 Rounds', '2.38', 'Azamat Murzakanov/Over 2.5 Rounds', '3.40', 'Jared Vanderaa/Under 2.5 Rounds', '5.25', 'Jared Vanderaa/Over 2.5 Rounds', '4.10']\n",
      "\n",
      "Player1: Claudio Puelles, Win: 1.80, Player2: Chris Gruetzemacher, Win: 1.93, ['METHOD OF VICTORY', 'Chris Gruetzemacher by KO/TKO', '4.60', 'Chris Gruetzemacher by Submission', '13.00', 'Chris Gruetzemacher by Points', '3.40', 'Draw', '67.00', 'Claudio Puelles by KO/TKO', '10.50', 'Claudio Puelles by Submission', '5.75', 'Claudio Puelles by Points', '3.15', 'WILL THE FIGHT GO THE DISTANCE', 'Yes', '1.62', 'No', '2.20', 'FIGHTER/TOTAL ROUNDS DOUBLE', 'Chris Gruetzemacher/Under 2.5 Rounds', '4.25', 'Chris Gruetzemacher/Over 2.5 Rounds', '2.95', 'Claudio Puelles/Under 2.5 Rounds', '4.60', 'Claudio Puelles/Over 2.5 Rounds', '2.80']\n",
      "\n",
      "Player1: Alonzo Menifield, Win: 1.65, Player2: William Knight, Win: 2.25, ['METHOD OF VICTORY', 'Alonzo Menifield by KO/TKO', '3.05', 'Alonzo Menifield by Submission', '11.50', 'Alonzo Menifield by Points', '3.60', 'Draw', '67.00', 'William Knight by KO/TKO', '3.50', 'William Knight by Submission', '21.00', 'William Knight by Points', '6.60', 'WILL THE FIGHT GO THE DISTANCE', 'Yes', '2.32', 'No', '1.56', 'FIGHTER/TOTAL ROUNDS DOUBLE', 'Alonzo Menifield/Under 2.5 Rounds', '3.35', 'Alonzo Menifield/Over 2.5 Rounds', '3.00', 'William Knight/Under 2.5 Rounds', '3.30', 'William Knight/Over 2.5 Rounds', '4.75']\n",
      "\n",
      "Player1: Cheyanne Vlismas, Win: 1.50, Player2: Mallory Martin, Win: 2.58, ['METHOD OF VICTORY', 'Alonzo Menifield by KO/TKO', '3.05', 'Alonzo Menifield by Submission', '11.50', 'Alonzo Menifield by Points', '3.60', 'Draw', '67.00', 'William Knight by KO/TKO', '3.50', 'William Knight by Submission', '21.00', 'William Knight by Points', '6.60', 'WILL THE FIGHT GO THE DISTANCE', 'Yes', '2.32', 'No', '1.56', 'FIGHTER/TOTAL ROUNDS DOUBLE', 'Alonzo Menifield/Under 2.5 Rounds', '3.35', 'Alonzo Menifield/Over 2.5 Rounds', '3.00', 'William Knight/Under 2.5 Rounds', '3.30', 'William Knight/Over 2.5 Rounds', '4.75']\n",
      "\n",
      "Player1: Jake Matthews, Win: 1.53, Player2: Jeremiah Wells, Win: 2.50, ['METHOD OF VICTORY', 'Jake Matthews by KO/TKO', '5.50', 'Jake Matthews by Submission', '6.00', 'Jake Matthews by Points', '2.60', 'Draw', '67.00', 'Jeremiah Wells by KO/TKO', '5.00', 'Jeremiah Wells by Submission', '8.50', 'Jeremiah Wells by Points', '8.00', 'WILL THE FIGHT GO THE DISTANCE', 'Yes', '1.87', 'No', '1.87', 'FIGHTER/TOTAL ROUNDS DOUBLE', 'Jake Matthews/Under 2.5 Rounds', '4.25', 'Jake Matthews/Over 2.5 Rounds', '2.25', 'Jeremiah Wells/Under 2.5 Rounds', '3.60', 'Jeremiah Wells/Over 2.5 Rounds', '5.25']\n",
      "\n",
      "Player1: Zhalgas Zhumagulov, Win: 3.05, Player2: Manel Kape, Win: 1.38, ['METHOD OF VICTORY', 'Manel Kape by KO/TKO', '3.30', 'Manel Kape by Submission', '23.00', 'Manel Kape by Points', '2.34', 'Draw', '67.00', 'Zhalgas Zhumagulov by KO/TKO', '8.50', 'Zhalgas Zhumagulov by Submission', '13.00', 'Zhalgas Zhumagulov by Points', '5.00', 'WILL THE FIGHT GO THE DISTANCE', 'Yes', '1.58', 'No', '2.28', 'FIGHTER/TOTAL ROUNDS DOUBLE', 'Manel Kape/Under 2.5 Rounds', '3.50', 'Manel Kape/Over 2.5 Rounds', '2.05', 'Zhalgas Zhumagulov/Under 2.5 Rounds', '7.25', 'Zhalgas Zhumagulov/Over 2.5 Rounds', '4.20']\n",
      "\n",
      "Player1: Maki Pitolo, Win: 2.34, Player2: Dusko Todorovic, Win: 1.60, ['METHOD OF VICTORY', 'Manel Kape by KO/TKO', '3.30', 'Manel Kape by Submission', '23.00', 'Manel Kape by Points', '2.34', 'Draw', '67.00', 'Zhalgas Zhumagulov by KO/TKO', '8.50', 'Zhalgas Zhumagulov by Submission', '13.00', 'Zhalgas Zhumagulov by Points', '5.00', 'WILL THE FIGHT GO THE DISTANCE', 'Yes', '1.58', 'No', '2.28', 'FIGHTER/TOTAL ROUNDS DOUBLE', 'Manel Kape/Under 2.5 Rounds', '3.50', 'Manel Kape/Over 2.5 Rounds', '2.05', 'Zhalgas Zhumagulov/Under 2.5 Rounds', '7.25', 'Zhalgas Zhumagulov/Over 2.5 Rounds', '4.20']\n",
      "\n",
      "Player1: Bryan Barberena, Win: 1.74, Player2: Darian Weeks, Win: 2.08, ['METHOD OF VICTORY', 'Manel Kape by KO/TKO', '3.30', 'Manel Kape by Submission', '23.00', 'Manel Kape by Points', '2.34', 'Draw', '67.00', 'Zhalgas Zhumagulov by KO/TKO', '8.50', 'Zhalgas Zhumagulov by Submission', '13.00', 'Zhalgas Zhumagulov by Points', '5.00', 'WILL THE FIGHT GO THE DISTANCE', 'Yes', '1.58', 'No', '2.28', 'FIGHTER/TOTAL ROUNDS DOUBLE', 'Manel Kape/Under 2.5 Rounds', '3.50', 'Manel Kape/Over 2.5 Rounds', '2.05', 'Zhalgas Zhumagulov/Under 2.5 Rounds', '7.25', 'Zhalgas Zhumagulov/Over 2.5 Rounds', '4.20']\n",
      "\n"
     ]
    },
    {
     "ename": "TimeoutException",
     "evalue": "Message: \nStacktrace:\nBacktrace:\n\tOrdinal0 [0x0067BDE3+2473443]\n\tOrdinal0 [0x00616661+2057825]\n\tOrdinal0 [0x00522438+1057848]\n\tOrdinal0 [0x0054C7DB+1230811]\n\tOrdinal0 [0x00576712+1402642]\n\tOrdinal0 [0x0056571A+1333018]\n\tOrdinal0 [0x00574ABF+1395391]\n\tOrdinal0 [0x005655AB+1332651]\n\tOrdinal0 [0x00542104+1188100]\n\tOrdinal0 [0x00542F59+1191769]\n\tGetHandleVerifier [0x00802266+1549718]\n\tGetHandleVerifier [0x008AD4A7+2250711]\n\tGetHandleVerifier [0x0070718B+521403]\n\tGetHandleVerifier [0x00706229+517465]\n\tOrdinal0 [0x0061B79D+2078621]\n\tOrdinal0 [0x0061FB58+2095960]\n\tOrdinal0 [0x0061FC92+2096274]\n\tOrdinal0 [0x00629541+2135361]\n\tBaseThreadInitThunk [0x7722FA29+25]\n\tRtlGetAppContainerNamedObjectPath [0x77B87A9E+286]\n\tRtlGetAppContainerNamedObjectPath [0x77B87A6E+238]\n",
     "output_type": "error",
     "traceback": [
      "\u001b[1;31m---------------------------------------------------------------------------\u001b[0m",
      "\u001b[1;31mTimeoutException\u001b[0m                          Traceback (most recent call last)",
      "\u001b[1;32m<ipython-input-22-302b9969a2d4>\u001b[0m in \u001b[0;36m<module>\u001b[1;34m\u001b[0m\n\u001b[0;32m     15\u001b[0m     \u001b[0mdriver\u001b[0m\u001b[1;33m.\u001b[0m\u001b[0mimplicitly_wait\u001b[0m\u001b[1;33m(\u001b[0m\u001b[1;36m10\u001b[0m\u001b[1;33m)\u001b[0m\u001b[1;33m\u001b[0m\u001b[1;33m\u001b[0m\u001b[0m\n\u001b[0;32m     16\u001b[0m \u001b[1;33m\u001b[0m\u001b[0m\n\u001b[1;32m---> 17\u001b[1;33m     \u001b[0mWebDriverWait\u001b[0m\u001b[1;33m(\u001b[0m\u001b[0mdriver\u001b[0m\u001b[1;33m,\u001b[0m \u001b[1;36m10\u001b[0m\u001b[1;33m)\u001b[0m\u001b[1;33m.\u001b[0m\u001b[0muntil\u001b[0m\u001b[1;33m(\u001b[0m\u001b[0mEC\u001b[0m\u001b[1;33m.\u001b[0m\u001b[0mvisibility_of_element_located\u001b[0m\u001b[1;33m(\u001b[0m\u001b[1;33m(\u001b[0m\u001b[0mBy\u001b[0m\u001b[1;33m.\u001b[0m\u001b[0mCLASS_NAME\u001b[0m\u001b[1;33m,\u001b[0m \u001b[1;34m\"fsu5r7i\"\u001b[0m\u001b[1;33m)\u001b[0m\u001b[1;33m)\u001b[0m\u001b[1;33m)\u001b[0m\u001b[1;33m\u001b[0m\u001b[1;33m\u001b[0m\u001b[0m\n\u001b[0m\u001b[0;32m     18\u001b[0m     \u001b[0mlst\u001b[0m \u001b[1;33m=\u001b[0m \u001b[0mdriver\u001b[0m\u001b[1;33m.\u001b[0m\u001b[0mfind_element_by_class_name\u001b[0m\u001b[1;33m(\u001b[0m\u001b[1;34m'f1q2rfol '\u001b[0m\u001b[1;33m)\u001b[0m\u001b[1;33m.\u001b[0m\u001b[0mtext\u001b[0m\u001b[1;33m.\u001b[0m\u001b[0msplit\u001b[0m\u001b[1;33m(\u001b[0m\u001b[1;34m'\\n'\u001b[0m\u001b[1;33m)\u001b[0m\u001b[1;33m\u001b[0m\u001b[1;33m\u001b[0m\u001b[0m\n\u001b[0;32m     19\u001b[0m     \u001b[0mPlayer1\u001b[0m\u001b[1;33m,\u001b[0m \u001b[0mWin1\u001b[0m\u001b[1;33m,\u001b[0m \u001b[0mPlayer2\u001b[0m\u001b[1;33m,\u001b[0m \u001b[0mWin2\u001b[0m \u001b[1;33m=\u001b[0m \u001b[0mlst\u001b[0m\u001b[1;33m[\u001b[0m\u001b[1;36m1\u001b[0m\u001b[1;33m]\u001b[0m\u001b[1;33m,\u001b[0m \u001b[0mlst\u001b[0m\u001b[1;33m[\u001b[0m\u001b[1;36m2\u001b[0m\u001b[1;33m]\u001b[0m\u001b[1;33m,\u001b[0m \u001b[0mlst\u001b[0m\u001b[1;33m[\u001b[0m\u001b[1;36m3\u001b[0m\u001b[1;33m]\u001b[0m\u001b[1;33m,\u001b[0m \u001b[0mlst\u001b[0m\u001b[1;33m[\u001b[0m\u001b[1;36m4\u001b[0m\u001b[1;33m]\u001b[0m\u001b[1;33m\u001b[0m\u001b[1;33m\u001b[0m\u001b[0m\n",
      "\u001b[1;32m~\\anaconda3\\lib\\site-packages\\selenium\\webdriver\\support\\wait.py\u001b[0m in \u001b[0;36muntil\u001b[1;34m(self, method, message)\u001b[0m\n\u001b[0;32m     85\u001b[0m             \u001b[1;32mif\u001b[0m \u001b[0mtime\u001b[0m\u001b[1;33m.\u001b[0m\u001b[0mtime\u001b[0m\u001b[1;33m(\u001b[0m\u001b[1;33m)\u001b[0m \u001b[1;33m>\u001b[0m \u001b[0mend_time\u001b[0m\u001b[1;33m:\u001b[0m\u001b[1;33m\u001b[0m\u001b[1;33m\u001b[0m\u001b[0m\n\u001b[0;32m     86\u001b[0m                 \u001b[1;32mbreak\u001b[0m\u001b[1;33m\u001b[0m\u001b[1;33m\u001b[0m\u001b[0m\n\u001b[1;32m---> 87\u001b[1;33m         \u001b[1;32mraise\u001b[0m \u001b[0mTimeoutException\u001b[0m\u001b[1;33m(\u001b[0m\u001b[0mmessage\u001b[0m\u001b[1;33m,\u001b[0m \u001b[0mscreen\u001b[0m\u001b[1;33m,\u001b[0m \u001b[0mstacktrace\u001b[0m\u001b[1;33m)\u001b[0m\u001b[1;33m\u001b[0m\u001b[1;33m\u001b[0m\u001b[0m\n\u001b[0m\u001b[0;32m     88\u001b[0m \u001b[1;33m\u001b[0m\u001b[0m\n\u001b[0;32m     89\u001b[0m     \u001b[1;32mdef\u001b[0m \u001b[0muntil_not\u001b[0m\u001b[1;33m(\u001b[0m\u001b[0mself\u001b[0m\u001b[1;33m,\u001b[0m \u001b[0mmethod\u001b[0m\u001b[1;33m,\u001b[0m \u001b[0mmessage\u001b[0m\u001b[1;33m=\u001b[0m\u001b[1;34m''\u001b[0m\u001b[1;33m)\u001b[0m\u001b[1;33m:\u001b[0m\u001b[1;33m\u001b[0m\u001b[1;33m\u001b[0m\u001b[0m\n",
      "\u001b[1;31mTimeoutException\u001b[0m: Message: \nStacktrace:\nBacktrace:\n\tOrdinal0 [0x0067BDE3+2473443]\n\tOrdinal0 [0x00616661+2057825]\n\tOrdinal0 [0x00522438+1057848]\n\tOrdinal0 [0x0054C7DB+1230811]\n\tOrdinal0 [0x00576712+1402642]\n\tOrdinal0 [0x0056571A+1333018]\n\tOrdinal0 [0x00574ABF+1395391]\n\tOrdinal0 [0x005655AB+1332651]\n\tOrdinal0 [0x00542104+1188100]\n\tOrdinal0 [0x00542F59+1191769]\n\tGetHandleVerifier [0x00802266+1549718]\n\tGetHandleVerifier [0x008AD4A7+2250711]\n\tGetHandleVerifier [0x0070718B+521403]\n\tGetHandleVerifier [0x00706229+517465]\n\tOrdinal0 [0x0061B79D+2078621]\n\tOrdinal0 [0x0061FB58+2095960]\n\tOrdinal0 [0x0061FC92+2096274]\n\tOrdinal0 [0x00629541+2135361]\n\tBaseThreadInitThunk [0x7722FA29+25]\n\tRtlGetAppContainerNamedObjectPath [0x77B87A9E+286]\n\tRtlGetAppContainerNamedObjectPath [0x77B87A6E+238]\n"
     ]
    }
   ],
   "source": [
    "from selenium import webdriver\n",
    "from webdriver_manager.chrome import ChromeDriverManager\n",
    "from selenium.webdriver.common.keys import Keys\n",
    "from selenium.webdriver.common.by import By\n",
    "from selenium.webdriver.support.ui import WebDriverWait\n",
    "from selenium.webdriver.support import expected_conditions as EC\n",
    "driver = webdriver.Chrome()\n",
    "driver.get('https://pointsbet.com.au/sports/mma/UFC')\n",
    "driver.implicitly_wait(100)\n",
    "\n",
    "links = [i.get_attribute('href') for i in driver.find_elements_by_xpath(\"//div[@class='f1oyvxkl']/a\")]\n",
    "\n",
    "for i in links:\n",
    "    driver.get(i)\n",
    "    driver.implicitly_wait(10)\n",
    "    \n",
    "    WebDriverWait(driver, 10).until(EC.visibility_of_element_located((By.CLASS_NAME, \"fsu5r7i\")))\n",
    "    lst = driver.find_element_by_class_name('f1q2rfol ').text.split('\\n')\n",
    "    Player1, Win1, Player2, Win2 = lst[1], lst[2], lst[3], lst[4]\n",
    "    others = []\n",
    "\n",
    "    try:\n",
    "        for k in range(len(driver.find_elements_by_class_name('f1q2rfol'))):\n",
    "            if 'METHOD OF VICTORY' in driver.find_elements_by_class_name('f1q2rfol')[k].text.split('\\n')[0]:\n",
    "                driver.find_element_by_class_name('f1qtqpud').click()\n",
    "                mov = driver.find_elements_by_class_name('f1q2rfol')[k].text.split('\\n')\n",
    "\n",
    "            elif 'WILL THE FIGHT GO THE DISTANCE' in driver.find_elements_by_class_name('f1q2rfol')[k].text.split('\\n')[0]:\n",
    "                FYN = driver.find_elements_by_class_name('f1q2rfol')[k].text.split('\\n')\n",
    "\n",
    "            elif 'TOTAL ROUNDS' in driver.find_elements_by_class_name('f1q2rfol')[k].text.split('\\n')[0]:\n",
    "                TR = driver.find_elements_by_class_name('f1q2rfol')[k].text.split('\\n')\n",
    "\n",
    "        others = mov + FYN + TR\n",
    "    except:\n",
    "        pass\n",
    "\n",
    "    print(f\"Player1: {Player1}, Win: {Win1}, Player2: {Player2}, Win: {Win2}, {others}\")\n",
    "    print()"
   ]
  },
  {
   "cell_type": "code",
   "execution_count": null,
   "id": "57a24eea",
   "metadata": {},
   "outputs": [],
   "source": []
  }
 ],
 "metadata": {
  "kernelspec": {
   "display_name": "Python 3",
   "language": "python",
   "name": "python3"
  },
  "language_info": {
   "codemirror_mode": {
    "name": "ipython",
    "version": 3
   },
   "file_extension": ".py",
   "mimetype": "text/x-python",
   "name": "python",
   "nbconvert_exporter": "python",
   "pygments_lexer": "ipython3",
   "version": "3.8.8"
  }
 },
 "nbformat": 4,
 "nbformat_minor": 5
}
