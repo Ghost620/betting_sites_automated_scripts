{
 "cells": [
  {
   "cell_type": "code",
   "execution_count": 5,
   "id": "b7ab169e",
   "metadata": {},
   "outputs": [
    {
     "name": "stderr",
     "output_type": "stream",
     "text": [
      "[WDM] - \n",
      "\n",
      "[WDM] - ====== WebDriver manager ======\n",
      "[WDM] - Current google-chrome version is 97.0.4692\n",
      "[WDM] - Get LATEST driver version for 97.0.4692\n",
      "[WDM] - Driver [C:\\Users\\fagho\\.wdm\\drivers\\chromedriver\\win32\\97.0.4692.71\\chromedriver.exe] found in cache\n",
      "<ipython-input-5-cfa1971dd9f9>:4: DeprecationWarning: executable_path has been deprecated, please pass in a Service object\n",
      "  driver = webdriver.Chrome(ChromeDriverManager().install())\n"
     ]
    },
    {
     "name": "stdout",
     "output_type": "stream",
     "text": [
      "-------------------------\n",
      "BET1 ---> Player1: Dakota Bush by Submission or Points, Win: 3.20, Player2: Dakota Bush by KO/TKO or Points, Win: 3.60, ['Double Chance', '3.20', '3.60', '4.40', 'Draw', '51.00', '1.94', '4.50', '1.50', 'Double Chance II', '1.75', '3.70', '8.75', '1.52', '2.70', '4.50', '1.67', '3.25', '6.50', 'Method of Victory 7-Way', 'Dakota Bush by KO/TKO', '10.00', 'Dakota Bush by Submission', '7.00', 'Dakota Bush by Points', '4.75', 'Draw', '51.00', 'Viacheslav Borshchev by Points', '4.75', 'Viacheslav Borshchev by KO/TKO', '2.00', '31.00', 'Method of Victory 5-Way', '4.40', 'Dakota Bush by Points', '4.75', 'Draw', '51.00', 'Viacheslav Borshchev by Points', '4.75', '1.94', 'Will Fight Go The Distance', '1.45', 'Yes - Fight Will Go Distance', '2.65', 'Total Rounds', 'Over 2.5', '2.15', 'Under 2.5', '1.65']\n",
      "BET2 ---> Player1: Dakota Bush by Submission or Points, Win: 3.20, Player2: Dakota Bush by KO/TKO or Points, Win: 3.60, ['Double Chance', '3.20', '3.60', '4.40', 'Draw', '51.00', '1.94', '4.50', '1.50', 'Double Chance II', '1.75', '3.70', '8.75', '1.52', '2.70', '4.50', '1.67', '3.25', '6.50', 'Method of Victory 7-Way', 'Dakota Bush by KO/TKO', '10.00', 'Dakota Bush by Submission', '7.00', 'Dakota Bush by Points', '4.75', 'Draw', '51.00', 'Viacheslav Borshchev by Points', '4.75', 'Viacheslav Borshchev by KO/TKO', '2.00', '31.00', 'Method of Victory 5-Way', '4.40', 'Dakota Bush by Points', '4.75', 'Draw', '51.00', 'Viacheslav Borshchev by Points', '4.75', '1.94', 'Will Fight Go The Distance', '1.45', 'Yes - Fight Will Go Distance', '2.65', 'Total Rounds', 'Over 2.5', '2.15', 'Under 2.5', '1.65']\n",
      "-------------------------\n",
      "BET3 ---> Player1: Jamie Pickett, Win: 2.25, Player2: Joseph Holmes, Win: 1.67, ['Method of Victory 7-Way', 'Jamie Pickett by Points', '3.75', 'Jamie Pickett by KO/TKO', '5.50', 'Jamie Pickett by Submission', '13.00', 'Draw', '51.00', 'Joseph Holmes by Points', '4.50', 'Joseph Holmes by Submission', '3.75', 'Joseph Holmes by KO/TKO', '5.50', 'Double Chance', '2.40', '3.05', '4.00', 'Draw', '51.00', '2.40', '2.20', '2.65', 'Will Fight Go The Distance', '1.65', 'Yes - Fight Will Go Distance', '2.20', 'Double Chance', '2.40', '3.05', '4.00', 'Draw', '51.00', '2.40', '2.20', '2.65', 'Double Chance II', '3.05', '2.70', '2.40', '2.40', '2.20', '2.02', '4.25', '3.60', '3.10', 'Method of Victory 7-Way', 'Jamie Pickett by Points', '3.75', 'Jamie Pickett by KO/TKO', '5.50', 'Jamie Pickett by Submission', '13.00', 'Draw', '51.00', 'Joseph Holmes by Points', '4.50', 'Joseph Holmes by Submission', '3.75', 'Joseph Holmes by KO/TKO', '5.50', 'Method of Victory 5-Way', '4.00', 'Jamie Pickett by Points', '3.75', 'Draw', '51.00', 'Joseph Holmes by Points', '4.50', '2.40', 'Will Fight Go The Distance', '1.65', 'Yes - Fight Will Go Distance', '2.20', 'Total Rounds', 'Over 1.5', '1.52', 'Under 1.5', '2.45']\n",
      "-------------------------\n",
      "BET4 ---> Player1: Joanderson Brito, Win: 1.73, Player2: Bill Algeo, Win: 2.10, ['Method of Victory 7-Way', 'Joanderson Brito by Submission', '7.50', 'Joanderson Brito by KO/TKO', '6.00', 'Joanderson Brito by Points', '3.00', 'Draw', '51.00', 'Bill Algeo by KO/TKO', '6.00', 'Bill Algeo by Submission', '8.00', 'Bill Algeo by Points', '4.25', 'Double Chance', '2.05', '3.50', '2.20', 'Draw', '51.00', 'Bill Algeo by KO/TKO or Points', '2.60', '2.90', '3.60', 'Will Fight Go The Distance', '1.98', 'Yes - Fight Will Go Distance', '1.78', 'Double Chance', '2.05', '3.50', '2.20', 'Draw', '51.00', 'Bill Algeo by KO/TKO or Points', '2.60', '2.90', '3.60', 'Double Chance II', '3.20', '2.65', '3.70', '2.05', '1.82', '2.25', '3.60', '2.85', '4.20', 'Method of Victory 7-Way', 'Joanderson Brito by Submission', '7.50', 'Joanderson Brito by KO/TKO', '6.00', 'Joanderson Brito by Points', '3.00', 'Draw', '51.00', 'Bill Algeo by KO/TKO', '6.00', 'Bill Algeo by Submission', '8.00', 'Bill Algeo by Points', '4.25', 'Method of Victory 5-Way', '3.50', 'Joanderson Brito by Points', '3.00', 'Draw', '51.00', 'Bill Algeo by Points', '4.25', '3.60', 'Will Fight Go The Distance', '1.98', 'Yes - Fight Will Go Distance', '1.78', 'Total Rounds', 'Over 2.5', '1.60', 'Under 2.5', '2.25']\n",
      "-------------------------\n",
      "BET5 ---> Player1: Chase Sherman, Win: 2.05, Player2: Jake Collier, Win: 1.77, ['Method of Victory 7-Way', 'Chase Sherman by Points', '4.50', 'Chase Sherman by KO/TKO', '4.00', 'Chase Sherman by Submission', '19.00', 'Draw', '51.00', 'Jake Collier by Points', '6.50', 'Jake Collier by KO/TKO', '2.40', 'Jake Collier by Submission', '13.00', 'Double Chance', '2.30', '3.90', '3.35', 'Draw', '51.00', '2.10', '4.80', '1.82', 'Will Fight Go The Distance', '1.38', 'Yes - Fight Will Go Distance', '2.90', 'Double Chance', '2.30', '3.90', '3.35', 'Draw', '51.00', '2.10', '4.80', '1.82', 'Double Chance II', '1.58', '2.70', '3.30', '1.65', '2.95', '3.60', '2.20', '5.40', '9.00', 'Method of Victory 7-Way', 'Chase Sherman by Points', '4.50', 'Chase Sherman by KO/TKO', '4.00', 'Chase Sherman by Submission', '19.00', 'Draw', '51.00', 'Jake Collier by Points', '6.50', 'Jake Collier by KO/TKO', '2.40', 'Jake Collier by Submission', '13.00', 'Method of Victory 5-Way', '3.35', 'Chase Sherman by Points', '4.50', 'Draw', '51.00', '2.10', 'Jake Collier by Points', '6.50', 'Will Fight Go The Distance', '1.38', 'Yes - Fight Will Go Distance', '2.90', 'Total Rounds', 'Over 2.5', '1.57', 'Under 2.5', '2.30']\n",
      "-------------------------\n",
      "BET6 ---> Player1: Brandon Royval, Win: 1.62, Player2: Rogerio Bontorin, Win: 2.30, ['Method of Victory 7-Way', 'Brandon Royval by Submission', '2.85', 'Brandon Royval by Points', '5.25', 'Brandon Royval by KO/TKO', '6.00', 'Draw', '51.00', 'Rogerio Bontorin by Points', '5.25', 'Rogerio Bontorin by KO/TKO', '7.00', 'Rogerio Bontorin by Submission', '7.00', 'Double Chance', '2.05', '1.92', '3.00', 'Draw', '51.00', '3.25', '3.70', '3.25', 'Will Fight Go The Distance', '1.40', 'Yes - Fight Will Go Distance', '2.85', 'Double Chance', '2.05', '1.92', '3.00', 'Draw', '51.00', '3.25', '3.70', '3.25', 'Double Chance II', '3.50', '3.05', '3.50', '3.30', '2.85', '3.30', '2.15', '1.95', '2.15', 'Method of Victory 7-Way', 'Brandon Royval by Submission', '2.85', 'Brandon Royval by Points', '5.25', 'Brandon Royval by KO/TKO', '6.00', 'Draw', '51.00', 'Rogerio Bontorin by Points', '5.25', 'Rogerio Bontorin by KO/TKO', '7.00', 'Rogerio Bontorin by Submission', '7.00', 'Method of Victory 5-Way', 'Brandon Royval by Points', '5.25', '2.05', 'Draw', '51.00', 'Rogerio Bontorin by Points', '5.25', '3.70', 'Will Fight Go The Distance', '1.40', 'Yes - Fight Will Go Distance', '2.85', 'Total Rounds', 'Over 2.5', '2.30', 'Under 2.5', '1.57']\n",
      "-------------------------\n",
      "BET7 ---> Player1: Katlyn Chookagian, Win: 1.52, Player2: Jennifer Maia, Win: 2.55, ['Method of Victory 7-Way', '13.00', 'Katlyn Chookagian by Points', '1.90', 'Katlyn Chookagian by KO/TKO', '9.00', 'Draw', '51.00', 'Jennifer Maia by KO/TKO', '10.00', 'Jennifer Maia by Points', '3.50', 'Jennifer Maia by Submission', '15.00', 'Double Chance', '1.60', '1.68', '5.60', 'Draw', '51.00', '2.80', '6.25', '3.05', 'Will Fight Go The Distance', '3.30', 'Yes - Fight Will Go Distance', '1.32', 'Double Chance', '1.60', '1.68', '5.60', 'Draw', '51.00', '2.80', '6.25', '3.05', 'Double Chance II', '5.50', '2.80', '6.50', '1.65', '1.28', '1.72', '6.60', '3.00', '8.25', 'Method of Victory 7-Way', '13.00', 'Katlyn Chookagian by Points', '1.90', 'Katlyn Chookagian by KO/TKO', '9.00', 'Draw', '51.00', 'Jennifer Maia by KO/TKO', '10.00', 'Jennifer Maia by Points', '3.50', 'Jennifer Maia by Submission', '15.00', 'Method of Victory 5-Way', '5.60', 'Katlyn Chookagian by Points', '1.90', 'Draw', '51.00', '6.25', 'Jennifer Maia by Points', '3.50', 'Will Fight Go The Distance', '3.30', 'Yes - Fight Will Go Distance', '1.32', 'Total Rounds', 'Over 2.5', '1.28', 'Under 2.5', '3.50']\n",
      "-------------------------\n",
      "BET8 ---> Player1: Giga Chikadze, Win: 1.44, Player2: Calvin Kattar, Win: 2.85, ['Method of Victory 7-Way', 'Giga Chikadze by Points', '3.75', 'Giga Chikadze by KO/TKO', '2.10', 'Giga Chikadze by Submission', '23.00', 'Draw', '51.00', 'Calvin Kattar by KO/TKO', '4.75', 'Calvin Kattar by Submission', '31.00', 'Calvin Kattar by Points', '7.00', 'Double Chance', '3.40', '1.42', '1.98', 'Draw', '51.00', '4.20', '3.15', '6.25', 'Will Fight Go The Distance', '1.44', 'Yes - Fight Will Go Distance', '2.70', 'Double Chance', '3.40', '1.42', '1.98', 'Draw', '51.00', '4.20', '3.15', '6.25', 'Double Chance II', '1.55', '1.70', '2.00', '2.35', '2.70', '3.60', '4.40', '6.00', '16.00', 'Method of Victory 7-Way', 'Giga Chikadze by Points', '3.75', 'Giga Chikadze by KO/TKO', '2.10', 'Giga Chikadze by Submission', '23.00', 'Draw', '51.00', 'Calvin Kattar by KO/TKO', '4.75', 'Calvin Kattar by Submission', '31.00', 'Calvin Kattar by Points', '7.00', 'Method of Victory 5-Way', 'Giga Chikadze by Points', '3.75', '1.98', 'Draw', '51.00', 'Calvin Kattar by Points', '7.00', '4.20', 'Will Fight Go The Distance', '1.44', 'Yes - Fight Will Go Distance', '2.70', 'Total Rounds', 'Over 2.5', '1.53', 'Under 2.5', '2.40']\n"
     ]
    },
    {
     "name": "stdout",
     "output_type": "stream",
     "text": [
      "BET1 ---> Player1: TJ Brown, Win: 1.42, Player2: Charles Rosa, Win: 2.90\n",
      "BET2 ---> Player1: Brian Kelleher, Win: 1.36, Player2: Kevin Croom, Win: 3.15\n",
      "-------------------------\n",
      "BET1 ---> Player1: Genaro Valdez, Win: 2.60, Player2: Matt Frevola, Win: 1.50, ['Total Rounds', 'Over 2.5', '1.73', 'Under 2.5', '2.02']\n",
      "-------------------------\n",
      "BET2 ---> Player1: Ji Yeon Kim, Win: 1.73, Player2: Poliana Botelho, Win: 2.10, ['Total Rounds', 'Over 2.5', '1.32', 'Under 2.5', '3.20']\n",
      "-------------------------\n",
      "BET3 ---> Player1: Michael Morales, Win: 1.72, Player2: Trevin Giles, Win: 2.15, ['Total Rounds', 'Over 2.5', '1.53', 'Under 2.5', '2.40']\n",
      "-------------------------\n",
      "BET4 ---> Player1: Rodolfo Vieira, Win: 1.38, Player2: Wellington Turman, Win: 3.05, ['Total Rounds', 'Over 1.5', '1.87', 'Under 1.5', '1.87']\n",
      "-------------------------\n",
      "BET5 ---> Player1: Tony Gravely, Win: 1.44, Player2: Saimon Oliveira, Win: 2.85, ['Total Rounds', 'Over 2.5', '1.60', 'Under 2.5', '2.25']\n",
      "-------------------------\n",
      "BET6 ---> Player1: Kay Hansen, Win: 1.42, Player2: Jasmine Jasudavicius, Win: 2.90, ['Total Rounds', 'Over 2.5', '1.35', 'Under 2.5', '3.00']\n",
      "-------------------------\n",
      "BET7 ---> Player1: Said Nurmagomedov, Win: 1.52, Player2: Cody Stamann, Win: 2.55, ['Total Rounds', 'Over 2.5', '1.38', 'Under 2.5', '2.85']\n",
      "-------------------------\n",
      "BET8 ---> Player1: Aleksei Oleinik, Win: 2.35, Player2: Greg Hardy, Win: 1.60, ['Total Rounds', 'Over 1.5', '2.55', 'Under 1.5', '1.46']\n",
      "-------------------------\n",
      "BET9 ---> Player1: Brandon Moreno, Win: 1.57, Player2: Deiveson Figueiredo, Win: 2.40, ['Total Rounds', 'Over 3.5', '1.87', 'Under 3.5', '1.87']\n",
      "-------------------------\n",
      "BET10 ---> Player1: Francis Ngannou, Win: 2.02, Player2: Ciryl Gane, Win: 1.80, ['Total Rounds', 'Over 2.5', '1.94', 'Under 2.5', '1.80']\n",
      "BET1 ---> Player1: Sean Strickland, Win: 1.50, Player2: Jack Hermansson, Win: 2.60\n",
      "BET2 ---> Player1: Punahele Soriano, Win: 1.52, Player2: Nick Maximov, Win: 2.55\n",
      "BET3 ---> Player1: Jailton Almeida, Win: 1.35, Player2: Danilo Marques, Win: 3.25\n",
      "BET4 ---> Player1: Julian Erosa, Win: 1.38, Player2: Steven Peterson, Win: 3.05\n",
      "BET5 ---> Player1: Hakeem Dawodu, Win: 1.64, Player2: Mike Trizano, Win: 2.30\n",
      "BET6 ---> Player1: Marc-Andre Barriault, Win: 1.62, Player2: Chidi Njokuani, Win: 2.30\n",
      "BET7 ---> Player1: Miles Johns, Win: 1.44, Player2: John Castaneda, Win: 2.85\n",
      "BET8 ---> Player1: Bryan Battle, Win: 2.02, Player2: Tresean Gore, Win: 1.80\n",
      "BET9 ---> Player1: Denys Bondar, Win: 1.44, Player2: Malcolm Gordon, Win: 2.85\n",
      "BET10 ---> Player1: Philip Rowe, Win: 1.60, Player2: Jason Witt, Win: 2.35\n",
      "BET11 ---> Player1: Shavkat Rakhmonov, Win: 1.38, Player2: Carlston Harris, Win: 3.05\n"
     ]
    }
   ],
   "source": [
    "from selenium import webdriver\n",
    "from webdriver_manager.chrome import ChromeDriverManager\n",
    "from selenium.webdriver.common.keys import Keys\n",
    "driver = webdriver.Chrome(ChromeDriverManager().install())\n",
    "driver.maximize_window()\n",
    "driver.get('https://www.ladbrokes.com.au/sports/mma')\n",
    "driver.implicitly_wait(15)\n",
    "\n",
    "leagues = [i.get_attribute('href') for i in driver.find_elements_by_xpath(\"//div[@class='matches-filter__content']/a\")]\n",
    "\n",
    "for k in leagues:\n",
    "    if 'ufc' not in k:\n",
    "        continue\n",
    "    driver.get(k)\n",
    "\n",
    "    for a in range(len(driver.find_elements_by_xpath(\"//div[@class='markets-link-inner']\"))):\n",
    "        if '1 Market' in driver.find_elements_by_xpath(\"//div[@class='markets-link-inner']\")[a].text:\n",
    "            match = driver.find_elements_by_xpath(\"//div[@class='sports-market-primary']\")[a].text.split('\\n')\n",
    "            Player1, Win1, Player2, Win2 = match[0], match[1], match[2], match[3]\n",
    "            print(f\"BET{a+1} ---> Player1: {Player1}, Win: {Win1}, Player2: {Player2}, Win: {Win2}\")\n",
    "        else:   \n",
    "            driver.find_elements_by_xpath(\"//div[@class='markets-link-inner']\")[a].click()\n",
    "            try:\n",
    "                for j in driver.find_elements_by_xpath(\"//div[@class='market-group']\"):\n",
    "                    j.click()\n",
    "                    for i in driver.find_elements_by_xpath(\"//div[@class='market-two-col']\"):\n",
    "                        i.click()\n",
    "                print('-------------------------')\n",
    "\n",
    "                lst = driver.find_elements_by_xpath(\"//div[@class='market-two-col']\")\n",
    "                match = lst[0].text.split('\\n')\n",
    "                Player1, Win1, Player2, Win2 = match[1], match[2], match[3], match[4]\n",
    "                chk = ['Method of Victory', 'Double Chance', 'Will Fight Go The Distance', 'Total Rounds']\n",
    "                extras = []\n",
    "                for k in lst:\n",
    "                    for j in chk:\n",
    "                        if j in k.text.split('\\n')[0]:\n",
    "                            others = k.text.split('\\n')\n",
    "                            for b in others:\n",
    "                                if len(b) > 30:\n",
    "                                    continue\n",
    "                                extras.append(b)\n",
    "            except:\n",
    "                pass\n",
    "\n",
    "            driver.back()\n",
    "            print(f\"BET{a+1} ---> Player1: {Player1}, Win: {Win1}, Player2: {Player2}, Win: {Win2}, {extras}\")"
   ]
  },
  {
   "cell_type": "code",
   "execution_count": null,
   "id": "bde5e0a4",
   "metadata": {},
   "outputs": [],
   "source": []
  }
 ],
 "metadata": {
  "kernelspec": {
   "display_name": "Python 3",
   "language": "python",
   "name": "python3"
  },
  "language_info": {
   "codemirror_mode": {
    "name": "ipython",
    "version": 3
   },
   "file_extension": ".py",
   "mimetype": "text/x-python",
   "name": "python",
   "nbconvert_exporter": "python",
   "pygments_lexer": "ipython3",
   "version": "3.8.8"
  }
 },
 "nbformat": 4,
 "nbformat_minor": 5
}
