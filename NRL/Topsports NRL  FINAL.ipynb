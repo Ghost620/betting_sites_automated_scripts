{
 "cells": [
  {
   "cell_type": "code",
   "execution_count": 8,
   "id": "fe3b39f2",
   "metadata": {},
   "outputs": [
    {
     "name": "stdout",
     "output_type": "stream",
     "text": [
      "Penrith Panthers 1.52 -5.5 @ 1.90 Manly Sea Eagles 2.55 +5.5 @ 1.90\n",
      "Canberra Raiders 1.90 - Cronulla Sharks 1.90 -\n",
      "Brisbane Broncos 3.05 +7.5 @ 1.90 South Sydney Rabbitohs 1.38 -7.5 @ 1.90\n",
      "Sydney Roosters 1.25 -10.5 @ 1.90 Newcastle Knights 4.00 +10.5 @ 1.90\n",
      "New Zealand Warriors 1.55 -4.5 @ 1.90 St George Illawarra Dragons 2.45 +4.5 @ 1.90\n",
      "Wests Tigers 3.55 +9.5 @ 1.95 Melbourne Storm 1.30 -9.5 @ 1.85\n",
      "Parramatta Eels 1.60 -4.5 @ 1.90 Gold Coast Titans 2.35 +4.5 @ 1.90\n",
      "North Queensland Cowboys 2.00 +1.5 @ 1.90 Canterbury Bulldogs 1.80 -1.5 @ 1.90\n"
     ]
    }
   ],
   "source": [
    "from selenium import webdriver\n",
    "from webdriver_manager.chrome import ChromeDriverManager\n",
    "from selenium.webdriver.common.keys import Keys\n",
    "driver = webdriver.Chrome()\n",
    "driver.get('https://www.topsport.com.au/Sport/Rugby_League/NRL_-_Round_1_Matches/Matches')\n",
    "driver.implicitly_wait(15)\n",
    "\n",
    "for i in range(len(driver.find_elements_by_class_name('MarketTable'))):\n",
    "    \n",
    "    match = driver.find_elements_by_class_name('MarketTable')[i].text.split('\\n')\n",
    "    try:\n",
    "        if len(match) == 1:\n",
    "            break\n",
    "        elif len(match) == 6:\n",
    "            Team1, Win1, Line1, Team2, Win2, Line2 = match[2], match[3], '-', match[4], match[5], '-'\n",
    "        else:\n",
    "            Team1, Win1, Line1, Team2, Win2, Line2 = match[3], match[4], match[5], match[6], match[7], match[8]\n",
    "\n",
    "        print(Team1, Win1, Line1, Team2, Win2, Line2)\n",
    "    except:\n",
    "        continue\n",
    "    "
   ]
  },
  {
   "cell_type": "code",
   "execution_count": null,
   "id": "4c11aadd",
   "metadata": {},
   "outputs": [],
   "source": []
  }
 ],
 "metadata": {
  "kernelspec": {
   "display_name": "Python 3",
   "language": "python",
   "name": "python3"
  },
  "language_info": {
   "codemirror_mode": {
    "name": "ipython",
    "version": 3
   },
   "file_extension": ".py",
   "mimetype": "text/x-python",
   "name": "python",
   "nbconvert_exporter": "python",
   "pygments_lexer": "ipython3",
   "version": "3.8.8"
  }
 },
 "nbformat": 4,
 "nbformat_minor": 5
}
