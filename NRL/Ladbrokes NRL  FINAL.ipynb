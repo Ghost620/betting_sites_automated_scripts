{
 "cells": [
  {
   "cell_type": "code",
   "execution_count": 17,
   "id": "c018b3c9",
   "metadata": {},
   "outputs": [
    {
     "name": "stderr",
     "output_type": "stream",
     "text": [
      "[WDM] - \n",
      "\n",
      "[WDM] - ====== WebDriver manager ======\n",
      "[WDM] - Current google-chrome version is 97.0.4692\n",
      "[WDM] - Get LATEST driver version for 97.0.4692\n",
      "[WDM] - Driver [C:\\Users\\fagho\\.wdm\\drivers\\chromedriver\\win32\\97.0.4692.71\\chromedriver.exe] found in cache\n",
      "<ipython-input-17-405594ad0992>:5: DeprecationWarning: executable_path has been deprecated, please pass in a Service object\n",
      "  driver = webdriver.Chrome(ChromeDriverManager().install())\n"
     ]
    },
    {
     "name": "stdout",
     "output_type": "stream",
     "text": [
      "TEAM1 : Penrith Panthers vs TEAM2: Manly Sea Eagles | WIN1: 1.50/ WIN2: 2.60 | Penrith Panthers (-5.5): 1.90 and Manly Sea Eagles (+5.5): 1.90\n",
      "TEAM1 : Canberra Raiders vs TEAM2: Cronulla Sharks | WIN1: 1.90/ WIN2: 1.90 | Penrith Panthers (-5.5): 1.90 and Manly Sea Eagles (+5.5): 1.90\n",
      "TEAM1 : Brisbane Broncos vs TEAM2: South Sydney Rabbitohs | WIN1: 3.10/ WIN2: 1.36 | Brisbane Broncos (+6.5): 1.90 and South Sydney Rabbitohs (-6.5): 1.90\n",
      "TEAM1 : Sydney Roosters vs TEAM2: Newcastle Knights | WIN1: 1.25/ WIN2: 4.00 | Sydney Roosters (-10.5): 1.90 and Newcastle Knights (+10.5): 1.90\n",
      "TEAM1 : New Zealand Warriors vs TEAM2: St George Illawarra Dragons | WIN1: 1.60/ WIN2: 2.35 | New Zealand Warriors (-4): 1.90 and St George Illawarra Dragons (+4): 1.90\n",
      "TEAM1 : Wests Tigers vs TEAM2: Melbourne Storm | WIN1: 3.50/ WIN2: 1.30 | Wests Tigers (+9.5): 1.90 and Melbourne Storm (-9.5): 1.90\n",
      "TEAM1 : Parramatta Eels vs TEAM2: Gold Coast Titans | WIN1: 1.60/ WIN2: 2.35 | Parramatta Eels (-4.5): 1.90 and Gold Coast Titans (+4.5): 1.90\n",
      "TEAM1 : North Queensland Cowboys vs TEAM2: Canterbury Bulldogs | WIN1: 2.00/ WIN2: 1.80 | North Queensland Cowboys (+1.5): 1.90 and Canterbury Bulldogs (-1.5): 1.90\n"
     ]
    }
   ],
   "source": [
    "from selenium import webdriver\n",
    "from webdriver_manager.chrome import ChromeDriverManager\n",
    "from selenium.webdriver.common.keys import Keys\n",
    "import time\n",
    "driver = webdriver.Chrome(ChromeDriverManager().install())\n",
    "driver.maximize_window()\n",
    "driver.get('https://www.ladbrokes.com.au/sports/rugby-league/nrl')\n",
    "driver.implicitly_wait(10)\n",
    "\n",
    "for a in range(len(driver.find_elements_by_xpath(\"//div[@class='markets-link-inner']\"))):\n",
    "    time.sleep(1)\n",
    "    if '1 Market' in driver.find_elements_by_xpath(\"//div[@class='markets-link-inner']\")[a].text:\n",
    "        match = driver.find_elements_by_class_name('sport-event-card')[a].text.split('\\n')\n",
    "        Team1, Win1, Team2, Win2 = match[-5], match[-4], match[-3], match[-2]\n",
    "        print(f\"TEAM1 : {Team1} vs TEAM2: {Team2} | WIN1: {Win1}/ WIN2: {Win2} | {Line1} and {Line2}\")\n",
    "        continue\n",
    "\n",
    "    driver.find_elements_by_xpath(\"//div[@class='markets-link-inner']\")[a].click()\n",
    "    \n",
    "    for j in range(len(driver.find_elements_by_class_name('market-two-col'))):\n",
    "        time.sleep(1)\n",
    "        driver.find_elements_by_class_name('market-two-col')[j].click()\n",
    "\n",
    "    match = driver.find_element_by_class_name('market-two-col').text.split('\\n')\n",
    "    Team1, Win1, Team2, Win2 = match[1], match[2], match[3], match[4]\n",
    "    lines = driver.find_elements_by_class_name('market-two-col')[1].text.split('\\n')\n",
    "    Line1, Line2 = f\"{lines[1]}: {lines[2]}\", f\"{lines[3]}: {lines[4]}\"\n",
    "        \n",
    "    driver.back()\n",
    "    print(f\"TEAM1 : {Team1} vs TEAM2: {Team2} | WIN1: {Win1}/ WIN2: {Win2} | {Line1} and {Line2}\")"
   ]
  },
  {
   "cell_type": "code",
   "execution_count": null,
   "id": "57e68f04",
   "metadata": {},
   "outputs": [],
   "source": []
  }
 ],
 "metadata": {
  "kernelspec": {
   "display_name": "Python 3",
   "language": "python",
   "name": "python3"
  },
  "language_info": {
   "codemirror_mode": {
    "name": "ipython",
    "version": 3
   },
   "file_extension": ".py",
   "mimetype": "text/x-python",
   "name": "python",
   "nbconvert_exporter": "python",
   "pygments_lexer": "ipython3",
   "version": "3.8.8"
  }
 },
 "nbformat": 4,
 "nbformat_minor": 5
}
