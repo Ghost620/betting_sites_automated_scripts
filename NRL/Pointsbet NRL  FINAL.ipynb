{
 "cells": [
  {
   "cell_type": "code",
   "execution_count": 51,
   "id": "ac0b5efe",
   "metadata": {},
   "outputs": [
    {
     "name": "stdout",
     "output_type": "stream",
     "text": [
      "Penrith Panthers 1.50 Manly Sea Eagles 2.60 Penrith Panthers -5.5 @ 1.85 Manly Sea Eagles +5.5 @ 1.95\n",
      "Canberra Raiders 1.90 Cronulla Sharks 1.90 Canberra Raiders -1.5 @ 2.00 Cronulla Sharks +1.5 @ 1.80\n",
      "Brisbane Broncos 2.95 South Sydney Rabbitohs 1.40 Brisbane Broncos +6.5 @ 1.85 South Sydney Rabbitohs -6.5 @ 1.95\n",
      "Sydney Roosters 1.28 Newcastle Knights 3.65 Sydney Roosters -10.5 @ 1.90 Newcastle Knights +10.5 @ 1.90\n",
      "New Zealand Warriors 1.55 St George Illawarra Dragons 2.45 New Zealand Warriors -5.5 @ 1.90 St George Illawarra Dragons +5.5 @ 1.90\n",
      "Wests Tigers 3.85 Melbourne Storm 1.26 Wests Tigers +10.5 @ 1.90 Melbourne Storm -10.5 @ 1.90\n",
      "Parramatta Eels 1.50 Gold Coast Titans 2.60 Parramartta Eels -5.5 @ 1.85 Gold Coast Titans +5.5 @ 1.95\n",
      "North Queensland Cowboys 2.00 Canterbury Bulldogs 1.80 North Queensland Cowboys +1.5 @ 1.80 Canterbury Bulldogs -1.5 @ 2.00\n"
     ]
    }
   ],
   "source": [
    "from selenium import webdriver\n",
    "from webdriver_manager.chrome import ChromeDriverManager\n",
    "from selenium.webdriver.common.by import By\n",
    "from selenium.webdriver.support.ui import WebDriverWait\n",
    "from selenium.webdriver.support import expected_conditions as EC\n",
    "import time\n",
    "driver = webdriver.Chrome()\n",
    "driver.maximize_window()\n",
    "driver.get('https://pointsbet.com.au/sports/rugby-league/NRL')\n",
    "driver.implicitly_wait(100)\n",
    "\n",
    "links = [i.get_attribute('href') for i in driver.find_elements_by_xpath(\"//div[@class='f1oyvxkl']/a\")]\n",
    "for i in links:\n",
    "    driver.get(i)\n",
    "    driver.implicitly_wait(10)\n",
    "    WebDriverWait(driver,20).until(EC.visibility_of_element_located((By.XPATH, \"//div[@class='f6ta4wb']/div/div[2]\")))\n",
    "    match = driver.find_element_by_class_name('f6ta4wb').text.split('\\n')\n",
    "    Team1, Win1, Team2, Win2, Line1, Line2 = match[1], match[2], match[3], match[4], f'{match[6]} @ {match[7]}', f'{match[8]} @ {match[9]}'\n",
    "    print(Team1, Win1, Team2, Win2, Line1, Line2)\n",
    "\n",
    "    \n",
    "    \n",
    "    \n",
    "    \n",
    "\n",
    "    \n",
    "    \n",
    "# for j in range(len(driver.find_elements_by_class_name('f6rx3n6'))):         \n",
    "#     time.sleep(3)\n",
    "#     driver.find_elements_by_class_name('f6rx3n6')[j].click()\n",
    "    \n",
    "#     WebDriverWait(driver,20).until(EC.visibility_of_element_located((By.XPATH, \"//div[@class='f6ta4wb']/div/div[2]\")))\n",
    "#     match = driver.find_element_by_class_name('f6ta4wb').text.split('\\n')\n",
    "#     Team1, Win1, Team2, Win2, Line1, Line2 = match[1], match[2], match[3], match[4], f'{match[6]} @ {match[7]}', f'{match[8]} @ {match[9]}'\n",
    "    \n",
    "#     driver.back()\n",
    "#     print(Team1, Win1, Team2, Win2, Line1, Line2)"
   ]
  },
  {
   "cell_type": "code",
   "execution_count": null,
   "id": "7d5afd5d",
   "metadata": {},
   "outputs": [],
   "source": []
  }
 ],
 "metadata": {
  "kernelspec": {
   "display_name": "Python 3",
   "language": "python",
   "name": "python3"
  },
  "language_info": {
   "codemirror_mode": {
    "name": "ipython",
    "version": 3
   },
   "file_extension": ".py",
   "mimetype": "text/x-python",
   "name": "python",
   "nbconvert_exporter": "python",
   "pygments_lexer": "ipython3",
   "version": "3.8.8"
  }
 },
 "nbformat": 4,
 "nbformat_minor": 5
}
