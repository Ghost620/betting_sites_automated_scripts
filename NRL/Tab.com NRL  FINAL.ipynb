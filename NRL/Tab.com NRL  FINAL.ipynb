{
 "cells": [
  {
   "cell_type": "code",
   "execution_count": 32,
   "id": "ac5fe8e0",
   "metadata": {},
   "outputs": [
    {
     "name": "stdout",
     "output_type": "stream",
     "text": [
      "TEAM1 : Penrith  vs TEAM2:  Manly | WIN1: 1.50/ WIN2: 2.60 | Penrith  @ (-5.5): 1.90 and  Manly @ (+5.5): 1.90\n",
      "TEAM1 : Canberra  vs TEAM2:  Cronulla | WIN1: 1.80/ WIN2: 2.00 | Canberra  @ (-1.5): 1.90 and  Cronulla @ (+1.5): 1.90\n",
      "TEAM1 : Brisbane  vs TEAM2:  Souths | WIN1: 3.10/ WIN2: 1.37 | Brisbane  @ (+7.5): 1.90 and  Souths @ (-7.5): 1.90\n",
      "TEAM1 : Syd Roosters  vs TEAM2:  Newcastle | WIN1: 1.22/ WIN2: 4.25 | Syd Roosters  @ (-11.5): 1.90 and  Newcastle @ (+11.5): 1.90\n",
      "TEAM1 : Warriors  vs TEAM2:  St George Ill | WIN1: 1.62/ WIN2: 2.30 | Warriors  @ (-3.5): 1.90 and  St George Ill @ (+3.5): 1.90\n",
      "TEAM1 : Wests Tigers  vs TEAM2:  Melbourne | WIN1: 3.40/ WIN2: 1.32 | Wests Tigers  @ (+8.5): 1.90 and  Melbourne @ (-8.5): 1.90\n",
      "TEAM1 : Parramatta  vs TEAM2:  Gold Coast | WIN1: 1.58/ WIN2: 2.40 | Parramatta  @ (-4.5): 1.90 and  Gold Coast @ (+4.5): 1.90\n",
      "TEAM1 : Nth Qld  vs TEAM2:  Bulldogs | WIN1: 2.00/ WIN2: 1.80 | Nth Qld  @ (+1.5): 1.90 and  Bulldogs @ (-1.5): 1.90\n"
     ]
    }
   ],
   "source": [
    "from selenium import webdriver\n",
    "from webdriver_manager.chrome import ChromeDriverManager\n",
    "from selenium.webdriver.common.keys import Keys\n",
    "driver = webdriver.Chrome()\n",
    "driver.get('https://www.tab.com.au/sports/betting/Rugby%20League')\n",
    "driver.implicitly_wait(100)\n",
    "\n",
    "for i in driver.find_elements_by_class_name('template-item'):\n",
    "    if 'v' not in i.text:\n",
    "        continue\n",
    "    match = i.text.split('\\n')\n",
    "    Teams = match[0].split('v')\n",
    "    Team1, Team2 = Teams[0], Teams[1]\n",
    "    Win1, Win2 = match[4], match[5]\n",
    "    Line1 = f\"{Team1} @ {match[2]}: {match[3]}\"\n",
    "    Line2 = f\"{Team2} @ {match[-3]}: {match[-2]}\"\n",
    "    print(f\"TEAM1 : {Team1} vs TEAM2: {Team2} | WIN1: {Win1}/ WIN2: {Win2} | {Line1} and {Line2}\")"
   ]
  }
 ],
 "metadata": {
  "kernelspec": {
   "display_name": "Python 3",
   "language": "python",
   "name": "python3"
  },
  "language_info": {
   "codemirror_mode": {
    "name": "ipython",
    "version": 3
   },
   "file_extension": ".py",
   "mimetype": "text/x-python",
   "name": "python",
   "nbconvert_exporter": "python",
   "pygments_lexer": "ipython3",
   "version": "3.8.8"
  }
 },
 "nbformat": 4,
 "nbformat_minor": 5
}
