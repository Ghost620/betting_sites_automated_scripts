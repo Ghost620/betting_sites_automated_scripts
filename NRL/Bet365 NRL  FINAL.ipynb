{
 "cells": [
  {
   "cell_type": "code",
   "execution_count": 2,
   "id": "afaffe09",
   "metadata": {
    "scrolled": true
   },
   "outputs": [
    {
     "name": "stderr",
     "output_type": "stream",
     "text": [
      "[WDM] - \n",
      "\n",
      "[WDM] - ====== WebDriver manager ======\n",
      "[WDM] - Current google-chrome version is 97.0.4692\n",
      "[WDM] - Get LATEST driver version for 97.0.4692\n",
      "[WDM] - Driver [C:\\Users\\fagho\\.wdm\\drivers\\chromedriver\\win32\\97.0.4692.71\\chromedriver.exe] found in cache\n",
      "<ipython-input-2-0d87fe603b4f>:5: DeprecationWarning: executable_path has been deprecated, please pass in a Service object\n",
      "  driver = webdriver.Chrome(ChromeDriverManager().install())\n",
      "C:\\Users\\fagho\\anaconda3\\lib\\site-packages\\selenium\\webdriver\\remote\\webdriver.py:502: UserWarning: find_elements_by_* commands are deprecated. Please use find_elements() instead\n",
      "  warnings.warn(\"find_elements_by_* commands are deprecated. Please use find_elements() instead\")\n"
     ]
    }
   ],
   "source": [
    "from selenium import webdriver\n",
    "from webdriver_manager.chrome import ChromeDriverManager\n",
    "from selenium.webdriver.common.keys import Keys\n",
    "import time\n",
    "driver = webdriver.Chrome(ChromeDriverManager().install())\n",
    "driver.get('https://www.bet365.com.au/#/AC/B19/C20459137/D50/E190002/F50/')\n",
    "driver.implicitly_wait(30)\n",
    "\n",
    "for i in range(len(driver.find_elements_by_xpath(\"//div[@class='gl-MarketGroupContainer ']/div/div/div\"))):\n",
    "    if i % 2:\n",
    "        continue\n",
    "    else:\n",
    "        time.sleep(0.1)\n",
    "        driver.find_elements_by_xpath(\"//div[@class='gl-MarketGroupContainer ']/div/div/div\")[i].click()\n",
    "        \n",
    "    match = driver.find_element_by_class_name('sph-EventHeader_Label ').text\n",
    "    Team1, Team2 = match.split('v')[0], match.split('v')[1]\n",
    "    one = driver.find_elements_by_xpath(\"//div[@class='gl-MarketGroupContainer ']/div\")[1].text.split('\\n')\n",
    "    two = driver.find_elements_by_xpath(\"//div[@class='gl-MarketGroupContainer ']/div\")[2].text.split('\\n')\n",
    "    Win1, Line1 = one[-1], f'Line @ {one[1]}: {one[2]}'\n",
    "    Win2, Line2 = two[-1], f'Line @ {two[1]}: {two[2]}'\n",
    "    other = Line1 and Line2\n",
    "    \n",
    "    driver.back()\n",
    "    print(f\"TEAM1 : {Team1} vs TEAM2: {Team2} | WIN1: {Win1}/ WIN2: {Win2} | {other}\")"
   ]
  },
  {
   "cell_type": "code",
   "execution_count": null,
   "id": "848e3a8e",
   "metadata": {},
   "outputs": [],
   "source": []
  }
 ],
 "metadata": {
  "kernelspec": {
   "display_name": "Python 3",
   "language": "python",
   "name": "python3"
  },
  "language_info": {
   "codemirror_mode": {
    "name": "ipython",
    "version": 3
   },
   "file_extension": ".py",
   "mimetype": "text/x-python",
   "name": "python",
   "nbconvert_exporter": "python",
   "pygments_lexer": "ipython3",
   "version": "3.8.8"
  }
 },
 "nbformat": 4,
 "nbformat_minor": 5
}
