{
 "cells": [
  {
   "cell_type": "code",
   "execution_count": 10,
   "id": "d077420e",
   "metadata": {},
   "outputs": [
    {
     "name": "stderr",
     "output_type": "stream",
     "text": [
      "[WDM] - \n",
      "\n",
      "[WDM] - ====== WebDriver manager ======\n",
      "[WDM] - Current google-chrome version is 97.0.4692\n",
      "[WDM] - Get LATEST driver version for 97.0.4692\n",
      "[WDM] - Driver [C:\\Users\\fagho\\.wdm\\drivers\\chromedriver\\win32\\97.0.4692.71\\chromedriver.exe] found in cache\n",
      "<ipython-input-10-e8181d6af1bc>:4: DeprecationWarning: executable_path has been deprecated, please pass in a Service object\n",
      "  driver = webdriver.Chrome(ChromeDriverManager().install())\n"
     ]
    },
    {
     "name": "stdout",
     "output_type": "stream",
     "text": [
      "Penrith Panthers Manly Sea Eagles 1.52 2.50 Penrith Panthers @ -4.5: 1.92 Manly Sea Eagles @ +4.5: 1.88\n",
      "Canberra Raiders Cronulla Sharks 1.88 1.89 Canberra Raiders @ -1.5: 2.04 Cronulla Sharks @ +1.5: 1.76\n",
      "Brisbane Broncos South Sydney Rabbitohs 2.95 1.38 Brisbane Broncos @ +7.5: 1.89 South Sydney Rabbitohs @ -7.5: 1.91\n",
      "Sydney Roosters Newcastle Knights 1.24 3.95 Sydney Roosters @ -10.5: 1.90 Newcastle Knights @ +10.5: 1.90\n",
      "New Zealand Warriors St. George Illawarra Dragons 1.54 2.43 New Zealand Warriors @ -4.5: 1.94 St. George Illawarra Dragons @ +4.5: 1.86\n",
      "Wests Tigers Melbourne Storm 3.45 1.30 Wests Tigers @ +9.5: 1.94 Melbourne Storm @ -9.5: 1.86\n",
      "Parramatta Eels Gold Coast Titans 1.52 2.50 Parramatta Eels @ -4.5: 1.89 Gold Coast Titans @ +4.5: 1.91\n",
      "North Queensland Cowboys Canterbury Bulldogs 2.00 1.80 North Queensland Cowboys @ +1.5: 1.90 Canterbury Bulldogs @ -1.5: 1.90\n"
     ]
    }
   ],
   "source": [
    "from selenium import webdriver\n",
    "from webdriver_manager.chrome import ChromeDriverManager\n",
    "from selenium.webdriver.common.keys import Keys\n",
    "driver = webdriver.Chrome(ChromeDriverManager().install())\n",
    "driver.maximize_window()\n",
    "driver.get('https://www.unibet.com.au/betting/sports/filter/rugby_league/nrl/all/matches')\n",
    "driver.implicitly_wait(10)\n",
    "driver.find_element_by_id('CybotCookiebotDialogBodyLevelButtonLevelOptinAllowAll').click()\n",
    "\n",
    "for i in range(len(driver.find_elements_by_class_name('fa117'))):\n",
    "    match = driver.find_elements_by_class_name('fa117')[i].text.split('\\n')\n",
    "    Team1, Team2, Win1, Win2, Line1, Line2 = match[1], match[2], match[3], match[4], f'{match[1]} @ {match[5]}: {match[6]}', f'{match[2]} @ {match[7]}: {match[8]}'\n",
    "    print(Team1, Team2, Win1, Win2, Line1, Line2)"
   ]
  },
  {
   "cell_type": "code",
   "execution_count": null,
   "id": "8559b0d1",
   "metadata": {},
   "outputs": [],
   "source": []
  }
 ],
 "metadata": {
  "kernelspec": {
   "display_name": "Python 3",
   "language": "python",
   "name": "python3"
  },
  "language_info": {
   "codemirror_mode": {
    "name": "ipython",
    "version": 3
   },
   "file_extension": ".py",
   "mimetype": "text/x-python",
   "name": "python",
   "nbconvert_exporter": "python",
   "pygments_lexer": "ipython3",
   "version": "3.8.8"
  }
 },
 "nbformat": 4,
 "nbformat_minor": 5
}
