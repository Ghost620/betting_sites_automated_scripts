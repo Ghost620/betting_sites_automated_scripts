{
 "cells": [
  {
   "cell_type": "code",
   "execution_count": 2,
   "id": "231952a9",
   "metadata": {
    "collapsed": true
   },
   "outputs": [
    {
     "name": "stdout",
     "output_type": "stream",
     "text": [
      "--------------------------------- PREMIER LEAGUE --------------------------------------\n",
      "\n",
      "BET0 ---> Wolves vs Everton | Win: 2.25/ Draws: 3.20/ Win: 3.30 & Over 2.5 @ 2.15, Over 1.5 @ 1.44/ Under 2.5 @ 1.68, Under 1.5 @ 2.80\n",
      "BET1 ---> Southampton vs Aston Villa | Win: 2.05/ Draws: 3.45/ Win: 3.45 & Over 2.5 @ 1.83, Over 1.5 @ 1.30/ Under 2.5 @ 1.96, Under 1.5 @ 3.45\n",
      "BET2 ---> Man Utd vs Man City | Win: 4.40/ Draws: 3.80/ Win: 1.75 & Over 2.5 @ 1.67, Over 1.5 @ 1.25/ Under 2.5 @ 2.20, Under 1.5 @ 4.00\n",
      "BET3 ---> Brentford vs Norwich | Win: 1.60/ Draws: 3.80/ Win: 5.80 & Over 2.5 @ 1.96, Over 1.5 @ 1.36/ Under 2.5 @ 1.83, Under 1.5 @ 3.15\n",
      "BET4 ---> Chelsea vs Burnley | Win: 1.25/ Draws: 5.50/ Win: 13.00 & Over 2.5 @ 1.67, Over 1.5 @ 1.24/ Under 2.5 @ 2.20, Under 1.5 @ 4.00\n",
      "URL Denied\n",
      "URL Denied\n",
      "URL Denied\n",
      "URL Denied\n",
      "URL Denied\n",
      "URL Denied\n",
      "URL Denied\n",
      "URL Denied\n",
      "URL Denied\n",
      "URL Denied\n",
      "URL Denied\n",
      "URL Denied\n",
      "URL Denied\n",
      "URL Denied\n",
      "URL Denied\n",
      "URL Denied\n",
      "URL Denied\n",
      "URL Denied\n",
      "URL Denied\n",
      "URL Denied\n"
     ]
    }
   ],
   "source": [
    "from selenium import webdriver\n",
    "from webdriver_manager.chrome import ChromeDriverManager\n",
    "from selenium.webdriver.common.keys import Keys\n",
    "import time\n",
    "driver = webdriver.Chrome()\n",
    "driver.maximize_window()\n",
    "\n",
    "# leagues = ['uk-ireland/premier-league', 'uk-ireland/championship', 'uk-ireland/league-one', 'uefa-champions-league', 'uefa/uefa-europa-league', 'italy/italian-serie-a', 'italy/italian-serie-b', 'spain/spanish-la-liga', 'germany/german-bundesliga', 'germany/german-2-bundesliga', 'france/french-ligue-1', 'france/french-ligue-2', 'asia/japanese-j-1-league', 'asia/south-korean-k-league', 'asia/south-korean-k-league', 'rest-of-europe/austrian-bundesliga', 'rest-of-europe/dutch-eerste-divisie', 'rest-of-europe/portuguese-primeira-liga', 'americas/chilean-primera-division', 'americas/brazilian-serie-a']\n",
    "leagues = ['https://www.ladbrokes.com.au/sports/soccer/uk-ireland/premier-league', 'https://www.ladbrokes.com.au/sports/soccer/uk-ireland/league-one', 'https://www.ladbrokes.com.au/sports/soccer/uk-ireland/league-two', 'https://www.ladbrokes.com.au/sports/soccer/uk-ireland/efl-trophy']\n",
    "for k in leagues:\n",
    "    try:\n",
    "        driver.get(f'https://www.ladbrokes.com.au/sports/soccer/{k}')\n",
    "        driver.implicitly_wait(15)\n",
    "        time.sleep(10)\n",
    "\n",
    "        if 'TOP MARKETS' in driver.find_elements_by_xpath(\"//h1\")[0].text:\n",
    "            name = driver.find_elements_by_xpath(\"//h1\")[1].text\n",
    "        else:\n",
    "            name = driver.find_elements_by_xpath(\"//h1\")[0].text\n",
    "\n",
    "        print(f\"--------------------------------- {name} --------------------------------------\")\n",
    "        print()\n",
    "\n",
    "        for a in range(len(driver.find_elements_by_xpath(\"//div[@class='markets-link-inner']\"))):\n",
    "            driver.implicitly_wait(15)          \n",
    "            if '1 Market' in driver.find_elements_by_xpath(\"//div[@class='markets-link-inner']\")[a].text:\n",
    "                continue\n",
    "            driver.find_elements_by_xpath(\"//div[@class='markets-link-inner']\")[a].click()\n",
    "            time.sleep(5)\n",
    "            lst = driver.find_elements_by_xpath(\"//div[@class='market-two-col']\")\n",
    "            match = lst[0].text.split('\\n')\n",
    "            Team1, Win1, Draw, Team2, Win2 = match[1], match[2], match[4], match[5], match[6]\n",
    "            for k in lst:\n",
    "                if 'Over/Under Total Goals 2.5' in k.text:\n",
    "                    k.click()\n",
    "                    lst2 = k.text.split('\\n')\n",
    "                    OV2, OU1_2, UN2, OU2_2 = lst2[1], lst2[2], lst2[3], lst2[4]\n",
    "\n",
    "                elif 'Over/Under Total Goals 1.5' in k.text:\n",
    "                    k.click()\n",
    "                    lst1 = k.text.split('\\n')\n",
    "                    OV1, OU1_1, UN1, OU2_1 = lst1[1], lst1[2], lst1[3], lst1[4]\n",
    "\n",
    "            Over = f'{OV2} @ {OU1_2}, {OV1} @ {OU1_1}'\n",
    "            Under = f'{UN2} @ {OU2_2}, {UN1} @ {OU2_1}'\n",
    "\n",
    "            driver.back()\n",
    "            print(f\"BET{a+1} ---> {Team1} vs {Team2} | Win: {Win1}/ Draws: {Draw}/ Win: {Win2} & {Over}/ {Under}\")\n",
    "\n",
    "    except:\n",
    "        print(\"URL Denied\")"
   ]
  },
  {
   "cell_type": "code",
   "execution_count": null,
   "id": "bbb1a9e7",
   "metadata": {},
   "outputs": [],
   "source": []
  }
 ],
 "metadata": {
  "kernelspec": {
   "display_name": "Python 3",
   "language": "python",
   "name": "python3"
  },
  "language_info": {
   "codemirror_mode": {
    "name": "ipython",
    "version": 3
   },
   "file_extension": ".py",
   "mimetype": "text/x-python",
   "name": "python",
   "nbconvert_exporter": "python",
   "pygments_lexer": "ipython3",
   "version": "3.8.8"
  }
 },
 "nbformat": 4,
 "nbformat_minor": 5
}
