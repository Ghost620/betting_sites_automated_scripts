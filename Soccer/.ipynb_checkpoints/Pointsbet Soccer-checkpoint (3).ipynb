{
 "cells": [
  {
   "cell_type": "code",
   "execution_count": 1,
   "id": "339a5157",
   "metadata": {
    "scrolled": true
   },
   "outputs": [
    {
     "ename": "NameError",
     "evalue": "name 'driver' is not defined",
     "output_type": "error",
     "traceback": [
      "\u001b[1;31m---------------------------------------------------------------------------\u001b[0m",
      "\u001b[1;31mNameError\u001b[0m                                 Traceback (most recent call last)",
      "\u001b[1;32m<ipython-input-1-e855393c0b51>\u001b[0m in \u001b[0;36m<module>\u001b[1;34m\u001b[0m\n\u001b[0;32m      8\u001b[0m \u001b[0mlst\u001b[0m \u001b[1;33m=\u001b[0m \u001b[1;33m[\u001b[0m\u001b[1;34m'https://pointsbet.com.au/sports/soccer/English-Premier-League'\u001b[0m\u001b[1;33m,\u001b[0m \u001b[1;34m'https://pointsbet.com.au/sports/soccer/English-EFL-Trophy'\u001b[0m\u001b[1;33m,\u001b[0m \u001b[1;34m'https://pointsbet.com.au/sports/soccer/English-League-1'\u001b[0m\u001b[1;33m,\u001b[0m \u001b[1;34m'https://pointsbet.com.au/sports/soccer/English-League-2'\u001b[0m\u001b[1;33m]\u001b[0m\u001b[1;33m\u001b[0m\u001b[1;33m\u001b[0m\u001b[0m\n\u001b[0;32m      9\u001b[0m \u001b[1;32mfor\u001b[0m \u001b[0mj\u001b[0m \u001b[1;32min\u001b[0m \u001b[0mlst\u001b[0m\u001b[1;33m:\u001b[0m\u001b[1;33m\u001b[0m\u001b[1;33m\u001b[0m\u001b[0m\n\u001b[1;32m---> 10\u001b[1;33m     \u001b[0mdriver\u001b[0m\u001b[1;33m.\u001b[0m\u001b[0mget\u001b[0m\u001b[1;33m(\u001b[0m\u001b[0mj\u001b[0m\u001b[1;33m)\u001b[0m\u001b[1;33m\u001b[0m\u001b[1;33m\u001b[0m\u001b[0m\n\u001b[0m\u001b[0;32m     11\u001b[0m     \u001b[0mdriver\u001b[0m\u001b[1;33m.\u001b[0m\u001b[0mimplicitly_wait\u001b[0m\u001b[1;33m(\u001b[0m\u001b[1;36m15\u001b[0m\u001b[1;33m)\u001b[0m\u001b[1;33m\u001b[0m\u001b[1;33m\u001b[0m\u001b[0m\n\u001b[0;32m     12\u001b[0m \u001b[1;33m\u001b[0m\u001b[0m\n",
      "\u001b[1;31mNameError\u001b[0m: name 'driver' is not defined"
     ]
    }
   ],
   "source": [
    "# from selenium import webdriver\n",
    "# from webdriver_manager.chrome import ChromeDriverManager\n",
    "# from selenium.webdriver.common.keys import Keys\n",
    "# import time\n",
    "# driver = webdriver.Chrome()\n",
    "# lst = ['Austrian-Bundesliga', 'Belgian-First-Division-A', 'English-Premier-League', 'English-Championship', 'English-League-1', 'French-Ligue-1', 'French-Ligue-2', 'German-Bundesliga', 'German-Bundesliga-2', 'Italian-Serie-A', 'Italian-Serie-B', 'Dutch-Eerste-Divisie', 'Norwegian-Eliteserien', 'Portuguese-Primeira-Liga', 'Spanish-La-Liga', 'Spanish-La-Liga-2', 'Swedish-Allsvenskan', 'Swedish-Superettan', 'UEFA-Europa-League', 'UEFA-Champions-League', 'Brazilian-Serie-A', 'Japanese-J1-League', 'Kenyan-Premier-League']\n",
    "\n",
    "lst = ['https://pointsbet.com.au/sports/soccer/English-Premier-League', 'https://pointsbet.com.au/sports/soccer/English-EFL-Trophy', 'https://pointsbet.com.au/sports/soccer/English-League-1', 'https://pointsbet.com.au/sports/soccer/English-League-2']\n",
    "for j in lst:\n",
    "    driver.get(j)\n",
    "    driver.implicitly_wait(15)\n",
    "\n",
    "#     print(f'------------------------ {j} ------------------------')\n",
    "    print()\n",
    "    for i in range(len(driver.find_elements_by_class_name('f1oyvxkl'))):\n",
    "        try:\n",
    "            driver.find_elements_by_class_name('fmov6vg')[i].click()\n",
    "            time.sleep(10)\n",
    "        except:\n",
    "            driver.find_elements_by_class_name('fmov6vg')[i].click()\n",
    "            time.sleep(10)\n",
    "\n",
    "        try:\n",
    "            match = driver.find_element_by_xpath(\"//div[@class='f1q2rfol faowcuh']\").text.split('\\n')\n",
    "            Team1, Win1, Draw, Team2, Win2 = match[1], match[2], match[4], match[5], match[6]\n",
    "        except:\n",
    "            driver.back()\n",
    "            continue\n",
    "        \n",
    "        try:\n",
    "            for k in range(len(driver.find_elements_by_class_name('f18dqkdv'))):\n",
    "                if 'GOAL MARKETS' in driver.find_elements_by_class_name('f18dqkdv')[k].text:\n",
    "                    try:\n",
    "                        driver.find_elements_by_class_name('f18dqkdv')[k].click()\n",
    "                    except:\n",
    "                        driver.find_elements_by_class_name('f18dqkdv')[k].click()\n",
    "\n",
    "                    OU = driver.find_elements_by_class_name('f18dqkdv')[k].text.split('\\n')\n",
    "                    del OU[0]\n",
    "                    del OU[-1]\n",
    "        except:\n",
    "            OU = []\n",
    "\n",
    "        driver.back()\n",
    "        time.sleep(5)\n",
    "        print(f\"BET{i+1} ---> {Team1} vs {Team2} | Win: {Win1}/ Draws: {Draw}/ Win: {Win2} & {OU}\")\n",
    "    print()\n"
   ]
  },
  {
   "cell_type": "code",
   "execution_count": null,
   "id": "c265c471",
   "metadata": {},
   "outputs": [],
   "source": []
  }
 ],
 "metadata": {
  "kernelspec": {
   "display_name": "Python 3",
   "language": "python",
   "name": "python3"
  },
  "language_info": {
   "codemirror_mode": {
    "name": "ipython",
    "version": 3
   },
   "file_extension": ".py",
   "mimetype": "text/x-python",
   "name": "python",
   "nbconvert_exporter": "python",
   "pygments_lexer": "ipython3",
   "version": "3.8.8"
  }
 },
 "nbformat": 4,
 "nbformat_minor": 5
}
