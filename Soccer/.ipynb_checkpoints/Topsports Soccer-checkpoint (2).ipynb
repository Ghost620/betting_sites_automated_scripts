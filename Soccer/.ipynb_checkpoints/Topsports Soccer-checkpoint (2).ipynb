{
 "cells": [
  {
   "cell_type": "code",
   "execution_count": null,
   "id": "f9794795",
   "metadata": {},
   "outputs": [],
   "source": [
    "from selenium import webdriver\n",
    "from webdriver_manager.chrome import ChromeDriverManager\n",
    "from selenium.webdriver.common.keys import Keys\n",
    "driver = webdriver.Chrome()\n",
    "\n",
    "# leagues = ['Brazilian_Serie_A', 'Dutch_Eerste_Divisie', 'English_Championship', 'English_League_One', 'French_Ligue_1', 'French_Ligue_2', 'German_Bundesliga', 'German_Bundesliga_2', 'Italian_Serie_A', 'Italian_Serie_B', 'Norway_-_1st_Division', 'Portuguese_Primeira_Liga', 'Spanish_La_Liga', 'Swedish_Allsvenskan', 'Swedish_Superettan', 'UEFA_Champions_League', 'UEFA_Europa_League']\n",
    "\n",
    "leagues = ['https://www.topsport.com.au/Sport/Soccer/English_Premier_League/Matches', 'https://www.topsport.com.au/Sport/Soccer/English_League_One/Matches', 'https://www.topsport.com.au/Sport/Soccer/English_EFL_Trophy/Matches', 'https://www.topsport.com.au/Sport/Soccer/English_League_Two/Matches']\n",
    "\n",
    "for j in leagues:\n",
    "    driver.get(f'https://www.topsport.com.au/Sport/Soccer/{j}/Matches')\n",
    "    driver.implicitly_wait(15)\n",
    "    \n",
    "    league_name = driver.find_element_by_xpath(\"//h1[@class='icon icon-SOCC']\").text\n",
    "    print(f\"____________________________________ {league_name} ________________________________________\")\n",
    "    print(\"\")\n",
    "    \n",
    "    try:\n",
    "        for i in range(1, len(driver.find_elements_by_class_name(\"MatchMarket\"))+1):\n",
    "            try:            \n",
    "                Team1 = driver.find_element_by_xpath(f\"//div[@class='blank']/div[{i}]/div/table/tbody/tr[1]/td\").text\n",
    "                Team2 = driver.find_element_by_xpath(f\"//div[@class='blank']/div[{i}]/div/table/tbody/tr[2]/td\").text\n",
    "                Win1 = driver.find_element_by_xpath(f\"//div[@class='blank']/div[{i}]/div/table/tbody/tr/td[2]\").text\n",
    "                Win2 = driver.find_element_by_xpath(f\"//div[@class='blank']/div[{i}]/div/table/tbody/tr[2]/td[2]\").text\n",
    "                Draw = driver.find_element_by_xpath(f\"//div[@class='blank']/div[{i}]/div/table/tbody/tr/td[3]\").text\n",
    "                try:\n",
    "                    Over = driver.find_element_by_xpath(f\"//div[@class='blank']/div[{i}]/div/table/tbody/tr/td[5]/a/div\").text\n",
    "                    Under = driver.find_element_by_xpath(f\"//div[@class='blank']/div[{i}]/div/table/tbody/tr[2]/td[4]/a/div\").text\n",
    "                except:\n",
    "                    Over, Under = '-', '-'\n",
    "\n",
    "            except:\n",
    "                Team1 = driver.find_element_by_xpath(f\"//div[@class='blank']/div[{i}]/div/table/tbody/tr[1]/td\").text\n",
    "                Team2 = driver.find_element_by_xpath(f\"//div[@class='blank']/div[{i}]/div/table/tbody/tr[2]/td\").text\n",
    "                Win1, Win2, Draw, Over, Under = '-', '-', '-', '-', '-'\n",
    "\n",
    "            print(f\"BET{i} ---> {Team1} vs {Team2} | Win: {Win1}/ Draws: {Draw}/ Win: {Win2} & {Over}/ {Under}\")\n",
    "            \n",
    "        print(\"-------------------------------------------------------------------------------------------------------\")\n",
    "        \n",
    "    except:\n",
    "        print(\"No match available for this Tournament !\")\n",
    "        continue\n"
   ]
  },
  {
   "cell_type": "code",
   "execution_count": null,
   "id": "59a3ad26",
   "metadata": {},
   "outputs": [],
   "source": []
  }
 ],
 "metadata": {
  "kernelspec": {
   "display_name": "Python 3",
   "language": "python",
   "name": "python3"
  },
  "language_info": {
   "codemirror_mode": {
    "name": "ipython",
    "version": 3
   },
   "file_extension": ".py",
   "mimetype": "text/x-python",
   "name": "python",
   "nbconvert_exporter": "python",
   "pygments_lexer": "ipython3",
   "version": "3.8.8"
  }
 },
 "nbformat": 4,
 "nbformat_minor": 5
}
