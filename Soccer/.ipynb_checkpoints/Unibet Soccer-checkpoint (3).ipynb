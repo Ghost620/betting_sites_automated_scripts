{
 "cells": [
  {
   "cell_type": "code",
   "execution_count": 1,
   "id": "f32ef338",
   "metadata": {
    "collapsed": true
   },
   "outputs": [
    {
     "ename": "SessionNotCreatedException",
     "evalue": "Message: session not created: This version of ChromeDriver only supports Chrome version 94\nCurrent browser version is 96.0.4664.110 with binary path C:\\Program Files\\Google\\Chrome\\Application\\chrome.exe\nStacktrace:\nBacktrace:\n\tOrdinal0 [0x0110BDE3+2473443]\n\tOrdinal0 [0x010A6661+2057825]\n\tOrdinal0 [0x00FB2438+1057848]\n\tOrdinal0 [0x00FD054A+1181002]\n\tOrdinal0 [0x00FCC435+1164341]\n\tOrdinal0 [0x00FC9CAF+1154223]\n\tOrdinal0 [0x00FF9ADF+1350367]\n\tOrdinal0 [0x00FF974A+1349450]\n\tOrdinal0 [0x00FF55AB+1332651]\n\tOrdinal0 [0x00FD2104+1188100]\n\tOrdinal0 [0x00FD2F59+1191769]\n\tGetHandleVerifier [0x01292266+1549718]\n\tGetHandleVerifier [0x0133D4A7+2250711]\n\tGetHandleVerifier [0x0119718B+521403]\n\tGetHandleVerifier [0x01196229+517465]\n\tOrdinal0 [0x010AB79D+2078621]\n\tOrdinal0 [0x010AFB58+2095960]\n\tOrdinal0 [0x010AFC92+2096274]\n\tOrdinal0 [0x010B9541+2135361]\n\tBaseThreadInitThunk [0x75B8FA29+25]\n\tRtlGetAppContainerNamedObjectPath [0x778A7A9E+286]\n\tRtlGetAppContainerNamedObjectPath [0x778A7A6E+238]\n",
     "output_type": "error",
     "traceback": [
      "\u001b[1;31m---------------------------------------------------------------------------\u001b[0m",
      "\u001b[1;31mSessionNotCreatedException\u001b[0m                Traceback (most recent call last)",
      "\u001b[1;32m<ipython-input-1-9cca917698c4>\u001b[0m in \u001b[0;36m<module>\u001b[1;34m\u001b[0m\n\u001b[0;32m      3\u001b[0m \u001b[1;32mfrom\u001b[0m \u001b[0mselenium\u001b[0m\u001b[1;33m.\u001b[0m\u001b[0mwebdriver\u001b[0m\u001b[1;33m.\u001b[0m\u001b[0mcommon\u001b[0m\u001b[1;33m.\u001b[0m\u001b[0mkeys\u001b[0m \u001b[1;32mimport\u001b[0m \u001b[0mKeys\u001b[0m\u001b[1;33m\u001b[0m\u001b[1;33m\u001b[0m\u001b[0m\n\u001b[0;32m      4\u001b[0m \u001b[1;32mimport\u001b[0m \u001b[0mtime\u001b[0m\u001b[1;33m\u001b[0m\u001b[1;33m\u001b[0m\u001b[0m\n\u001b[1;32m----> 5\u001b[1;33m \u001b[0mdriver\u001b[0m \u001b[1;33m=\u001b[0m \u001b[0mwebdriver\u001b[0m\u001b[1;33m.\u001b[0m\u001b[0mChrome\u001b[0m\u001b[1;33m(\u001b[0m\u001b[1;33m)\u001b[0m\u001b[1;33m\u001b[0m\u001b[1;33m\u001b[0m\u001b[0m\n\u001b[0m\u001b[0;32m      6\u001b[0m \u001b[1;31m# lst = ['https://www.unibet.com.au/betting/sports/filter/football/england/premier_league/matches', 'https://www.unibet.com.au/betting/sports/filter/football/spain/la_liga/matches', 'https://www.unibet.com.au/betting/sports/filter/football/spain/la_liga_2/matches', 'https://www.unibet.com.au/betting/sports/filter/football/england/the_championship/matches', 'https://www.unibet.com.au/betting/sports/filter/football/england/league_one/matches', 'https://www.unibet.com.au/betting/sports/filter/football/england/league_two/matches', 'https://www.unibet.com.au/betting/sports/filter/football/germany/bundesliga/matches', 'https://www.unibet.com.au/betting/sports/filter/football/germany/2__bundesliga/matches', 'https://www.unibet.com.au/betting/sports/filter/football/italy/serie_a/matches', 'https://www.unibet.com.au/betting/sports/filter/football/austria/bundesliga/matches', 'https://www.unibet.com.au/betting/sports/filter/football/france/ligue_1/matches', 'https://www.unibet.com.au/betting/sports/filter/football/france/ligue_2/matches', 'https://www.unibet.com.au/betting/sports/filter/football/netherlands/eerste_divisie', 'https://www.unibet.com.au/betting/sports/filter/football/norway/eliteserien', 'https://www.unibet.com.au/betting/sports/filter/football/japan/j_league_cup/matches']\u001b[0m\u001b[1;33m\u001b[0m\u001b[1;33m\u001b[0m\u001b[1;33m\u001b[0m\u001b[0m\n\u001b[0;32m      7\u001b[0m \u001b[1;33m\u001b[0m\u001b[0m\n",
      "\u001b[1;32m~\\anaconda3\\lib\\site-packages\\selenium\\webdriver\\chrome\\webdriver.py\u001b[0m in \u001b[0;36m__init__\u001b[1;34m(self, executable_path, port, options, service_args, desired_capabilities, service_log_path, chrome_options, service, keep_alive)\u001b[0m\n\u001b[0;32m     67\u001b[0m             \u001b[0mservice\u001b[0m \u001b[1;33m=\u001b[0m \u001b[0mService\u001b[0m\u001b[1;33m(\u001b[0m\u001b[0mexecutable_path\u001b[0m\u001b[1;33m,\u001b[0m \u001b[0mport\u001b[0m\u001b[1;33m,\u001b[0m \u001b[0mservice_args\u001b[0m\u001b[1;33m,\u001b[0m \u001b[0mservice_log_path\u001b[0m\u001b[1;33m)\u001b[0m\u001b[1;33m\u001b[0m\u001b[1;33m\u001b[0m\u001b[0m\n\u001b[0;32m     68\u001b[0m \u001b[1;33m\u001b[0m\u001b[0m\n\u001b[1;32m---> 69\u001b[1;33m         super(WebDriver, self).__init__(DesiredCapabilities.CHROME['browserName'], \"goog\",\n\u001b[0m\u001b[0;32m     70\u001b[0m                                         \u001b[0mport\u001b[0m\u001b[1;33m,\u001b[0m \u001b[0moptions\u001b[0m\u001b[1;33m,\u001b[0m\u001b[1;33m\u001b[0m\u001b[1;33m\u001b[0m\u001b[0m\n\u001b[0;32m     71\u001b[0m                                         \u001b[0mservice_args\u001b[0m\u001b[1;33m,\u001b[0m \u001b[0mdesired_capabilities\u001b[0m\u001b[1;33m,\u001b[0m\u001b[1;33m\u001b[0m\u001b[1;33m\u001b[0m\u001b[0m\n",
      "\u001b[1;32m~\\anaconda3\\lib\\site-packages\\selenium\\webdriver\\chromium\\webdriver.py\u001b[0m in \u001b[0;36m__init__\u001b[1;34m(self, browser_name, vendor_prefix, port, options, service_args, desired_capabilities, service_log_path, service, keep_alive)\u001b[0m\n\u001b[0;32m     91\u001b[0m \u001b[1;33m\u001b[0m\u001b[0m\n\u001b[0;32m     92\u001b[0m         \u001b[1;32mtry\u001b[0m\u001b[1;33m:\u001b[0m\u001b[1;33m\u001b[0m\u001b[1;33m\u001b[0m\u001b[0m\n\u001b[1;32m---> 93\u001b[1;33m             RemoteWebDriver.__init__(\n\u001b[0m\u001b[0;32m     94\u001b[0m                 \u001b[0mself\u001b[0m\u001b[1;33m,\u001b[0m\u001b[1;33m\u001b[0m\u001b[1;33m\u001b[0m\u001b[0m\n\u001b[0;32m     95\u001b[0m                 command_executor=ChromiumRemoteConnection(\n",
      "\u001b[1;32m~\\anaconda3\\lib\\site-packages\\selenium\\webdriver\\remote\\webdriver.py\u001b[0m in \u001b[0;36m__init__\u001b[1;34m(self, command_executor, desired_capabilities, browser_profile, proxy, keep_alive, file_detector, options)\u001b[0m\n\u001b[0;32m    246\u001b[0m         \u001b[0mself\u001b[0m\u001b[1;33m.\u001b[0m\u001b[0mfile_detector\u001b[0m \u001b[1;33m=\u001b[0m \u001b[0mfile_detector\u001b[0m \u001b[1;32mor\u001b[0m \u001b[0mLocalFileDetector\u001b[0m\u001b[1;33m(\u001b[0m\u001b[1;33m)\u001b[0m\u001b[1;33m\u001b[0m\u001b[1;33m\u001b[0m\u001b[0m\n\u001b[0;32m    247\u001b[0m         \u001b[0mself\u001b[0m\u001b[1;33m.\u001b[0m\u001b[0mstart_client\u001b[0m\u001b[1;33m(\u001b[0m\u001b[1;33m)\u001b[0m\u001b[1;33m\u001b[0m\u001b[1;33m\u001b[0m\u001b[0m\n\u001b[1;32m--> 248\u001b[1;33m         \u001b[0mself\u001b[0m\u001b[1;33m.\u001b[0m\u001b[0mstart_session\u001b[0m\u001b[1;33m(\u001b[0m\u001b[0mcapabilities\u001b[0m\u001b[1;33m,\u001b[0m \u001b[0mbrowser_profile\u001b[0m\u001b[1;33m)\u001b[0m\u001b[1;33m\u001b[0m\u001b[1;33m\u001b[0m\u001b[0m\n\u001b[0m\u001b[0;32m    249\u001b[0m \u001b[1;33m\u001b[0m\u001b[0m\n\u001b[0;32m    250\u001b[0m     \u001b[1;32mdef\u001b[0m \u001b[0m__repr__\u001b[0m\u001b[1;33m(\u001b[0m\u001b[0mself\u001b[0m\u001b[1;33m)\u001b[0m\u001b[1;33m:\u001b[0m\u001b[1;33m\u001b[0m\u001b[1;33m\u001b[0m\u001b[0m\n",
      "\u001b[1;32m~\\anaconda3\\lib\\site-packages\\selenium\\webdriver\\remote\\webdriver.py\u001b[0m in \u001b[0;36mstart_session\u001b[1;34m(self, capabilities, browser_profile)\u001b[0m\n\u001b[0;32m    337\u001b[0m         parameters = {\"capabilities\": w3c_caps,\n\u001b[0;32m    338\u001b[0m                       \"desiredCapabilities\": capabilities}\n\u001b[1;32m--> 339\u001b[1;33m         \u001b[0mresponse\u001b[0m \u001b[1;33m=\u001b[0m \u001b[0mself\u001b[0m\u001b[1;33m.\u001b[0m\u001b[0mexecute\u001b[0m\u001b[1;33m(\u001b[0m\u001b[0mCommand\u001b[0m\u001b[1;33m.\u001b[0m\u001b[0mNEW_SESSION\u001b[0m\u001b[1;33m,\u001b[0m \u001b[0mparameters\u001b[0m\u001b[1;33m)\u001b[0m\u001b[1;33m\u001b[0m\u001b[1;33m\u001b[0m\u001b[0m\n\u001b[0m\u001b[0;32m    340\u001b[0m         \u001b[1;32mif\u001b[0m \u001b[1;34m'sessionId'\u001b[0m \u001b[1;32mnot\u001b[0m \u001b[1;32min\u001b[0m \u001b[0mresponse\u001b[0m\u001b[1;33m:\u001b[0m\u001b[1;33m\u001b[0m\u001b[1;33m\u001b[0m\u001b[0m\n\u001b[0;32m    341\u001b[0m             \u001b[0mresponse\u001b[0m \u001b[1;33m=\u001b[0m \u001b[0mresponse\u001b[0m\u001b[1;33m[\u001b[0m\u001b[1;34m'value'\u001b[0m\u001b[1;33m]\u001b[0m\u001b[1;33m\u001b[0m\u001b[1;33m\u001b[0m\u001b[0m\n",
      "\u001b[1;32m~\\anaconda3\\lib\\site-packages\\selenium\\webdriver\\remote\\webdriver.py\u001b[0m in \u001b[0;36mexecute\u001b[1;34m(self, driver_command, params)\u001b[0m\n\u001b[0;32m    398\u001b[0m         \u001b[0mresponse\u001b[0m \u001b[1;33m=\u001b[0m \u001b[0mself\u001b[0m\u001b[1;33m.\u001b[0m\u001b[0mcommand_executor\u001b[0m\u001b[1;33m.\u001b[0m\u001b[0mexecute\u001b[0m\u001b[1;33m(\u001b[0m\u001b[0mdriver_command\u001b[0m\u001b[1;33m,\u001b[0m \u001b[0mparams\u001b[0m\u001b[1;33m)\u001b[0m\u001b[1;33m\u001b[0m\u001b[1;33m\u001b[0m\u001b[0m\n\u001b[0;32m    399\u001b[0m         \u001b[1;32mif\u001b[0m \u001b[0mresponse\u001b[0m\u001b[1;33m:\u001b[0m\u001b[1;33m\u001b[0m\u001b[1;33m\u001b[0m\u001b[0m\n\u001b[1;32m--> 400\u001b[1;33m             \u001b[0mself\u001b[0m\u001b[1;33m.\u001b[0m\u001b[0merror_handler\u001b[0m\u001b[1;33m.\u001b[0m\u001b[0mcheck_response\u001b[0m\u001b[1;33m(\u001b[0m\u001b[0mresponse\u001b[0m\u001b[1;33m)\u001b[0m\u001b[1;33m\u001b[0m\u001b[1;33m\u001b[0m\u001b[0m\n\u001b[0m\u001b[0;32m    401\u001b[0m             response['value'] = self._unwrap_value(\n\u001b[0;32m    402\u001b[0m                 response.get('value', None))\n",
      "\u001b[1;32m~\\anaconda3\\lib\\site-packages\\selenium\\webdriver\\remote\\errorhandler.py\u001b[0m in \u001b[0;36mcheck_response\u001b[1;34m(self, response)\u001b[0m\n\u001b[0;32m    234\u001b[0m                 \u001b[0malert_text\u001b[0m \u001b[1;33m=\u001b[0m \u001b[0mvalue\u001b[0m\u001b[1;33m[\u001b[0m\u001b[1;34m'alert'\u001b[0m\u001b[1;33m]\u001b[0m\u001b[1;33m.\u001b[0m\u001b[0mget\u001b[0m\u001b[1;33m(\u001b[0m\u001b[1;34m'text'\u001b[0m\u001b[1;33m)\u001b[0m\u001b[1;33m\u001b[0m\u001b[1;33m\u001b[0m\u001b[0m\n\u001b[0;32m    235\u001b[0m             \u001b[1;32mraise\u001b[0m \u001b[0mexception_class\u001b[0m\u001b[1;33m(\u001b[0m\u001b[0mmessage\u001b[0m\u001b[1;33m,\u001b[0m \u001b[0mscreen\u001b[0m\u001b[1;33m,\u001b[0m \u001b[0mstacktrace\u001b[0m\u001b[1;33m,\u001b[0m \u001b[0malert_text\u001b[0m\u001b[1;33m)\u001b[0m\u001b[1;33m\u001b[0m\u001b[1;33m\u001b[0m\u001b[0m\n\u001b[1;32m--> 236\u001b[1;33m         \u001b[1;32mraise\u001b[0m \u001b[0mexception_class\u001b[0m\u001b[1;33m(\u001b[0m\u001b[0mmessage\u001b[0m\u001b[1;33m,\u001b[0m \u001b[0mscreen\u001b[0m\u001b[1;33m,\u001b[0m \u001b[0mstacktrace\u001b[0m\u001b[1;33m)\u001b[0m\u001b[1;33m\u001b[0m\u001b[1;33m\u001b[0m\u001b[0m\n\u001b[0m\u001b[0;32m    237\u001b[0m \u001b[1;33m\u001b[0m\u001b[0m\n\u001b[0;32m    238\u001b[0m     \u001b[1;32mdef\u001b[0m \u001b[0m_value_or_default\u001b[0m\u001b[1;33m(\u001b[0m\u001b[0mself\u001b[0m\u001b[1;33m,\u001b[0m \u001b[0mobj\u001b[0m\u001b[1;33m,\u001b[0m \u001b[0mkey\u001b[0m\u001b[1;33m,\u001b[0m \u001b[0mdefault\u001b[0m\u001b[1;33m)\u001b[0m\u001b[1;33m:\u001b[0m\u001b[1;33m\u001b[0m\u001b[1;33m\u001b[0m\u001b[0m\n",
      "\u001b[1;31mSessionNotCreatedException\u001b[0m: Message: session not created: This version of ChromeDriver only supports Chrome version 94\nCurrent browser version is 96.0.4664.110 with binary path C:\\Program Files\\Google\\Chrome\\Application\\chrome.exe\nStacktrace:\nBacktrace:\n\tOrdinal0 [0x0110BDE3+2473443]\n\tOrdinal0 [0x010A6661+2057825]\n\tOrdinal0 [0x00FB2438+1057848]\n\tOrdinal0 [0x00FD054A+1181002]\n\tOrdinal0 [0x00FCC435+1164341]\n\tOrdinal0 [0x00FC9CAF+1154223]\n\tOrdinal0 [0x00FF9ADF+1350367]\n\tOrdinal0 [0x00FF974A+1349450]\n\tOrdinal0 [0x00FF55AB+1332651]\n\tOrdinal0 [0x00FD2104+1188100]\n\tOrdinal0 [0x00FD2F59+1191769]\n\tGetHandleVerifier [0x01292266+1549718]\n\tGetHandleVerifier [0x0133D4A7+2250711]\n\tGetHandleVerifier [0x0119718B+521403]\n\tGetHandleVerifier [0x01196229+517465]\n\tOrdinal0 [0x010AB79D+2078621]\n\tOrdinal0 [0x010AFB58+2095960]\n\tOrdinal0 [0x010AFC92+2096274]\n\tOrdinal0 [0x010B9541+2135361]\n\tBaseThreadInitThunk [0x75B8FA29+25]\n\tRtlGetAppContainerNamedObjectPath [0x778A7A9E+286]\n\tRtlGetAppContainerNamedObjectPath [0x778A7A6E+238]\n"
     ]
    }
   ],
   "source": [
    "from selenium import webdriver\n",
    "from webdriver_manager.chrome import ChromeDriverManager\n",
    "from selenium.webdriver.common.keys import Keys\n",
    "import time\n",
    "driver = webdriver.Chrome()\n",
    "# lst = ['https://www.unibet.com.au/betting/sports/filter/football/england/premier_league/matches', 'https://www.unibet.com.au/betting/sports/filter/football/spain/la_liga/matches', 'https://www.unibet.com.au/betting/sports/filter/football/spain/la_liga_2/matches', 'https://www.unibet.com.au/betting/sports/filter/football/england/the_championship/matches', 'https://www.unibet.com.au/betting/sports/filter/football/england/league_one/matches', 'https://www.unibet.com.au/betting/sports/filter/football/england/league_two/matches', 'https://www.unibet.com.au/betting/sports/filter/football/germany/bundesliga/matches', 'https://www.unibet.com.au/betting/sports/filter/football/germany/2__bundesliga/matches', 'https://www.unibet.com.au/betting/sports/filter/football/italy/serie_a/matches', 'https://www.unibet.com.au/betting/sports/filter/football/austria/bundesliga/matches', 'https://www.unibet.com.au/betting/sports/filter/football/france/ligue_1/matches', 'https://www.unibet.com.au/betting/sports/filter/football/france/ligue_2/matches', 'https://www.unibet.com.au/betting/sports/filter/football/netherlands/eerste_divisie', 'https://www.unibet.com.au/betting/sports/filter/football/norway/eliteserien', 'https://www.unibet.com.au/betting/sports/filter/football/japan/j_league_cup/matches']\n",
    "\n",
    "lst = ['https://www.unibet.com.au/betting/sports/filter/football/england/premier_league/all/matches', 'https://www.unibet.com.au/betting/sports/filter/football/england/league_one/all/matches', 'https://www.unibet.com.au/betting/sports/filter/football/england/league_two/all/matches', 'https://www.unibet.com.au/betting/sports/filter/football/england/efl_cup/all/matches', 'https://www.unibet.com.au/betting/sports/filter/football/england/efl_trophy/all/matches']\n",
    "for a in lst:\n",
    "    driver.get(a)\n",
    "    driver.implicitly_wait(15)\n",
    "    time.sleep(10)\n",
    "    \n",
    "    if 'https://www.unibet.com.au/betting/sports/filter/football/england/premier_league/matches' in a:\n",
    "        driver.find_element_by_id('CybotCookiebotDialogBodyLevelButtonLevelOptinAllowAll').click()\n",
    "\n",
    "    for i in range(len(driver.find_elements_by_class_name('a9753'))):\n",
    "        driver.find_elements_by_class_name('a9753')[i].click()\n",
    "        time.sleep(10)\n",
    "\n",
    "        WLD = driver.find_element_by_xpath(\"//li[@class='KambiBC-bet-offer-subcategory KambiBC-bet-offer-subcategory--onecrosstwo']\").text.split('\\n')\n",
    "        Team1, Win1, Draw, Team2, Win2 = WLD[1], WLD[2], WLD[4], WLD[5], WLD[6]\n",
    "\n",
    "        try:\n",
    "            OU = driver.find_element_by_xpath(\"//li[@class='KambiBC-bet-offer-subcategory KambiBC-bet-offer-subcategory--overunder']\").text.split('\\n')\n",
    "            Over, Under = f'Over 2.5 @ {OU[4]}', f'Under 2.5 @ {OU[7]}'\n",
    "        except:\n",
    "            Over, Under = '-', '-'\n",
    "\n",
    "        driver.back()\n",
    "        time.sleep(10)\n",
    "        print(f\"BET{i} ---> {Team1} vs {Team2} | Win: {Win1}/ Draws: {Draw}/ Win: {Win2} & {Over}/ {Under}\")\n"
   ]
  },
  {
   "cell_type": "code",
   "execution_count": null,
   "id": "fc53ca5c",
   "metadata": {},
   "outputs": [],
   "source": []
  }
 ],
 "metadata": {
  "kernelspec": {
   "display_name": "Python 3",
   "language": "python",
   "name": "python3"
  },
  "language_info": {
   "codemirror_mode": {
    "name": "ipython",
    "version": 3
   },
   "file_extension": ".py",
   "mimetype": "text/x-python",
   "name": "python",
   "nbconvert_exporter": "python",
   "pygments_lexer": "ipython3",
   "version": "3.8.8"
  }
 },
 "nbformat": 4,
 "nbformat_minor": 5
}
