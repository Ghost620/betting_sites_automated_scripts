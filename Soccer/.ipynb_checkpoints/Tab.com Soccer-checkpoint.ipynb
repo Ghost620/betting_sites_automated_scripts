{
 "cells": [
  {
   "cell_type": "code",
   "execution_count": null,
   "id": "1575b79b",
   "metadata": {},
   "outputs": [
    {
     "name": "stdout",
     "output_type": "stream",
     "text": [
      "----------------------------------- English Premier League ------------------------------------------------\n",
      "\n",
      "Southampton vs Brentford | Win: 1.95/ Draws: 3.25/ Win: 3.90 & ['Over 1.5 Goals', '1.32', 'Under 1.5 Goals', '3.20', 'Over 2.5 Goals', '1.95', 'Under 2.5 Goals', '1.80', 'Over 3.5 Goals', '3.30', 'Under 3.5 Goals', '1.30']\n",
      "----------------------------------- EFL Cup ------------------------------------------------\n",
      "\n",
      "Chelsea vs Tottenham | Win: 1.95/ Draws: 3.40/ Win: 3.80 & ['Over 0.5 Goals', '1.05', 'Under 0.5 Goals', '8.50']\n",
      "Arsenal vs Liverpool | Win: 1.70/ Draws: 4.25/ Win: 4.00 & ['Over 0.5 Goals', '1.02', 'Under 0.5 Goals', '11.00', 'Over 1.5 Goals', '1.20', 'Under 1.5 Goals', '4.20', 'Over 2.5 Goals', '1.65', 'Under 2.5 Goals', '2.15', 'Over 3.5 Goals', '2.70', 'Under 3.5 Goals', '1.44', 'Over 4.5 Goals', '5.00', 'Under 4.5 Goals', '1.15', 'Over 5.5 Goals', '9.00', 'Under 5.5 Goals', '1.04']\n",
      "\n"
     ]
    }
   ],
   "source": [
    "# from selenium import webdriver\n",
    "# from webdriver_manager.chrome import ChromeDriverManager\n",
    "# from selenium.webdriver.common.keys import Keys\n",
    "\n",
    "# driver = webdriver.Chrome(ChromeDriverManager().install())\n",
    "# leagues = ['English%20Premier%20League', 'Italian%20Serie%20A', 'French%20Ligue%201', 'German%20Bundesliga', 'UEFA%20Champions%20League', 'Austria%20Bundesliga', 'Brazil%20Serie%20A', 'Brazil%20Serie%20B', 'Germany%20Bundesliga%202', 'Netherlands%20Eredivisie', 'Portugal%20Primeira%20Liga', 'Sweden%20Allsvenskan', 'Sweden%20Superettan', 'Norway%20Eliteserien', 'South%20Korea%20K-League%201', 'UEFA%20Europa%20League', 'Chile%20Primera', 'Japan%20J2%20League']\n",
    "\n",
    "# leagues = ['https://www.tab.com.au/sports/betting/Soccer/competitions/English%20Premier%20League', 'https://www.tab.com.au/sports/betting/Soccer/competitions/EFL%20Cup', 'https://www.tab.com.au/sports/betting/Soccer/competitions/English%20League%201', 'https://www.tab.com.au/sports/betting/Soccer/competitions/English%20League%202']\n",
    "\n",
    "leagues = ['https://www.bluebet.com.au/sports/Soccer/100/England/English-Premier-League/36715', 'https://www.bluebet.com.au/sports/Soccer/100/England/EFL-Carabao-Cup/37492', 'https://www.bluebet.com.au/sports/Soccer/100/England/Sky-Bet-League-1/36322', 'https://www.bluebet.com.au/sports/Soccer/100/England/Sky-Bet-League-2/36323']\n",
    "for i in leagues:\n",
    "    try:\n",
    "        driver.get(i)\n",
    "        driver.implicitly_wait(30)\n",
    "        name = driver.find_element_by_class_name('competition-name').text\n",
    "        print(f'----------------------------------- {name} ------------------------------------------------')\n",
    "        print()\n",
    "\n",
    "        links = [i.get_attribute('href') for i in driver.find_elements_by_xpath(\"//nav[@class='match-links-navigation']/a\")]\n",
    "        for k in links:\n",
    "            driver.get(k)\n",
    "            match = driver.find_element_by_class_name('_n2krqr ').text.split('\\n')\n",
    "            Team1, Win1, Draw, Team2, Win2 = match[0], match[1], match[3], match[4], match[5]\n",
    "            Over_Under = []\n",
    "            try:\n",
    "                if 'Goals' in driver.find_element_by_class_name('_p1oke7 ').text:\n",
    "                    driver.find_element_by_class_name('_p1oke7 ').click()\n",
    "                    try:\n",
    "                        for i in driver.find_element_by_class_name('_7wqrvl ').text.split('\\n'):\n",
    "                            if len(i) > 50:\n",
    "                                continue\n",
    "                            Over_Under.append(i) \n",
    "                    except:\n",
    "                        for i in driver.find_element_by_class_name('_hxgsib ').text.split('\\n'):\n",
    "                            if len(i) > 50:\n",
    "                                continue\n",
    "                            Over_Under.append(i)\n",
    "            except:\n",
    "                Over_Under = []\n",
    "\n",
    "            print(f\"{Team1} vs {Team2} | Win: {Win1}/ Draws: {Draw}/ Win: {Win2} & {Over_Under}\")\n",
    "        print()\n",
    "    except:\n",
    "        continue"
   ]
  },
  {
   "cell_type": "code",
   "execution_count": null,
   "id": "991c72f7",
   "metadata": {},
   "outputs": [],
   "source": []
  }
 ],
 "metadata": {
  "kernelspec": {
   "display_name": "Python 3",
   "language": "python",
   "name": "python3"
  },
  "language_info": {
   "codemirror_mode": {
    "name": "ipython",
    "version": 3
   },
   "file_extension": ".py",
   "mimetype": "text/x-python",
   "name": "python",
   "nbconvert_exporter": "python",
   "pygments_lexer": "ipython3",
   "version": "3.8.8"
  }
 },
 "nbformat": 4,
 "nbformat_minor": 5
}
