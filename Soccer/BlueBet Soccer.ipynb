{
 "cells": [
  {
   "cell_type": "code",
   "execution_count": 1,
   "id": "637697b9",
   "metadata": {
    "collapsed": true
   },
   "outputs": [
    {
     "name": "stderr",
     "output_type": "stream",
     "text": [
      "C:\\Users\\fagho\\anaconda3\\lib\\site-packages\\selenium\\webdriver\\remote\\webdriver.py:502: UserWarning: find_elements_by_* commands are deprecated. Please use find_elements() instead\n",
      "  warnings.warn(\"find_elements_by_* commands are deprecated. Please use find_elements() instead\")\n",
      "C:\\Users\\fagho\\anaconda3\\lib\\site-packages\\selenium\\webdriver\\remote\\webdriver.py:702: UserWarning: find_elements_by_* commands are deprecated. Please use find_elements() instead\n",
      "  warnings.warn(\"find_elements_by_* commands are deprecated. Please use find_elements() instead\")\n"
     ]
    },
    {
     "ename": "IndexError",
     "evalue": "list index out of range",
     "output_type": "error",
     "traceback": [
      "\u001b[1;31m---------------------------------------------------------------------------\u001b[0m",
      "\u001b[1;31mIndexError\u001b[0m                                Traceback (most recent call last)",
      "\u001b[1;32m<ipython-input-1-9e5610cd09ae>\u001b[0m in \u001b[0;36m<module>\u001b[1;34m\u001b[0m\n\u001b[0;32m     15\u001b[0m             \u001b[0mdriver\u001b[0m\u001b[1;33m.\u001b[0m\u001b[0mfind_elements_by_xpath\u001b[0m\u001b[1;33m(\u001b[0m\u001b[1;34m'//section/div'\u001b[0m\u001b[1;33m)\u001b[0m\u001b[1;33m[\u001b[0m\u001b[0ma\u001b[0m\u001b[1;33m]\u001b[0m\u001b[1;33m.\u001b[0m\u001b[0mclick\u001b[0m\u001b[1;33m(\u001b[0m\u001b[1;33m)\u001b[0m\u001b[1;33m\u001b[0m\u001b[1;33m\u001b[0m\u001b[0m\n\u001b[0;32m     16\u001b[0m             \u001b[0mtime\u001b[0m\u001b[1;33m.\u001b[0m\u001b[0msleep\u001b[0m\u001b[1;33m(\u001b[0m\u001b[1;36m10\u001b[0m\u001b[1;33m)\u001b[0m\u001b[1;33m\u001b[0m\u001b[1;33m\u001b[0m\u001b[0m\n\u001b[1;32m---> 17\u001b[1;33m             \u001b[0mmatch\u001b[0m \u001b[1;33m=\u001b[0m \u001b[0mdriver\u001b[0m\u001b[1;33m.\u001b[0m\u001b[0mfind_elements_by_class_name\u001b[0m\u001b[1;33m(\u001b[0m\u001b[1;34m'MuiCollapse-wrapperInner'\u001b[0m\u001b[1;33m)\u001b[0m\u001b[1;33m[\u001b[0m\u001b[1;36m2\u001b[0m\u001b[1;33m]\u001b[0m\u001b[1;33m.\u001b[0m\u001b[0mtext\u001b[0m\u001b[1;33m.\u001b[0m\u001b[0msplit\u001b[0m\u001b[1;33m(\u001b[0m\u001b[1;34m'\\n'\u001b[0m\u001b[1;33m)\u001b[0m\u001b[1;33m\u001b[0m\u001b[1;33m\u001b[0m\u001b[0m\n\u001b[0m\u001b[0;32m     18\u001b[0m             \u001b[0mTeam1\u001b[0m\u001b[1;33m,\u001b[0m \u001b[0mWin1\u001b[0m\u001b[1;33m,\u001b[0m \u001b[0mDraw\u001b[0m\u001b[1;33m,\u001b[0m \u001b[0mTeam2\u001b[0m\u001b[1;33m,\u001b[0m \u001b[0mWin2\u001b[0m \u001b[1;33m=\u001b[0m \u001b[0mmatch\u001b[0m\u001b[1;33m[\u001b[0m\u001b[1;36m0\u001b[0m\u001b[1;33m]\u001b[0m\u001b[1;33m,\u001b[0m \u001b[0mmatch\u001b[0m\u001b[1;33m[\u001b[0m\u001b[1;36m1\u001b[0m\u001b[1;33m]\u001b[0m\u001b[1;33m,\u001b[0m \u001b[0mmatch\u001b[0m\u001b[1;33m[\u001b[0m\u001b[1;36m3\u001b[0m\u001b[1;33m]\u001b[0m\u001b[1;33m,\u001b[0m \u001b[0mmatch\u001b[0m\u001b[1;33m[\u001b[0m\u001b[1;36m4\u001b[0m\u001b[1;33m]\u001b[0m\u001b[1;33m,\u001b[0m \u001b[0mmatch\u001b[0m\u001b[1;33m[\u001b[0m\u001b[1;36m5\u001b[0m\u001b[1;33m]\u001b[0m\u001b[1;33m\u001b[0m\u001b[1;33m\u001b[0m\u001b[0m\n\u001b[0;32m     19\u001b[0m \u001b[1;33m\u001b[0m\u001b[0m\n",
      "\u001b[1;31mIndexError\u001b[0m: list index out of range"
     ]
    }
   ],
   "source": [
    "from selenium import webdriver\n",
    "from webdriver_manager.chrome import ChromeDriverManager\n",
    "from selenium.webdriver.common.keys import Keys\n",
    "import time\n",
    "driver = webdriver.Chrome()\n",
    "# leagues = ['100/England/English-Premier-League/36715', '100/Spain/Spanish-La-Liga/27225', '100/Spain/LaLiga-1-2-3/27254', '100/Italy/Italian-Serie-A/27245', '100/France/Ligue-1-Orange/27235', '100/Germany/Bundesliga/27243', '100/Belgium/Belgium-First-Division-A/39483', '100/Brazil/Série-A/30096', '100/Brazil/Série-B/30102', '100/Chile/Campeonato-Nacional-Scotiabank/27244', '100/Japan/J.-League-2/27251', '100/Netherlands/Eredivisie/27236', '']\n",
    "\n",
    "leagues = ['https://www.bluebet.com.au/sports/Soccer/100/England/English-Premier-League/36715', 'https://www.bluebet.com.au/sports/Soccer/100/England/EFL-Carabao-Cup/37492', 'https://www.bluebet.com.au/sports/Soccer/100/England/Sky-Bet-League-1/36322', 'https://www.bluebet.com.au/sports/Soccer/100/England/Sky-Bet-League-2/36323']\n",
    "for i in leagues:\n",
    "    driver.get(f'https://www.bluebet.com.au/sports/Soccer/{i}')\n",
    "    driver.implicitly_wait(100)\n",
    "    time.sleep(5)\n",
    "    \n",
    "    for a in range(len(driver.find_elements_by_xpath('//section/div'))):\n",
    "        if 'Markets' in driver.find_elements_by_xpath('//section/div')[a].text:\n",
    "            driver.find_elements_by_xpath('//section/div')[a].click()\n",
    "            time.sleep(5)\n",
    "            match = driver.find_elements_by_class_name('MuiCollapse-wrapperInner')[2].text.split('\\n')\n",
    "            Team1, Win1, Draw, Team2, Win2 = match[0], match[1], match[3], match[4], match[5]\n",
    "\n",
    "            Over_Under = []\n",
    "            for k in range(len(driver.find_elements_by_xpath(\"//*[@id='__next']/div[1]/main/div[3]/section/nav/div\"))):\n",
    "                if 'Goal Markets' in driver.find_elements_by_xpath(\"//*[@id='__next']/div[1]/main/div[3]/section/nav/div\")[k].text:\n",
    "                    driver.find_elements_by_xpath(\"//*[@id='__next']/div[1]/main/div[3]/section/nav/div\")[k].click()\n",
    "                    break\n",
    "            for b in range(len(driver.find_elements_by_xpath(f\"//*[@id='__next']/div[1]/main/div[3]/section/nav/div{[k+2]}/div/div/nav\"))):\n",
    "                OU = driver.find_elements_by_xpath(f\"//*[@id='__next']/div[1]/main/div[3]/section/nav/div{[k+2]}/div/div/nav\")[b].text.split('\\n')\n",
    "                if OU[0] == 'Over/Under':\n",
    "                    del OU[0]\n",
    "                    for i in OU:\n",
    "                        Over_Under.append(i)\n",
    "\n",
    "            driver.back()\n",
    "            time.sleep(5)\n",
    "            print(f\"BET{a} ---> {Team1} vs {Team2} | Win: {Win1}/ Draws: {Draw}/ Win: {Win2} & {Over_Under}\")"
   ]
  },
  {
   "cell_type": "code",
   "execution_count": null,
   "id": "3432dbf5",
   "metadata": {},
   "outputs": [],
   "source": []
  }
 ],
 "metadata": {
  "kernelspec": {
   "display_name": "Python 3",
   "language": "python",
   "name": "python3"
  },
  "language_info": {
   "codemirror_mode": {
    "name": "ipython",
    "version": 3
   },
   "file_extension": ".py",
   "mimetype": "text/x-python",
   "name": "python",
   "nbconvert_exporter": "python",
   "pygments_lexer": "ipython3",
   "version": "3.8.8"
  }
 },
 "nbformat": 4,
 "nbformat_minor": 5
}
